{
 "cells": [
  {
   "cell_type": "markdown",
   "metadata": {},
   "source": [
    "# Procesando archivos y bases de datos con Python \n",
    "\n",
    "Material original en inglés: Python Data Science Handbook (https://github.com/jakevdp/PythonDataScienceHandbook)\n",
    "\n",
    "Traducido/Adaptado por [G.F. Rubilar] y [S. Niklitschek]."
   ]
  },
  {
   "cell_type": "markdown",
   "metadata": {},
   "source": [
    "## Este módulo entregará las herramientas para:\n",
    "\n",
    "1. Lectura y escritura de archivos con funciones propias de python\n",
    "2. Lectura y escritura de archivos con funciones de numpy: loadtxt, getfromtxt etc\n",
    "3. Introducción al uso de base de datos con Pandas"
   ]
  },
  {
   "cell_type": "code",
   "execution_count": 3,
   "metadata": {
    "collapsed": true
   },
   "outputs": [],
   "source": [
    "import matplotlib.pyplot as plt\n",
    "import numpy as np\n",
    "%matplotlib inline"
   ]
  },
  {
   "cell_type": "markdown",
   "metadata": {},
   "source": [
    "# 1. Procesamiento de archivos con la función open y close de python"
   ]
  },
  {
   "cell_type": "markdown",
   "metadata": {},
   "source": [
    "Vamos a trabajar con el archivo *posicion_velocidad.dat* que contiene la velocidad en km/h de un auto medida en distintos puntos de su  trayectoria expresada en km. Este archivo se encuentra en el repositorio en el directorio _Data/Clases_\n",
    "\n",
    "```\n",
    "0.0  30\n",
    "0.8  50\n",
    "1.5  43.2\n",
    "2.0  20.0\n",
    "2.6  42.1\n",
    "```"
   ]
  },
  {
   "cell_type": "markdown",
   "metadata": {},
   "source": [
    "Primero abrimos un objeto con la ubicación (ruta) en donde se encuentra el archivo."
   ]
  },
  {
   "cell_type": "code",
   "execution_count": 4,
   "metadata": {
    "collapsed": true
   },
   "outputs": [],
   "source": [
    "str_archivo = 'Data/Clases/posicion_velocidad.dat'\n",
    "f = open(str_archivo)"
   ]
  },
  {
   "cell_type": "markdown",
   "metadata": {},
   "source": [
    "Obtener información sobre el objeto que apunta al archivo"
   ]
  },
  {
   "cell_type": "code",
   "execution_count": 5,
   "metadata": {},
   "outputs": [
    {
     "data": {
      "text/plain": [
       "'Data/Clases/posicion_velocidad.dat'"
      ]
     },
     "execution_count": 5,
     "metadata": {},
     "output_type": "execute_result"
    }
   ],
   "source": [
    "f.name"
   ]
  },
  {
   "cell_type": "code",
   "execution_count": 6,
   "metadata": {},
   "outputs": [
    {
     "data": {
      "text/plain": [
       "'r'"
      ]
     },
     "execution_count": 6,
     "metadata": {},
     "output_type": "execute_result"
    }
   ],
   "source": [
    "f.mode"
   ]
  },
  {
   "cell_type": "markdown",
   "metadata": {},
   "source": [
    "Por defecto los archivos se abren en modo de lectura solamente(read). Otros modos son w (write=escritura), a (append=agregar)"
   ]
  },
  {
   "cell_type": "markdown",
   "metadata": {},
   "source": [
    "### Usamos el método _read_ del objeto f para leer el contenido."
   ]
  },
  {
   "cell_type": "code",
   "execution_count": 7,
   "metadata": {
    "collapsed": true
   },
   "outputs": [],
   "source": [
    "data = f.read()"
   ]
  },
  {
   "cell_type": "code",
   "execution_count": 8,
   "metadata": {},
   "outputs": [
    {
     "data": {
      "text/plain": [
       "'0.0  30\\n0.8  50\\n1.5  43.2\\n2.0  20.0\\n2.6  42.1\\n'"
      ]
     },
     "execution_count": 8,
     "metadata": {},
     "output_type": "execute_result"
    }
   ],
   "source": [
    "data"
   ]
  },
  {
   "cell_type": "markdown",
   "metadata": {},
   "source": [
    "Si queremos volver a leer el contenido"
   ]
  },
  {
   "cell_type": "code",
   "execution_count": 9,
   "metadata": {
    "collapsed": true
   },
   "outputs": [],
   "source": [
    "data = f.read()"
   ]
  },
  {
   "cell_type": "code",
   "execution_count": 10,
   "metadata": {},
   "outputs": [
    {
     "data": {
      "text/plain": [
       "''"
      ]
     },
     "execution_count": 10,
     "metadata": {},
     "output_type": "execute_result"
    }
   ],
   "source": [
    "data"
   ]
  },
  {
   "cell_type": "markdown",
   "metadata": {},
   "source": [
    "**Problema:** El archivo se procesa una vez y después se llego al final del archivo.\n",
    "Cerramos el objeto y volvemos a abrirlo para partir de nuevo."
   ]
  },
  {
   "cell_type": "code",
   "execution_count": 11,
   "metadata": {
    "collapsed": true
   },
   "outputs": [],
   "source": [
    "f.close()"
   ]
  },
  {
   "cell_type": "code",
   "execution_count": 12,
   "metadata": {
    "collapsed": true
   },
   "outputs": [],
   "source": [
    "f = open(str_archivo)"
   ]
  },
  {
   "cell_type": "markdown",
   "metadata": {},
   "source": [
    "### Ahora usamos método readline para leer el archivo"
   ]
  },
  {
   "cell_type": "code",
   "execution_count": 13,
   "metadata": {
    "collapsed": true
   },
   "outputs": [],
   "source": [
    "f.readline?"
   ]
  },
  {
   "cell_type": "code",
   "execution_count": 14,
   "metadata": {
    "collapsed": true
   },
   "outputs": [],
   "source": [
    "line = f.readline()"
   ]
  },
  {
   "cell_type": "code",
   "execution_count": 15,
   "metadata": {},
   "outputs": [
    {
     "data": {
      "text/plain": [
       "'0.0  30\\n'"
      ]
     },
     "execution_count": 15,
     "metadata": {},
     "output_type": "execute_result"
    }
   ],
   "source": [
    "line"
   ]
  },
  {
   "cell_type": "code",
   "execution_count": 16,
   "metadata": {},
   "outputs": [
    {
     "data": {
      "text/plain": [
       "['0.0', '30']"
      ]
     },
     "execution_count": 16,
     "metadata": {},
     "output_type": "execute_result"
    }
   ],
   "source": [
    "line.split()"
   ]
  },
  {
   "cell_type": "code",
   "execution_count": 17,
   "metadata": {},
   "outputs": [
    {
     "data": {
      "text/plain": [
       "'0.0'"
      ]
     },
     "execution_count": 17,
     "metadata": {},
     "output_type": "execute_result"
    }
   ],
   "source": [
    "x = line.split()[0]\n",
    "x"
   ]
  },
  {
   "cell_type": "code",
   "execution_count": 18,
   "metadata": {},
   "outputs": [
    {
     "data": {
      "text/plain": [
       "('0.0', '30')"
      ]
     },
     "execution_count": 18,
     "metadata": {},
     "output_type": "execute_result"
    }
   ],
   "source": [
    "line.split()[0], line.split()[1]"
   ]
  },
  {
   "cell_type": "markdown",
   "metadata": {},
   "source": [
    "Volvemos a ejecutar readline para leer próxima linea."
   ]
  },
  {
   "cell_type": "code",
   "execution_count": 19,
   "metadata": {
    "collapsed": true
   },
   "outputs": [],
   "source": [
    "line = f.readline()"
   ]
  },
  {
   "cell_type": "code",
   "execution_count": 20,
   "metadata": {},
   "outputs": [
    {
     "data": {
      "text/plain": [
       "'0.8  50\\n'"
      ]
     },
     "execution_count": 20,
     "metadata": {},
     "output_type": "execute_result"
    }
   ],
   "source": [
    "line"
   ]
  },
  {
   "cell_type": "code",
   "execution_count": 21,
   "metadata": {
    "collapsed": true
   },
   "outputs": [],
   "source": [
    "f.close()"
   ]
  },
  {
   "cell_type": "markdown",
   "metadata": {},
   "source": [
    "**También podemos leer todas las líneas de una vez en una lista de strings con la función _readlines_**"
   ]
  },
  {
   "cell_type": "markdown",
   "metadata": {},
   "source": [
    "A diferencia de _read_ esto crea una lista de strings y no un string entero."
   ]
  },
  {
   "cell_type": "code",
   "execution_count": 22,
   "metadata": {
    "collapsed": true
   },
   "outputs": [],
   "source": [
    "f = open(str_archivo)"
   ]
  },
  {
   "cell_type": "code",
   "execution_count": 23,
   "metadata": {
    "collapsed": true
   },
   "outputs": [],
   "source": [
    "lines = f.readlines()"
   ]
  },
  {
   "cell_type": "code",
   "execution_count": 24,
   "metadata": {},
   "outputs": [
    {
     "data": {
      "text/plain": [
       "['0.0  30\\n', '0.8  50\\n', '1.5  43.2\\n', '2.0  20.0\\n', '2.6  42.1\\n']"
      ]
     },
     "execution_count": 24,
     "metadata": {},
     "output_type": "execute_result"
    }
   ],
   "source": [
    "lines"
   ]
  },
  {
   "cell_type": "code",
   "execution_count": 25,
   "metadata": {},
   "outputs": [
    {
     "data": {
      "text/plain": [
       "'0.0  30\\n'"
      ]
     },
     "execution_count": 25,
     "metadata": {},
     "output_type": "execute_result"
    }
   ],
   "source": [
    "lines[0]"
   ]
  },
  {
   "cell_type": "code",
   "execution_count": 26,
   "metadata": {},
   "outputs": [
    {
     "data": {
      "text/plain": [
       "['0.0', '30']"
      ]
     },
     "execution_count": 26,
     "metadata": {},
     "output_type": "execute_result"
    }
   ],
   "source": [
    "lines[0].split()"
   ]
  },
  {
   "cell_type": "code",
   "execution_count": 27,
   "metadata": {
    "collapsed": true
   },
   "outputs": [],
   "source": [
    "f.close()"
   ]
  },
  {
   "cell_type": "markdown",
   "metadata": {},
   "source": [
    "**Ahora vamos a leer el contenido en dos variables que muestran la posición (x) y la velocidad (v).**"
   ]
  },
  {
   "cell_type": "code",
   "execution_count": 231,
   "metadata": {
    "collapsed": true
   },
   "outputs": [],
   "source": [
    "f = open(str_archivo)"
   ]
  },
  {
   "cell_type": "markdown",
   "metadata": {},
   "source": [
    "Cuando usamos un bucle sobre el objeto f se ejecuta la función _readline_ en cada vuelta del bucle."
   ]
  },
  {
   "cell_type": "code",
   "execution_count": 232,
   "metadata": {
    "collapsed": true
   },
   "outputs": [],
   "source": [
    "for line in f:\n",
    "    x = line.split()[0]\n",
    "    v = line.split()[1]"
   ]
  },
  {
   "cell_type": "code",
   "execution_count": 233,
   "metadata": {},
   "outputs": [
    {
     "data": {
      "text/plain": [
       "'2.6'"
      ]
     },
     "execution_count": 233,
     "metadata": {},
     "output_type": "execute_result"
    }
   ],
   "source": [
    "x"
   ]
  },
  {
   "cell_type": "markdown",
   "metadata": {},
   "source": [
    "De esta forma se leen linea por linea.\n",
    "**Pero la variable se sobreescribe.**\n",
    "Por eso debemos trabajar con una lista"
   ]
  },
  {
   "cell_type": "code",
   "execution_count": 29,
   "metadata": {
    "collapsed": true
   },
   "outputs": [],
   "source": [
    "f.close()\n",
    "f = open(str_archivo)"
   ]
  },
  {
   "cell_type": "code",
   "execution_count": 30,
   "metadata": {
    "collapsed": true
   },
   "outputs": [],
   "source": [
    "x = []\n",
    "v = []"
   ]
  },
  {
   "cell_type": "code",
   "execution_count": 31,
   "metadata": {
    "collapsed": true
   },
   "outputs": [],
   "source": [
    "for line in f:\n",
    "    x.append(line.split()[0])\n",
    "    v.append(line.split()[1])"
   ]
  },
  {
   "cell_type": "code",
   "execution_count": 32,
   "metadata": {},
   "outputs": [
    {
     "data": {
      "text/plain": [
       "['0.0', '0.8', '1.5', '2.0', '2.6']"
      ]
     },
     "execution_count": 32,
     "metadata": {},
     "output_type": "execute_result"
    }
   ],
   "source": [
    "x"
   ]
  },
  {
   "cell_type": "code",
   "execution_count": 33,
   "metadata": {},
   "outputs": [
    {
     "data": {
      "text/plain": [
       "str"
      ]
     },
     "execution_count": 33,
     "metadata": {},
     "output_type": "execute_result"
    }
   ],
   "source": [
    "type(x[0])"
   ]
  },
  {
   "cell_type": "code",
   "execution_count": 34,
   "metadata": {},
   "outputs": [
    {
     "data": {
      "text/plain": [
       "['30', '50', '43.2', '20.0', '42.1']"
      ]
     },
     "execution_count": 34,
     "metadata": {},
     "output_type": "execute_result"
    }
   ],
   "source": [
    "v"
   ]
  },
  {
   "cell_type": "code",
   "execution_count": 35,
   "metadata": {},
   "outputs": [
    {
     "data": {
      "text/plain": [
       "str"
      ]
     },
     "execution_count": 35,
     "metadata": {},
     "output_type": "execute_result"
    }
   ],
   "source": [
    "type(v[0])"
   ]
  },
  {
   "cell_type": "markdown",
   "metadata": {},
   "source": [
    "** Realizamos un gráfico de la velocidad contra la posición de la trayectoria en el cual se midio**"
   ]
  },
  {
   "cell_type": "code",
   "execution_count": 36,
   "metadata": {},
   "outputs": [
    {
     "data": {
      "text/plain": [
       "[<matplotlib.lines.Line2D at 0x10e97c2b0>]"
      ]
     },
     "execution_count": 36,
     "metadata": {},
     "output_type": "execute_result"
    },
    {
     "data": {
      "image/png": "[encoded data removed]",
      "text/plain": [
       "<matplotlib.figure.Figure at 0x112119ac8>"
      ]
     },
     "metadata": {},
     "output_type": "display_data"
    }
   ],
   "source": [
    "plt.plot(x,v,'o--')"
   ]
  },
  {
   "cell_type": "markdown",
   "metadata": {},
   "source": [
    "** Supongamos que se nos solicita graficar velocidad pero en función de la posición en metros.**"
   ]
  },
  {
   "cell_type": "code",
   "execution_count": 37,
   "metadata": {
    "collapsed": true
   },
   "outputs": [],
   "source": [
    "x_m = []\n",
    "for i in range(len(x)):\n",
    "    x_m.append(x[i]*1000)"
   ]
  },
  {
   "cell_type": "code",
   "execution_count": 38,
   "metadata": {},
   "outputs": [
    {
     "data": {
      "text/plain": [
       "['0.00.00.00.00.00.00.00.00.00.00.00.00.00.00.00.00.00.00.00.00.00.00.00.00.00.00.00.00.00.00.00.00.00.00.00.00.00.00.00.00.00.00.00.00.00.00.00.00.00.00.00.00.00.00.00.00.00.00.00.00.00.00.00.00.00.00.00.00.00.00.00.00.00.00.00.00.00.00.00.00.00.00.00.00.00.00.00.00.00.00.00.00.00.00.00.00.00.00.00.00.00.00.00.00.00.00.00.00.00.00.00.00.00.00.00.00.00.00.00.00.00.00.00.00.00.00.00.00.00.00.00.00.00.00.00.00.00.00.00.00.00.00.00.00.00.00.00.00.00.00.00.00.00.00.00.00.00.00.00.00.00.00.00.00.00.00.00.00.00.00.00.00.00.00.00.00.00.00.00.00.00.00.00.00.00.00.00.00.00.00.00.00.00.00.00.00.00.00.00.00.00.00.00.00.00.00.00.00.00.00.00.00.00.00.00.00.00.00.00.00.00.00.00.00.00.00.00.00.00.00.00.00.00.00.00.00.00.00.00.00.00.00.00.00.00.00.00.00.00.00.00.00.00.00.00.00.00.00.00.00.00.00.00.00.00.00.00.00.00.00.00.00.00.00.00.00.00.00.00.00.00.00.00.00.00.00.00.00.00.00.00.00.00.00.00.00.00.00.00.00.00.00.00.00.00.00.00.00.00.00.00.00.00.00.00.00.00.00.00.00.00.00.00.00.00.00.00.00.00.00.00.00.00.00.00.00.00.00.00.00.00.00.00.00.00.00.00.00.00.00.00.00.00.00.00.00.00.00.00.00.00.00.00.00.00.00.00.00.00.00.00.00.00.00.00.00.00.00.00.00.00.00.00.00.00.00.00.00.00.00.00.00.00.00.00.00.00.00.00.00.00.00.00.00.00.00.00.00.00.00.00.00.00.00.00.00.00.00.00.00.00.00.00.00.00.00.00.00.00.00.00.00.00.00.00.00.00.00.00.00.00.00.00.00.00.00.00.00.00.00.00.00.00.00.00.00.00.00.00.00.00.00.00.00.00.00.00.00.00.00.00.00.00.00.00.00.00.00.00.00.00.00.00.00.00.00.00.00.00.00.00.00.00.00.00.00.00.00.00.00.00.00.00.00.00.00.00.00.00.00.00.00.00.00.00.00.00.00.00.00.00.00.00.00.00.00.00.00.00.00.00.00.00.00.00.00.00.00.00.00.00.00.00.00.00.00.00.00.00.00.00.00.00.00.00.00.00.00.00.00.00.00.00.00.00.00.00.00.00.00.00.00.00.00.00.00.00.00.00.00.00.00.00.00.00.00.00.00.00.00.00.00.00.00.00.00.00.00.00.00.00.00.00.00.00.00.00.00.00.00.00.00.00.00.00.00.00.00.00.00.00.00.00.00.00.00.00.00.00.00.00.00.00.00.00.00.00.00.00.00.00.00.00.00.00.00.00.00.00.00.00.00.00.00.00.00.00.00.00.00.00.00.00.00.00.00.00.00.00.00.00.00.00.00.00.00.00.00.00.00.00.00.00.00.00.00.00.00.00.00.00.00.00.00.00.00.00.00.00.00.00.00.00.00.00.00.00.00.00.00.00.00.00.00.00.00.00.00.00.00.00.00.00.00.00.00.00.00.00.00.00.00.00.00.00.00.00.00.00.00.00.00.00.00.00.00.00.00.00.00.00.00.00.00.00.00.00.00.00.00.00.00.00.00.00.00.00.00.00.00.00.00.00.00.00.00.00.00.00.00.00.00.00.00.00.00.00.00.00.00.00.00.00.00.00.00.00.00.00.00.00.00.00.00.00.00.00.00.00.00.00.00.00.00.00.00.00.00.00.00.00.00.00.00.00.00.00.00.00.00.00.00.00.00.00.00.00.00.00.00.00.00.00.00.00.00.00.00.00.00.00.00.00.00.00.00.00.00.00.00.00.00.00.00.00.00.00.00.00.00.00.00.00.00.00.00.00.00.00.00.00.00.00.00.00.00.00.00.00.00.00.00.00.00.00.00.00.00.00.00.00.00.00.00.00.00.00.00.00.00.00.00.00.00.00.00.00.00.00.00.00.00.00.00.00.00.00.00.00.00.00.00.00.00.00.00.00.00.00.00.00.00.00.00.00.00.00.00.00.00.00.00.00.00.00.00.00.00.00.00.00.00.00.00.00.00.00.00.00.00.00.00.00.00.00.00.00.00.00.00.00.00.00.00.00.00.00.00.00.00.00.00.00.00.00.00.00.00.00.0',\n",
       " '0.80.80.80.80.80.80.80.80.80.80.80.80.80.80.80.80.80.80.80.80.80.80.80.80.80.80.80.80.80.80.80.80.80.80.80.80.80.80.80.80.80.80.80.80.80.80.80.80.80.80.80.80.80.80.80.80.80.80.80.80.80.80.80.80.80.80.80.80.80.80.80.80.80.80.80.80.80.80.80.80.80.80.80.80.80.80.80.80.80.80.80.80.80.80.80.80.80.80.80.80.80.80.80.80.80.80.80.80.80.80.80.80.80.80.80.80.80.80.80.80.80.80.80.80.80.80.80.80.80.80.80.80.80.80.80.80.80.80.80.80.80.80.80.80.80.80.80.80.80.80.80.80.80.80.80.80.80.80.80.80.80.80.80.80.80.80.80.80.80.80.80.80.80.80.80.80.80.80.80.80.80.80.80.80.80.80.80.80.80.80.80.80.80.80.80.80.80.80.80.80.80.80.80.80.80.80.80.80.80.80.80.80.80.80.80.80.80.80.80.80.80.80.80.80.80.80.80.80.80.80.80.80.80.80.80.80.80.80.80.80.80.80.80.80.80.80.80.80.80.80.80.80.80.80.80.80.80.80.80.80.80.80.80.80.80.80.80.80.80.80.80.80.80.80.80.80.80.80.80.80.80.80.80.80.80.80.80.80.80.80.80.80.80.80.80.80.80.80.80.80.80.80.80.80.80.80.80.80.80.80.80.80.80.80.80.80.80.80.80.80.80.80.80.80.80.80.80.80.80.80.80.80.80.80.80.80.80.80.80.80.80.80.80.80.80.80.80.80.80.80.80.80.80.80.80.80.80.80.80.80.80.80.80.80.80.80.80.80.80.80.80.80.80.80.80.80.80.80.80.80.80.80.80.80.80.80.80.80.80.80.80.80.80.80.80.80.80.80.80.80.80.80.80.80.80.80.80.80.80.80.80.80.80.80.80.80.80.80.80.80.80.80.80.80.80.80.80.80.80.80.80.80.80.80.80.80.80.80.80.80.80.80.80.80.80.80.80.80.80.80.80.80.80.80.80.80.80.80.80.80.80.80.80.80.80.80.80.80.80.80.80.80.80.80.80.80.80.80.80.80.80.80.80.80.80.80.80.80.80.80.80.80.80.80.80.80.80.80.80.80.80.80.80.80.80.80.80.80.80.80.80.80.80.80.80.80.80.80.80.80.80.80.80.80.80.80.80.80.80.80.80.80.80.80.80.80.80.80.80.80.80.80.80.80.80.80.80.80.80.80.80.80.80.80.80.80.80.80.80.80.80.80.80.80.80.80.80.80.80.80.80.80.80.80.80.80.80.80.80.80.80.80.80.80.80.80.80.80.80.80.80.80.80.80.80.80.80.80.80.80.80.80.80.80.80.80.80.80.80.80.80.80.80.80.80.80.80.80.80.80.80.80.80.80.80.80.80.80.80.80.80.80.80.80.80.80.80.80.80.80.80.80.80.80.80.80.80.80.80.80.80.80.80.80.80.80.80.80.80.80.80.80.80.80.80.80.80.80.80.80.80.80.80.80.80.80.80.80.80.80.80.80.80.80.80.80.80.80.80.80.80.80.80.80.80.80.80.80.80.80.80.80.80.80.80.80.80.80.80.80.80.80.80.80.80.80.80.80.80.80.80.80.80.80.80.80.80.80.80.80.80.80.80.80.80.80.80.80.80.80.80.80.80.80.80.80.80.80.80.80.80.80.80.80.80.80.80.80.80.80.80.80.80.80.80.80.80.80.80.80.80.80.80.80.80.80.80.80.80.80.80.80.80.80.80.80.80.80.80.80.80.80.80.80.80.80.80.80.80.80.80.80.80.80.80.80.80.80.80.80.80.80.80.80.80.80.80.80.80.80.80.80.80.80.80.80.80.80.80.80.80.80.80.80.80.80.80.80.80.80.80.80.80.80.80.80.80.80.80.80.80.80.80.80.80.80.80.80.80.80.80.80.80.80.80.80.80.80.80.80.80.80.80.80.80.80.80.80.80.80.80.80.80.80.80.80.80.80.80.80.80.80.80.80.80.80.80.80.80.80.80.80.80.80.80.80.80.80.80.80.80.80.80.80.80.80.80.80.80.80.80.80.80.80.80.80.80.80.80.80.80.80.80.80.80.80.80.80.80.80.80.80.80.80.80.80.80.80.80.80.80.80.80.80.80.80.80.80.80.80.80.80.80.80.80.80.80.80.80.80.80.80.80.80.80.80.80.80.80.80.80.80.80.80.80.80.80.80.80.80.80.80.80.80.80.80.80.80.80.8',\n",
       " '1.51.51.51.51.51.51.51.51.51.51.51.51.51.51.51.51.51.51.51.51.51.51.51.51.51.51.51.51.51.51.51.51.51.51.51.51.51.51.51.51.51.51.51.51.51.51.51.51.51.51.51.51.51.51.51.51.51.51.51.51.51.51.51.51.51.51.51.51.51.51.51.51.51.51.51.51.51.51.51.51.51.51.51.51.51.51.51.51.51.51.51.51.51.51.51.51.51.51.51.51.51.51.51.51.51.51.51.51.51.51.51.51.51.51.51.51.51.51.51.51.51.51.51.51.51.51.51.51.51.51.51.51.51.51.51.51.51.51.51.51.51.51.51.51.51.51.51.51.51.51.51.51.51.51.51.51.51.51.51.51.51.51.51.51.51.51.51.51.51.51.51.51.51.51.51.51.51.51.51.51.51.51.51.51.51.51.51.51.51.51.51.51.51.51.51.51.51.51.51.51.51.51.51.51.51.51.51.51.51.51.51.51.51.51.51.51.51.51.51.51.51.51.51.51.51.51.51.51.51.51.51.51.51.51.51.51.51.51.51.51.51.51.51.51.51.51.51.51.51.51.51.51.51.51.51.51.51.51.51.51.51.51.51.51.51.51.51.51.51.51.51.51.51.51.51.51.51.51.51.51.51.51.51.51.51.51.51.51.51.51.51.51.51.51.51.51.51.51.51.51.51.51.51.51.51.51.51.51.51.51.51.51.51.51.51.51.51.51.51.51.51.51.51.51.51.51.51.51.51.51.51.51.51.51.51.51.51.51.51.51.51.51.51.51.51.51.51.51.51.51.51.51.51.51.51.51.51.51.51.51.51.51.51.51.51.51.51.51.51.51.51.51.51.51.51.51.51.51.51.51.51.51.51.51.51.51.51.51.51.51.51.51.51.51.51.51.51.51.51.51.51.51.51.51.51.51.51.51.51.51.51.51.51.51.51.51.51.51.51.51.51.51.51.51.51.51.51.51.51.51.51.51.51.51.51.51.51.51.51.51.51.51.51.51.51.51.51.51.51.51.51.51.51.51.51.51.51.51.51.51.51.51.51.51.51.51.51.51.51.51.51.51.51.51.51.51.51.51.51.51.51.51.51.51.51.51.51.51.51.51.51.51.51.51.51.51.51.51.51.51.51.51.51.51.51.51.51.51.51.51.51.51.51.51.51.51.51.51.51.51.51.51.51.51.51.51.51.51.51.51.51.51.51.51.51.51.51.51.51.51.51.51.51.51.51.51.51.51.51.51.51.51.51.51.51.51.51.51.51.51.51.51.51.51.51.51.51.51.51.51.51.51.51.51.51.51.51.51.51.51.51.51.51.51.51.51.51.51.51.51.51.51.51.51.51.51.51.51.51.51.51.51.51.51.51.51.51.51.51.51.51.51.51.51.51.51.51.51.51.51.51.51.51.51.51.51.51.51.51.51.51.51.51.51.51.51.51.51.51.51.51.51.51.51.51.51.51.51.51.51.51.51.51.51.51.51.51.51.51.51.51.51.51.51.51.51.51.51.51.51.51.51.51.51.51.51.51.51.51.51.51.51.51.51.51.51.51.51.51.51.51.51.51.51.51.51.51.51.51.51.51.51.51.51.51.51.51.51.51.51.51.51.51.51.51.51.51.51.51.51.51.51.51.51.51.51.51.51.51.51.51.51.51.51.51.51.51.51.51.51.51.51.51.51.51.51.51.51.51.51.51.51.51.51.51.51.51.51.51.51.51.51.51.51.51.51.51.51.51.51.51.51.51.51.51.51.51.51.51.51.51.51.51.51.51.51.51.51.51.51.51.51.51.51.51.51.51.51.51.51.51.51.51.51.51.51.51.51.51.51.51.51.51.51.51.51.51.51.51.51.51.51.51.51.51.51.51.51.51.51.51.51.51.51.51.51.51.51.51.51.51.51.51.51.51.51.51.51.51.51.51.51.51.51.51.51.51.51.51.51.51.51.51.51.51.51.51.51.51.51.51.51.51.51.51.51.51.51.51.51.51.51.51.51.51.51.51.51.51.51.51.51.51.51.51.51.51.51.51.51.51.51.51.51.51.51.51.51.51.51.51.51.51.51.51.51.51.51.51.51.51.51.51.51.51.51.51.51.51.51.51.51.51.51.51.51.51.51.51.51.51.51.51.51.51.51.51.51.51.51.51.51.51.51.51.51.51.51.51.51.51.51.51.51.51.51.51.51.51.51.51.51.51.51.51.51.51.51.51.51.51.51.51.51.51.51.51.51.51.51.51.51.51.51.51.51.51.51.51.5',\n",
       " '2.02.02.02.02.02.02.02.02.02.02.02.02.02.02.02.02.02.02.02.02.02.02.02.02.02.02.02.02.02.02.02.02.02.02.02.02.02.02.02.02.02.02.02.02.02.02.02.02.02.02.02.02.02.02.02.02.02.02.02.02.02.02.02.02.02.02.02.02.02.02.02.02.02.02.02.02.02.02.02.02.02.02.02.02.02.02.02.02.02.02.02.02.02.02.02.02.02.02.02.02.02.02.02.02.02.02.02.02.02.02.02.02.02.02.02.02.02.02.02.02.02.02.02.02.02.02.02.02.02.02.02.02.02.02.02.02.02.02.02.02.02.02.02.02.02.02.02.02.02.02.02.02.02.02.02.02.02.02.02.02.02.02.02.02.02.02.02.02.02.02.02.02.02.02.02.02.02.02.02.02.02.02.02.02.02.02.02.02.02.02.02.02.02.02.02.02.02.02.02.02.02.02.02.02.02.02.02.02.02.02.02.02.02.02.02.02.02.02.02.02.02.02.02.02.02.02.02.02.02.02.02.02.02.02.02.02.02.02.02.02.02.02.02.02.02.02.02.02.02.02.02.02.02.02.02.02.02.02.02.02.02.02.02.02.02.02.02.02.02.02.02.02.02.02.02.02.02.02.02.02.02.02.02.02.02.02.02.02.02.02.02.02.02.02.02.02.02.02.02.02.02.02.02.02.02.02.02.02.02.02.02.02.02.02.02.02.02.02.02.02.02.02.02.02.02.02.02.02.02.02.02.02.02.02.02.02.02.02.02.02.02.02.02.02.02.02.02.02.02.02.02.02.02.02.02.02.02.02.02.02.02.02.02.02.02.02.02.02.02.02.02.02.02.02.02.02.02.02.02.02.02.02.02.02.02.02.02.02.02.02.02.02.02.02.02.02.02.02.02.02.02.02.02.02.02.02.02.02.02.02.02.02.02.02.02.02.02.02.02.02.02.02.02.02.02.02.02.02.02.02.02.02.02.02.02.02.02.02.02.02.02.02.02.02.02.02.02.02.02.02.02.02.02.02.02.02.02.02.02.02.02.02.02.02.02.02.02.02.02.02.02.02.02.02.02.02.02.02.02.02.02.02.02.02.02.02.02.02.02.02.02.02.02.02.02.02.02.02.02.02.02.02.02.02.02.02.02.02.02.02.02.02.02.02.02.02.02.02.02.02.02.02.02.02.02.02.02.02.02.02.02.02.02.02.02.02.02.02.02.02.02.02.02.02.02.02.02.02.02.02.02.02.02.02.02.02.02.02.02.02.02.02.02.02.02.02.02.02.02.02.02.02.02.02.02.02.02.02.02.02.02.02.02.02.02.02.02.02.02.02.02.02.02.02.02.02.02.02.02.02.02.02.02.02.02.02.02.02.02.02.02.02.02.02.02.02.02.02.02.02.02.02.02.02.02.02.02.02.02.02.02.02.02.02.02.02.02.02.02.02.02.02.02.02.02.02.02.02.02.02.02.02.02.02.02.02.02.02.02.02.02.02.02.02.02.02.02.02.02.02.02.02.02.02.02.02.02.02.02.02.02.02.02.02.02.02.02.02.02.02.02.02.02.02.02.02.02.02.02.02.02.02.02.02.02.02.02.02.02.02.02.02.02.02.02.02.02.02.02.02.02.02.02.02.02.02.02.02.02.02.02.02.02.02.02.02.02.02.02.02.02.02.02.02.02.02.02.02.02.02.02.02.02.02.02.02.02.02.02.02.02.02.02.02.02.02.02.02.02.02.02.02.02.02.02.02.02.02.02.02.02.02.02.02.02.02.02.02.02.02.02.02.02.02.02.02.02.02.02.02.02.02.02.02.02.02.02.02.02.02.02.02.02.02.02.02.02.02.02.02.02.02.02.02.02.02.02.02.02.02.02.02.02.02.02.02.02.02.02.02.02.02.02.02.02.02.02.02.02.02.02.02.02.02.02.02.02.02.02.02.02.02.02.02.02.02.02.02.02.02.02.02.02.02.02.02.02.02.02.02.02.02.02.02.02.02.02.02.02.02.02.02.02.02.02.02.02.02.02.02.02.02.02.02.02.02.02.02.02.02.02.02.02.02.02.02.02.02.02.02.02.02.02.02.02.02.02.02.02.02.02.02.02.02.02.02.02.02.02.02.02.02.02.02.02.02.02.02.02.02.02.02.02.02.02.02.02.02.02.02.02.02.02.02.02.02.02.02.02.02.02.02.02.02.02.02.02.02.02.02.02.02.02.02.02.02.02.02.02.02.02.02.02.02.02.02.02.02.02.0',\n",
       " '2.62.62.62.62.62.62.62.62.62.62.62.62.62.62.62.62.62.62.62.62.62.62.62.62.62.62.62.62.62.62.62.62.62.62.62.62.62.62.62.62.62.62.62.62.62.62.62.62.62.62.62.62.62.62.62.62.62.62.62.62.62.62.62.62.62.62.62.62.62.62.62.62.62.62.62.62.62.62.62.62.62.62.62.62.62.62.62.62.62.62.62.62.62.62.62.62.62.62.62.62.62.62.62.62.62.62.62.62.62.62.62.62.62.62.62.62.62.62.62.62.62.62.62.62.62.62.62.62.62.62.62.62.62.62.62.62.62.62.62.62.62.62.62.62.62.62.62.62.62.62.62.62.62.62.62.62.62.62.62.62.62.62.62.62.62.62.62.62.62.62.62.62.62.62.62.62.62.62.62.62.62.62.62.62.62.62.62.62.62.62.62.62.62.62.62.62.62.62.62.62.62.62.62.62.62.62.62.62.62.62.62.62.62.62.62.62.62.62.62.62.62.62.62.62.62.62.62.62.62.62.62.62.62.62.62.62.62.62.62.62.62.62.62.62.62.62.62.62.62.62.62.62.62.62.62.62.62.62.62.62.62.62.62.62.62.62.62.62.62.62.62.62.62.62.62.62.62.62.62.62.62.62.62.62.62.62.62.62.62.62.62.62.62.62.62.62.62.62.62.62.62.62.62.62.62.62.62.62.62.62.62.62.62.62.62.62.62.62.62.62.62.62.62.62.62.62.62.62.62.62.62.62.62.62.62.62.62.62.62.62.62.62.62.62.62.62.62.62.62.62.62.62.62.62.62.62.62.62.62.62.62.62.62.62.62.62.62.62.62.62.62.62.62.62.62.62.62.62.62.62.62.62.62.62.62.62.62.62.62.62.62.62.62.62.62.62.62.62.62.62.62.62.62.62.62.62.62.62.62.62.62.62.62.62.62.62.62.62.62.62.62.62.62.62.62.62.62.62.62.62.62.62.62.62.62.62.62.62.62.62.62.62.62.62.62.62.62.62.62.62.62.62.62.62.62.62.62.62.62.62.62.62.62.62.62.62.62.62.62.62.62.62.62.62.62.62.62.62.62.62.62.62.62.62.62.62.62.62.62.62.62.62.62.62.62.62.62.62.62.62.62.62.62.62.62.62.62.62.62.62.62.62.62.62.62.62.62.62.62.62.62.62.62.62.62.62.62.62.62.62.62.62.62.62.62.62.62.62.62.62.62.62.62.62.62.62.62.62.62.62.62.62.62.62.62.62.62.62.62.62.62.62.62.62.62.62.62.62.62.62.62.62.62.62.62.62.62.62.62.62.62.62.62.62.62.62.62.62.62.62.62.62.62.62.62.62.62.62.62.62.62.62.62.62.62.62.62.62.62.62.62.62.62.62.62.62.62.62.62.62.62.62.62.62.62.62.62.62.62.62.62.62.62.62.62.62.62.62.62.62.62.62.62.62.62.62.62.62.62.62.62.62.62.62.62.62.62.62.62.62.62.62.62.62.62.62.62.62.62.62.62.62.62.62.62.62.62.62.62.62.62.62.62.62.62.62.62.62.62.62.62.62.62.62.62.62.62.62.62.62.62.62.62.62.62.62.62.62.62.62.62.62.62.62.62.62.62.62.62.62.62.62.62.62.62.62.62.62.62.62.62.62.62.62.62.62.62.62.62.62.62.62.62.62.62.62.62.62.62.62.62.62.62.62.62.62.62.62.62.62.62.62.62.62.62.62.62.62.62.62.62.62.62.62.62.62.62.62.62.62.62.62.62.62.62.62.62.62.62.62.62.62.62.62.62.62.62.62.62.62.62.62.62.62.62.62.62.62.62.62.62.62.62.62.62.62.62.62.62.62.62.62.62.62.62.62.62.62.62.62.62.62.62.62.62.62.62.62.62.62.62.62.62.62.62.62.62.62.62.62.62.62.62.62.62.62.62.62.62.62.62.62.62.62.62.62.62.62.62.62.62.62.62.62.62.62.62.62.62.62.62.62.62.62.62.62.62.62.62.62.62.62.62.62.62.62.62.62.62.62.62.62.62.62.62.62.62.62.62.62.62.62.62.62.62.62.62.62.62.62.62.62.62.62.62.62.62.62.62.62.62.62.62.62.62.62.62.62.62.62.62.62.62.62.62.62.62.62.62.62.62.62.62.62.62.62.62.62.62.62.62.62.62.62.62.62.62.62.62.62.62.62.62.62.62.62.62.62.62.62.62.62.62.62.62.62.62.62.62.62.62.62.62.62.62.62.62.62.62.6']"
      ]
     },
     "execution_count": 38,
     "metadata": {},
     "output_type": "execute_result"
    }
   ],
   "source": [
    "x_m"
   ]
  },
  {
   "cell_type": "markdown",
   "metadata": {},
   "source": [
    "Debemos transformar la información leida al tipo de variable **float** para poder utilizar cualquier tratamiento númerico de los datos."
   ]
  },
  {
   "cell_type": "code",
   "execution_count": 39,
   "metadata": {
    "collapsed": true
   },
   "outputs": [],
   "source": [
    "f.close()\n",
    "f = open(str_archivo)\n",
    "x = []\n",
    "v = []\n",
    "for line in f:\n",
    "    x.append(float(line.split()[0]))\n",
    "    v.append(float(line.split()[1]))"
   ]
  },
  {
   "cell_type": "code",
   "execution_count": 40,
   "metadata": {},
   "outputs": [
    {
     "data": {
      "text/plain": [
       "float"
      ]
     },
     "execution_count": 40,
     "metadata": {},
     "output_type": "execute_result"
    }
   ],
   "source": [
    "type(x[0])"
   ]
  },
  {
   "cell_type": "code",
   "execution_count": 41,
   "metadata": {
    "collapsed": true
   },
   "outputs": [],
   "source": [
    "x_m = []\n",
    "for i in range(len(x)):\n",
    "    x_m.append(x[i]*1000)"
   ]
  },
  {
   "cell_type": "code",
   "execution_count": 42,
   "metadata": {},
   "outputs": [
    {
     "data": {
      "text/plain": [
       "[0.0, 800.0, 1500.0, 2000.0, 2600.0]"
      ]
     },
     "execution_count": 42,
     "metadata": {},
     "output_type": "execute_result"
    }
   ],
   "source": [
    "x_m"
   ]
  },
  {
   "cell_type": "markdown",
   "metadata": {},
   "source": [
    "Ahora cambiamos las velocidades a m/s"
   ]
  },
  {
   "cell_type": "code",
   "execution_count": 43,
   "metadata": {
    "collapsed": true
   },
   "outputs": [],
   "source": [
    "v_ms = []\n",
    "for i in range(len(v)):\n",
    "    v_ms.append(v[i] * 1000 / 3600)"
   ]
  },
  {
   "cell_type": "code",
   "execution_count": 44,
   "metadata": {},
   "outputs": [
    {
     "data": {
      "text/plain": [
       "[<matplotlib.lines.Line2D at 0x119ead2b0>]"
      ]
     },
     "execution_count": 44,
     "metadata": {},
     "output_type": "execute_result"
    },
    {
     "data": {
      "image/png": "[encoded data removed]",
      "text/plain": [
       "<matplotlib.figure.Figure at 0x119dea940>"
      ]
     },
     "metadata": {},
     "output_type": "display_data"
    }
   ],
   "source": [
    "plt.plot(x_m,v_ms,'o',color='red')"
   ]
  },
  {
   "cell_type": "markdown",
   "metadata": {},
   "source": [
    "### Cómo guardar los valores en metros y metros por segundo a un archivo diferente."
   ]
  },
  {
   "cell_type": "code",
   "execution_count": 252,
   "metadata": {
    "collapsed": true
   },
   "outputs": [],
   "source": [
    "str_archivo_out = 'Data/Clases/posicion_velocidad_metros.dat'\n",
    "f_out = open(str_archivo_out,'w')"
   ]
  },
  {
   "cell_type": "code",
   "execution_count": 47,
   "metadata": {},
   "outputs": [
    {
     "data": {
      "text/plain": [
       "36"
      ]
     },
     "execution_count": 47,
     "metadata": {},
     "output_type": "execute_result"
    }
   ],
   "source": [
    "f_out.write(str(x_m))"
   ]
  },
  {
   "cell_type": "code",
   "execution_count": 48,
   "metadata": {
    "collapsed": true
   },
   "outputs": [],
   "source": [
    "f_out.close()"
   ]
  },
  {
   "cell_type": "markdown",
   "metadata": {},
   "source": [
    "Al observar el archivo vemos que se escribe todo junto.\n",
    "\n",
    "Cómo escribimos cada item por separado?"
   ]
  },
  {
   "cell_type": "code",
   "execution_count": 49,
   "metadata": {
    "collapsed": true
   },
   "outputs": [],
   "source": [
    "f_out = open(str_archivo_out,'w')"
   ]
  },
  {
   "cell_type": "code",
   "execution_count": 50,
   "metadata": {
    "collapsed": true
   },
   "outputs": [],
   "source": [
    "for i in range(len(x_m)):\n",
    "    f_out.write(str(x_m[i]))"
   ]
  },
  {
   "cell_type": "code",
   "execution_count": 51,
   "metadata": {
    "collapsed": true
   },
   "outputs": [],
   "source": [
    "f_out.close()"
   ]
  },
  {
   "cell_type": "markdown",
   "metadata": {},
   "source": [
    "Como escribir en forma de columna?"
   ]
  },
  {
   "cell_type": "code",
   "execution_count": 52,
   "metadata": {
    "collapsed": true
   },
   "outputs": [],
   "source": [
    "f_out = open(str_archivo_out,'w')"
   ]
  },
  {
   "cell_type": "code",
   "execution_count": 53,
   "metadata": {
    "collapsed": true
   },
   "outputs": [],
   "source": [
    "for i in range(len(x_m)):\n",
    "    f_out.write(str(x_m[i])+'\\n')"
   ]
  },
  {
   "cell_type": "code",
   "execution_count": 54,
   "metadata": {
    "collapsed": true
   },
   "outputs": [],
   "source": [
    "f_out.close()"
   ]
  },
  {
   "cell_type": "markdown",
   "metadata": {},
   "source": [
    "Ahora escribimos la posición junto a la velocidad en el archivo"
   ]
  },
  {
   "cell_type": "code",
   "execution_count": 55,
   "metadata": {
    "collapsed": true
   },
   "outputs": [],
   "source": [
    "f_out = open(str_archivo_out,'w')"
   ]
  },
  {
   "cell_type": "code",
   "execution_count": 56,
   "metadata": {
    "collapsed": true
   },
   "outputs": [],
   "source": [
    "for i in range(len(x_m)):\n",
    "    f_out.write(str(x_m[i]) + '\\t' + str(v_ms[i]) + '\\n')"
   ]
  },
  {
   "cell_type": "code",
   "execution_count": 61,
   "metadata": {
    "collapsed": true
   },
   "outputs": [],
   "source": [
    "f_out.close()"
   ]
  },
  {
   "cell_type": "markdown",
   "metadata": {},
   "source": [
    "Mejoremos el formato de los datos escritos.\n",
    "\n",
    "Para mayor información ver  https://docs.python.org/3/library/string.html#formatstrings y https://docs.python.org/3/tutorial/inputoutput.html"
   ]
  },
  {
   "cell_type": "code",
   "execution_count": 91,
   "metadata": {
    "collapsed": true
   },
   "outputs": [],
   "source": [
    "f_out = open(str_archivo_out,'w')"
   ]
  },
  {
   "cell_type": "code",
   "execution_count": 93,
   "metadata": {
    "collapsed": true
   },
   "outputs": [],
   "source": [
    "for i in range(len(x_m)):\n",
    "    f_out.write(\"{0:.2f}\\t{1:.2f}\\n\".format(x_m[i], v_ms[i]))"
   ]
  },
  {
   "cell_type": "code",
   "execution_count": 94,
   "metadata": {
    "collapsed": true
   },
   "outputs": [],
   "source": [
    "f_out.close()"
   ]
  },
  {
   "cell_type": "markdown",
   "metadata": {},
   "source": [
    "**En python 2.7:**\n",
    "\n",
    "for i in range(len(x_m)):\n",
    "\n",
    "    f_out.write(\"%.2f\\t%.2f\\n\" % (x_m[i], v_ms[i]))"
   ]
  },
  {
   "cell_type": "markdown",
   "metadata": {},
   "source": [
    "Format Strings for python 2.7\n",
    "\n",
    "%d : integer\n",
    "\n",
    "%5d : %-5d : integer in a field of width 5 chars integer in a field of width 5 chars, but adjusted to the left\n",
    "\n",
    "%05d :integer in a field of width 5 chars, padded with zeroes from the left\n",
    "\n",
    "%g :  float variable in %f or %g notation\n",
    "\n",
    "%e : float variable in scientific notation\n",
    "\n",
    "%11.3e : float variable in scientific notation, with 3 decimals, field of width 11 chars \n",
    "\n",
    "%5.1f : float variable in fixed decimal notation, with one decimal, field of width 5 chars \n",
    "\n",
    "%.3f : float variable in fixed decimal form, with three decimals, field of min. width\n",
    "%s : string"
   ]
  },
  {
   "cell_type": "markdown",
   "metadata": {},
   "source": [
    "**Format strings en python 3.6 **"
   ]
  },
  {
   "cell_type": "code",
   "execution_count": 95,
   "metadata": {
    "collapsed": true
   },
   "outputs": [],
   "source": [
    "str.format?"
   ]
  },
  {
   "cell_type": "code",
   "execution_count": 96,
   "metadata": {
    "collapsed": true
   },
   "outputs": [],
   "source": [
    "f_out = open(str_archivo_out,'w')"
   ]
  },
  {
   "cell_type": "markdown",
   "metadata": {},
   "source": [
    "La versión mas moderna es usar la función format de un string para dar formato a los datos."
   ]
  },
  {
   "cell_type": "code",
   "execution_count": 64,
   "metadata": {
    "collapsed": true
   },
   "outputs": [],
   "source": [
    "for i in range(len(x_m)):\n",
    "    f_out.write('{0:.2f}   {1:.2f}\\n'.format(x_m[i],v_ms[i]))"
   ]
  },
  {
   "cell_type": "code",
   "execution_count": 65,
   "metadata": {
    "collapsed": true
   },
   "outputs": [],
   "source": [
    "f.close()"
   ]
  },
  {
   "cell_type": "markdown",
   "metadata": {},
   "source": [
    "Alineamos los datos"
   ]
  },
  {
   "cell_type": "code",
   "execution_count": 112,
   "metadata": {
    "collapsed": true
   },
   "outputs": [],
   "source": [
    "f_out.close()\n",
    "f_out = open(str_archivo_out,'w')"
   ]
  },
  {
   "cell_type": "code",
   "execution_count": 113,
   "metadata": {
    "collapsed": true
   },
   "outputs": [],
   "source": [
    "for i in range(len(x_m)):\n",
    "    f_out.write('{0:<8.2f}   {1:<4.2f}\\n'.format(x_m[i],v_ms[i]))"
   ]
  },
  {
   "cell_type": "code",
   "execution_count": 114,
   "metadata": {
    "collapsed": true
   },
   "outputs": [],
   "source": [
    "f_out.close()"
   ]
  },
  {
   "cell_type": "markdown",
   "metadata": {},
   "source": [
    "## Agregar datos a un archivo existente"
   ]
  },
  {
   "cell_type": "code",
   "execution_count": 115,
   "metadata": {
    "collapsed": true
   },
   "outputs": [],
   "source": [
    "f_out = open(str_archivo_out,'a')"
   ]
  },
  {
   "cell_type": "code",
   "execution_count": 116,
   "metadata": {},
   "outputs": [
    {
     "data": {
      "text/plain": [
       "'a'"
      ]
     },
     "execution_count": 116,
     "metadata": {},
     "output_type": "execute_result"
    }
   ],
   "source": [
    "f_out.mode"
   ]
  },
  {
   "cell_type": "markdown",
   "metadata": {},
   "source": [
    "Go to end of file"
   ]
  },
  {
   "cell_type": "code",
   "execution_count": 117,
   "metadata": {},
   "outputs": [
    {
     "data": {
      "text/plain": [
       "4"
      ]
     },
     "execution_count": 117,
     "metadata": {},
     "output_type": "execute_result"
    }
   ],
   "source": [
    "f_out.write('END\\n')"
   ]
  },
  {
   "cell_type": "code",
   "execution_count": 118,
   "metadata": {
    "collapsed": true
   },
   "outputs": [],
   "source": [
    "f_out.close()"
   ]
  },
  {
   "cell_type": "markdown",
   "metadata": {},
   "source": [
    "_Abra el archivo para verificar si se añado END al final_"
   ]
  },
  {
   "cell_type": "markdown",
   "metadata": {},
   "source": [
    "# 2. Procesar archivos con las funciones de numpy \n",
    "\n",
    "Cuando el archivo contiene comentarios que identifican con un caracter específico como **# @** se pueden usar las funciones _loadtxt_ o _genfromtxt_ de numpy para poder procesarlo. Si el contenido es muy heterogeneo se puede procesar el archivo a través de tratamientos de distintos casos con _if_"
   ]
  },
  {
   "cell_type": "code",
   "execution_count": 255,
   "metadata": {
    "collapsed": true
   },
   "outputs": [],
   "source": [
    "str_archivo = 'Data/Clases/posicion_velocidad_coment.dat'\n",
    "f = open(str_archivo)"
   ]
  },
  {
   "cell_type": "code",
   "execution_count": 256,
   "metadata": {},
   "outputs": [
    {
     "ename": "ValueError",
     "evalue": "could not convert string to float: '#posicion'",
     "output_type": "error",
     "traceback": [
      "\u001b[0;31m---------------------------------------------------------------------------\u001b[0m",
      "\u001b[0;31mValueError\u001b[0m                                Traceback (most recent call last)",
      "\u001b[0;32m<ipython-input-256-633bb8e706fc>\u001b[0m in \u001b[0;36m<module>\u001b[0;34m()\u001b[0m\n\u001b[1;32m      2\u001b[0m \u001b[0mv\u001b[0m \u001b[0;34m=\u001b[0m \u001b[0;34m[\u001b[0m\u001b[0;34m]\u001b[0m\u001b[0;34m\u001b[0m\u001b[0m\n\u001b[1;32m      3\u001b[0m \u001b[0;32mfor\u001b[0m \u001b[0mline\u001b[0m \u001b[0;32min\u001b[0m \u001b[0mf\u001b[0m\u001b[0;34m:\u001b[0m\u001b[0;34m\u001b[0m\u001b[0m\n\u001b[0;32m----> 4\u001b[0;31m     \u001b[0mx\u001b[0m\u001b[0;34m.\u001b[0m\u001b[0mappend\u001b[0m\u001b[0;34m(\u001b[0m\u001b[0mfloat\u001b[0m\u001b[0;34m(\u001b[0m\u001b[0mline\u001b[0m\u001b[0;34m.\u001b[0m\u001b[0msplit\u001b[0m\u001b[0;34m(\u001b[0m\u001b[0;34m)\u001b[0m\u001b[0;34m[\u001b[0m\u001b[0;36m0\u001b[0m\u001b[0;34m]\u001b[0m\u001b[0;34m)\u001b[0m\u001b[0;34m)\u001b[0m\u001b[0;34m\u001b[0m\u001b[0m\n\u001b[0m\u001b[1;32m      5\u001b[0m     \u001b[0mv\u001b[0m\u001b[0;34m.\u001b[0m\u001b[0mappend\u001b[0m\u001b[0;34m(\u001b[0m\u001b[0mfloat\u001b[0m\u001b[0;34m(\u001b[0m\u001b[0mline\u001b[0m\u001b[0;34m.\u001b[0m\u001b[0msplit\u001b[0m\u001b[0;34m(\u001b[0m\u001b[0;34m)\u001b[0m\u001b[0;34m[\u001b[0m\u001b[0;36m1\u001b[0m\u001b[0;34m]\u001b[0m\u001b[0;34m)\u001b[0m\u001b[0;34m)\u001b[0m\u001b[0;34m\u001b[0m\u001b[0m\n",
      "\u001b[0;31mValueError\u001b[0m: could not convert string to float: '#posicion'"
     ]
    }
   ],
   "source": [
    "x = []\n",
    "v = []\n",
    "for line in f:\n",
    "    x.append(float(line.split()[0]))\n",
    "    v.append(float(line.split()[1]))        "
   ]
  },
  {
   "cell_type": "code",
   "execution_count": 257,
   "metadata": {
    "collapsed": true
   },
   "outputs": [],
   "source": [
    "f.close()\n",
    "f = open(str_archivo)"
   ]
  },
  {
   "cell_type": "code",
   "execution_count": 258,
   "metadata": {
    "collapsed": true
   },
   "outputs": [],
   "source": [
    "x = []\n",
    "v = []\n",
    "for line in f:\n",
    "    if line[0] is not \"#\":\n",
    "        x.append(float(line.split()[0]))\n",
    "        v.append(float(line.split()[1]))        \n",
    "        "
   ]
  },
  {
   "cell_type": "code",
   "execution_count": 259,
   "metadata": {},
   "outputs": [
    {
     "data": {
      "text/plain": [
       "[0.0, 0.8, 1.5, 2.0, 2.6]"
      ]
     },
     "execution_count": 259,
     "metadata": {},
     "output_type": "execute_result"
    }
   ],
   "source": [
    "x"
   ]
  },
  {
   "cell_type": "code",
   "execution_count": 260,
   "metadata": {
    "collapsed": true
   },
   "outputs": [],
   "source": [
    "f.close()"
   ]
  },
  {
   "cell_type": "markdown",
   "metadata": {},
   "source": [
    "** Esto ahora se puede funcionalizar para el formato específico que tengan sus datos.**"
   ]
  },
  {
   "cell_type": "markdown",
   "metadata": {
    "collapsed": true
   },
   "source": [
    "## Ahora usaremos la funciones de numpy para procesar archivos."
   ]
  },
  {
   "cell_type": "markdown",
   "metadata": {},
   "source": [
    "Trabajaremos con el archivo posicion_velocidad_coment.dat que se muestra aquí:\n",
    "\n",
    "\n",
    "```#posicion velocidad\n",
    "0.0  30\n",
    "0.8  50\n",
    "1.5  43.2\n",
    "2.0  20.0\n",
    "2.6  42.1```"
   ]
  },
  {
   "cell_type": "code",
   "execution_count": 261,
   "metadata": {
    "collapsed": true
   },
   "outputs": [],
   "source": [
    "str_archivo = 'Data/Clases/posicion_velocidad_coment.dat'"
   ]
  },
  {
   "cell_type": "markdown",
   "metadata": {},
   "source": [
    "### Función _loadtxt_"
   ]
  },
  {
   "cell_type": "markdown",
   "metadata": {},
   "source": [
    "Usamos la función loadtxt de numpy que nos permite procesar archivos con datos númericos"
   ]
  },
  {
   "cell_type": "code",
   "execution_count": 262,
   "metadata": {
    "collapsed": true
   },
   "outputs": [],
   "source": [
    "np.loadtxt?"
   ]
  },
  {
   "cell_type": "markdown",
   "metadata": {},
   "source": [
    "Existen las opciones de definir el tipo de información a procesar como float, string, double etc, el delimitador de los valores y el saltar los primeras n lineas con skiprows."
   ]
  },
  {
   "cell_type": "code",
   "execution_count": 263,
   "metadata": {},
   "outputs": [
    {
     "data": {
      "text/plain": [
       "array([[  0. ,  30. ],\n",
       "       [  0.8,  50. ],\n",
       "       [  1.5,  43.2],\n",
       "       [  2. ,  20. ],\n",
       "       [  2.6,  42.1]])"
      ]
     },
     "execution_count": 263,
     "metadata": {},
     "output_type": "execute_result"
    }
   ],
   "source": [
    "np.loadtxt(str_archivo)"
   ]
  },
  {
   "cell_type": "code",
   "execution_count": 264,
   "metadata": {
    "collapsed": true
   },
   "outputs": [],
   "source": [
    "data = np.loadtxt(str_archivo)"
   ]
  },
  {
   "cell_type": "code",
   "execution_count": 265,
   "metadata": {},
   "outputs": [
    {
     "data": {
      "text/plain": [
       "array([ 0. ,  0.8,  1.5,  2. ,  2.6])"
      ]
     },
     "execution_count": 265,
     "metadata": {},
     "output_type": "execute_result"
    }
   ],
   "source": [
    "data[:,0]"
   ]
  },
  {
   "cell_type": "code",
   "execution_count": 266,
   "metadata": {},
   "outputs": [
    {
     "data": {
      "text/plain": [
       "array([ 30. ,  50. ,  43.2,  20. ,  42.1])"
      ]
     },
     "execution_count": 266,
     "metadata": {},
     "output_type": "execute_result"
    }
   ],
   "source": [
    "data[:,1]"
   ]
  },
  {
   "cell_type": "code",
   "execution_count": 267,
   "metadata": {
    "collapsed": true
   },
   "outputs": [],
   "source": [
    "x = data[:,0]"
   ]
  },
  {
   "cell_type": "code",
   "execution_count": 268,
   "metadata": {
    "collapsed": true
   },
   "outputs": [],
   "source": [
    "v = data[:,1]"
   ]
  },
  {
   "cell_type": "code",
   "execution_count": 269,
   "metadata": {},
   "outputs": [
    {
     "data": {
      "text/plain": [
       "(array([ 0. ,  0.8,  1.5,  2. ,  2.6]),\n",
       " array([ 30. ,  50. ,  43.2,  20. ,  42.1]))"
      ]
     },
     "execution_count": 269,
     "metadata": {},
     "output_type": "execute_result"
    }
   ],
   "source": [
    "x, v"
   ]
  },
  {
   "cell_type": "markdown",
   "metadata": {},
   "source": [
    "Ahora importamos directamente en las dos variables con opción \"unpack\""
   ]
  },
  {
   "cell_type": "code",
   "execution_count": 270,
   "metadata": {
    "collapsed": true
   },
   "outputs": [],
   "source": [
    "x,v  = np.loadtxt(str_archivo,unpack=True)"
   ]
  },
  {
   "cell_type": "code",
   "execution_count": 271,
   "metadata": {},
   "outputs": [
    {
     "data": {
      "text/plain": [
       "array([ 0. ,  0.8,  1.5,  2. ,  2.6])"
      ]
     },
     "execution_count": 271,
     "metadata": {},
     "output_type": "execute_result"
    }
   ],
   "source": [
    "x"
   ]
  },
  {
   "cell_type": "markdown",
   "metadata": {},
   "source": [
    "### Función genfromtxt"
   ]
  },
  {
   "cell_type": "markdown",
   "metadata": {},
   "source": [
    "Usamos la alternativa de genfromtxt para trabajar con archivos que presenten datos incompletos o para tener mayor flexibilidad en el procesamiento.\n"
   ]
  },
  {
   "cell_type": "code",
   "execution_count": 272,
   "metadata": {
    "collapsed": true
   },
   "outputs": [],
   "source": [
    "np.genfromtxt?"
   ]
  },
  {
   "cell_type": "markdown",
   "metadata": {},
   "source": [
    "El archivo posicion_velocidad_missing.dat le falta un valor en la velocidad:\n",
    "\n",
    "```@ Archivo obtenido el 30 diciembre 2016\n",
    "0.0  30\n",
    "0.8  50\n",
    "1.5  43.2\n",
    "2.0  Bla \n",
    "2.6  42.1```"
   ]
  },
  {
   "cell_type": "markdown",
   "metadata": {},
   "source": [
    "**Probamos con la función _loadtxt_**"
   ]
  },
  {
   "cell_type": "code",
   "execution_count": 273,
   "metadata": {},
   "outputs": [
    {
     "ename": "ValueError",
     "evalue": "could not convert string to float: b'Bla'",
     "output_type": "error",
     "traceback": [
      "\u001b[0;31m---------------------------------------------------------------------------\u001b[0m",
      "\u001b[0;31mValueError\u001b[0m                                Traceback (most recent call last)",
      "\u001b[0;32m<ipython-input-273-799ccd272074>\u001b[0m in \u001b[0;36m<module>\u001b[0;34m()\u001b[0m\n\u001b[1;32m      1\u001b[0m \u001b[0mstr_archivo\u001b[0m \u001b[0;34m=\u001b[0m \u001b[0;34m'Data/Clases/posicion_velocidad_missing.dat'\u001b[0m\u001b[0;34m\u001b[0m\u001b[0m\n\u001b[0;32m----> 2\u001b[0;31m \u001b[0mdata\u001b[0m \u001b[0;34m=\u001b[0m \u001b[0mnp\u001b[0m\u001b[0;34m.\u001b[0m\u001b[0mloadtxt\u001b[0m\u001b[0;34m(\u001b[0m\u001b[0mstr_archivo\u001b[0m\u001b[0;34m,\u001b[0m\u001b[0mcomments\u001b[0m\u001b[0;34m=\u001b[0m\u001b[0;34m'@'\u001b[0m\u001b[0;34m)\u001b[0m\u001b[0;34m\u001b[0m\u001b[0m\n\u001b[0m",
      "\u001b[0;32m/Users/estebanvohringer-martinez/anaconda2/envs/py36/lib/python3.6/site-packages/numpy/lib/npyio.py\u001b[0m in \u001b[0;36mloadtxt\u001b[0;34m(fname, dtype, comments, delimiter, converters, skiprows, usecols, unpack, ndmin)\u001b[0m\n\u001b[1;32m    983\u001b[0m \u001b[0;34m\u001b[0m\u001b[0m\n\u001b[1;32m    984\u001b[0m             \u001b[0;31m# Convert each value according to its column and store\u001b[0m\u001b[0;34m\u001b[0m\u001b[0;34m\u001b[0m\u001b[0m\n\u001b[0;32m--> 985\u001b[0;31m             \u001b[0mitems\u001b[0m \u001b[0;34m=\u001b[0m \u001b[0;34m[\u001b[0m\u001b[0mconv\u001b[0m\u001b[0;34m(\u001b[0m\u001b[0mval\u001b[0m\u001b[0;34m)\u001b[0m \u001b[0;32mfor\u001b[0m \u001b[0;34m(\u001b[0m\u001b[0mconv\u001b[0m\u001b[0;34m,\u001b[0m \u001b[0mval\u001b[0m\u001b[0;34m)\u001b[0m \u001b[0;32min\u001b[0m \u001b[0mzip\u001b[0m\u001b[0;34m(\u001b[0m\u001b[0mconverters\u001b[0m\u001b[0;34m,\u001b[0m \u001b[0mvals\u001b[0m\u001b[0;34m)\u001b[0m\u001b[0;34m]\u001b[0m\u001b[0;34m\u001b[0m\u001b[0m\n\u001b[0m\u001b[1;32m    986\u001b[0m             \u001b[0;31m# Then pack it according to the dtype's nesting\u001b[0m\u001b[0;34m\u001b[0m\u001b[0;34m\u001b[0m\u001b[0m\n\u001b[1;32m    987\u001b[0m             \u001b[0mitems\u001b[0m \u001b[0;34m=\u001b[0m \u001b[0mpack_items\u001b[0m\u001b[0;34m(\u001b[0m\u001b[0mitems\u001b[0m\u001b[0;34m,\u001b[0m \u001b[0mpacking\u001b[0m\u001b[0;34m)\u001b[0m\u001b[0;34m\u001b[0m\u001b[0m\n",
      "\u001b[0;32m/Users/estebanvohringer-martinez/anaconda2/envs/py36/lib/python3.6/site-packages/numpy/lib/npyio.py\u001b[0m in \u001b[0;36m<listcomp>\u001b[0;34m(.0)\u001b[0m\n\u001b[1;32m    983\u001b[0m \u001b[0;34m\u001b[0m\u001b[0m\n\u001b[1;32m    984\u001b[0m             \u001b[0;31m# Convert each value according to its column and store\u001b[0m\u001b[0;34m\u001b[0m\u001b[0;34m\u001b[0m\u001b[0m\n\u001b[0;32m--> 985\u001b[0;31m             \u001b[0mitems\u001b[0m \u001b[0;34m=\u001b[0m \u001b[0;34m[\u001b[0m\u001b[0mconv\u001b[0m\u001b[0;34m(\u001b[0m\u001b[0mval\u001b[0m\u001b[0;34m)\u001b[0m \u001b[0;32mfor\u001b[0m \u001b[0;34m(\u001b[0m\u001b[0mconv\u001b[0m\u001b[0;34m,\u001b[0m \u001b[0mval\u001b[0m\u001b[0;34m)\u001b[0m \u001b[0;32min\u001b[0m \u001b[0mzip\u001b[0m\u001b[0;34m(\u001b[0m\u001b[0mconverters\u001b[0m\u001b[0;34m,\u001b[0m \u001b[0mvals\u001b[0m\u001b[0;34m)\u001b[0m\u001b[0;34m]\u001b[0m\u001b[0;34m\u001b[0m\u001b[0m\n\u001b[0m\u001b[1;32m    986\u001b[0m             \u001b[0;31m# Then pack it according to the dtype's nesting\u001b[0m\u001b[0;34m\u001b[0m\u001b[0;34m\u001b[0m\u001b[0m\n\u001b[1;32m    987\u001b[0m             \u001b[0mitems\u001b[0m \u001b[0;34m=\u001b[0m \u001b[0mpack_items\u001b[0m\u001b[0;34m(\u001b[0m\u001b[0mitems\u001b[0m\u001b[0;34m,\u001b[0m \u001b[0mpacking\u001b[0m\u001b[0;34m)\u001b[0m\u001b[0;34m\u001b[0m\u001b[0m\n",
      "\u001b[0;32m/Users/estebanvohringer-martinez/anaconda2/envs/py36/lib/python3.6/site-packages/numpy/lib/npyio.py\u001b[0m in \u001b[0;36mfloatconv\u001b[0;34m(x)\u001b[0m\n\u001b[1;32m    685\u001b[0m         \u001b[0;32mif\u001b[0m \u001b[0;34mb'0x'\u001b[0m \u001b[0;32min\u001b[0m \u001b[0mx\u001b[0m\u001b[0;34m:\u001b[0m\u001b[0;34m\u001b[0m\u001b[0m\n\u001b[1;32m    686\u001b[0m             \u001b[0;32mreturn\u001b[0m \u001b[0mfloat\u001b[0m\u001b[0;34m.\u001b[0m\u001b[0mfromhex\u001b[0m\u001b[0;34m(\u001b[0m\u001b[0masstr\u001b[0m\u001b[0;34m(\u001b[0m\u001b[0mx\u001b[0m\u001b[0;34m)\u001b[0m\u001b[0;34m)\u001b[0m\u001b[0;34m\u001b[0m\u001b[0m\n\u001b[0;32m--> 687\u001b[0;31m         \u001b[0;32mreturn\u001b[0m \u001b[0mfloat\u001b[0m\u001b[0;34m(\u001b[0m\u001b[0mx\u001b[0m\u001b[0;34m)\u001b[0m\u001b[0;34m\u001b[0m\u001b[0m\n\u001b[0m\u001b[1;32m    688\u001b[0m \u001b[0;34m\u001b[0m\u001b[0m\n\u001b[1;32m    689\u001b[0m     \u001b[0mtyp\u001b[0m \u001b[0;34m=\u001b[0m \u001b[0mdtype\u001b[0m\u001b[0;34m.\u001b[0m\u001b[0mtype\u001b[0m\u001b[0;34m\u001b[0m\u001b[0m\n",
      "\u001b[0;31mValueError\u001b[0m: could not convert string to float: b'Bla'"
     ]
    }
   ],
   "source": [
    "str_archivo = 'Data/Clases/posicion_velocidad_missing.dat'\n",
    "data = np.loadtxt(str_archivo,comments='@')"
   ]
  },
  {
   "cell_type": "markdown",
   "metadata": {},
   "source": [
    "_ No podemos usar esta función si los datos son incompletos_"
   ]
  },
  {
   "cell_type": "markdown",
   "metadata": {},
   "source": [
    "** Ahora con genfromtxt **"
   ]
  },
  {
   "cell_type": "code",
   "execution_count": 277,
   "metadata": {
    "collapsed": true
   },
   "outputs": [],
   "source": [
    "str_archivo = 'Data/Clases/posicion_velocidad_missing.dat'\n",
    "data = np.genfromtxt(str_archivo,comments='@')"
   ]
  },
  {
   "cell_type": "code",
   "execution_count": 278,
   "metadata": {},
   "outputs": [
    {
     "data": {
      "text/plain": [
       "array([[  0. ,  30. ],\n",
       "       [  0.8,  50. ],\n",
       "       [  1.5,  43.2],\n",
       "       [  2. ,   nan],\n",
       "       [  2.6,  42.1]])"
      ]
     },
     "execution_count": 278,
     "metadata": {},
     "output_type": "execute_result"
    }
   ],
   "source": [
    "data"
   ]
  },
  {
   "cell_type": "markdown",
   "metadata": {},
   "source": [
    "Como cambiamos el valor del item ausente?"
   ]
  },
  {
   "cell_type": "code",
   "execution_count": 279,
   "metadata": {
    "collapsed": true
   },
   "outputs": [],
   "source": [
    "np.genfromtxt?"
   ]
  },
  {
   "cell_type": "code",
   "execution_count": 280,
   "metadata": {
    "collapsed": true
   },
   "outputs": [],
   "source": [
    "data = np.genfromtxt(str_archivo,comments='@',filling_values='0.0')"
   ]
  },
  {
   "cell_type": "code",
   "execution_count": 281,
   "metadata": {},
   "outputs": [
    {
     "data": {
      "text/plain": [
       "array([[  0. ,  30. ],\n",
       "       [  0.8,  50. ],\n",
       "       [  1.5,  43.2],\n",
       "       [  2. ,   0. ],\n",
       "       [  2.6,  42.1]])"
      ]
     },
     "execution_count": 281,
     "metadata": {},
     "output_type": "execute_result"
    }
   ],
   "source": [
    "data"
   ]
  },
  {
   "cell_type": "markdown",
   "metadata": {},
   "source": [
    "** Leer el nombre de la variable que representará los datos desde el archivo** \n",
    "\n",
    "Como ejemplo se usará el archivo posicion_velocidad_names.dat:\n",
    "\n",
    "```@ Archivo obtenido el 30 diciembre 2016\n",
    "x    v\n",
    "0.0  30\n",
    "0.8  50\n",
    "1.5  43.2\n",
    "2.0  Bla \n",
    "2.6  42.1```"
   ]
  },
  {
   "cell_type": "code",
   "execution_count": 282,
   "metadata": {
    "collapsed": true
   },
   "outputs": [],
   "source": [
    "str_archivo = 'Data/Clases/posicion_velocidad_names.dat'\n",
    "data1 = np.genfromtxt(str_archivo,skip_header=1,names=True,filling_values='0.0')"
   ]
  },
  {
   "cell_type": "markdown",
   "metadata": {},
   "source": [
    "_No se puede usar la opción de \"comments\" y \"names\" juntos_"
   ]
  },
  {
   "cell_type": "code",
   "execution_count": 284,
   "metadata": {},
   "outputs": [
    {
     "ename": "ValueError",
     "evalue": "Some errors were detected !\n    Line #2 (got 2 columns instead of 6)\n    Line #3 (got 2 columns instead of 6)\n    Line #4 (got 2 columns instead of 6)\n    Line #5 (got 2 columns instead of 6)\n    Line #6 (got 2 columns instead of 6)\n    Line #7 (got 2 columns instead of 6)",
     "output_type": "error",
     "traceback": [
      "\u001b[0;31m---------------------------------------------------------------------------\u001b[0m",
      "\u001b[0;31mValueError\u001b[0m                                Traceback (most recent call last)",
      "\u001b[0;32m<ipython-input-284-cc8477080de6>\u001b[0m in \u001b[0;36m<module>\u001b[0;34m()\u001b[0m\n\u001b[1;32m      1\u001b[0m \u001b[0mstr_archivo\u001b[0m \u001b[0;34m=\u001b[0m \u001b[0;34m'Data/Clases/posicion_velocidad_names.dat'\u001b[0m\u001b[0;34m\u001b[0m\u001b[0m\n\u001b[0;32m----> 2\u001b[0;31m \u001b[0mdata1\u001b[0m \u001b[0;34m=\u001b[0m \u001b[0mnp\u001b[0m\u001b[0;34m.\u001b[0m\u001b[0mgenfromtxt\u001b[0m\u001b[0;34m(\u001b[0m\u001b[0mstr_archivo\u001b[0m\u001b[0;34m,\u001b[0m\u001b[0mcomments\u001b[0m\u001b[0;34m=\u001b[0m\u001b[0;34m'@'\u001b[0m\u001b[0;34m,\u001b[0m\u001b[0mnames\u001b[0m\u001b[0;34m=\u001b[0m\u001b[0;32mTrue\u001b[0m\u001b[0;34m,\u001b[0m\u001b[0mfilling_values\u001b[0m\u001b[0;34m=\u001b[0m\u001b[0;34m'0.0'\u001b[0m\u001b[0;34m)\u001b[0m\u001b[0;34m\u001b[0m\u001b[0m\n\u001b[0m",
      "\u001b[0;32m/Users/estebanvohringer-martinez/anaconda2/envs/py36/lib/python3.6/site-packages/numpy/lib/npyio.py\u001b[0m in \u001b[0;36mgenfromtxt\u001b[0;34m(fname, dtype, comments, delimiter, skip_header, skip_footer, converters, missing_values, filling_values, usecols, names, excludelist, deletechars, replace_space, autostrip, case_sensitive, defaultfmt, unpack, usemask, loose, invalid_raise, max_rows)\u001b[0m\n\u001b[1;32m   1826\u001b[0m             \u001b[0;31m# Raise an exception ?\u001b[0m\u001b[0;34m\u001b[0m\u001b[0;34m\u001b[0m\u001b[0m\n\u001b[1;32m   1827\u001b[0m             \u001b[0;32mif\u001b[0m \u001b[0minvalid_raise\u001b[0m\u001b[0;34m:\u001b[0m\u001b[0;34m\u001b[0m\u001b[0m\n\u001b[0;32m-> 1828\u001b[0;31m                 \u001b[0;32mraise\u001b[0m \u001b[0mValueError\u001b[0m\u001b[0;34m(\u001b[0m\u001b[0merrmsg\u001b[0m\u001b[0;34m)\u001b[0m\u001b[0;34m\u001b[0m\u001b[0m\n\u001b[0m\u001b[1;32m   1829\u001b[0m             \u001b[0;31m# Issue a warning ?\u001b[0m\u001b[0;34m\u001b[0m\u001b[0;34m\u001b[0m\u001b[0m\n\u001b[1;32m   1830\u001b[0m             \u001b[0;32melse\u001b[0m\u001b[0;34m:\u001b[0m\u001b[0;34m\u001b[0m\u001b[0m\n",
      "\u001b[0;31mValueError\u001b[0m: Some errors were detected !\n    Line #2 (got 2 columns instead of 6)\n    Line #3 (got 2 columns instead of 6)\n    Line #4 (got 2 columns instead of 6)\n    Line #5 (got 2 columns instead of 6)\n    Line #6 (got 2 columns instead of 6)\n    Line #7 (got 2 columns instead of 6)"
     ]
    }
   ],
   "source": [
    "str_archivo = 'Data/Clases/posicion_velocidad_names.dat'\n",
    "data1 = np.genfromtxt(str_archivo,comments='@',names=True,filling_values='0.0')"
   ]
  },
  {
   "cell_type": "code",
   "execution_count": 285,
   "metadata": {},
   "outputs": [
    {
     "data": {
      "text/plain": [
       "array([( 0. ,  30. ), ( 0.8,  50. ), ( 1.5,  43.2), ( 2. ,   0. ),\n",
       "       ( 2.6,  42.1)], \n",
       "      dtype=[('x', '<f8'), ('v', '<f8')])"
      ]
     },
     "execution_count": 285,
     "metadata": {},
     "output_type": "execute_result"
    }
   ],
   "source": [
    "data1"
   ]
  },
  {
   "cell_type": "code",
   "execution_count": 286,
   "metadata": {},
   "outputs": [
    {
     "data": {
      "text/plain": [
       "numpy.ndarray"
      ]
     },
     "execution_count": 286,
     "metadata": {},
     "output_type": "execute_result"
    }
   ],
   "source": [
    "type(data1)"
   ]
  },
  {
   "cell_type": "code",
   "execution_count": 287,
   "metadata": {},
   "outputs": [
    {
     "data": {
      "text/plain": [
       "array([ 30. ,  50. ,  43.2,   0. ,  42.1])"
      ]
     },
     "execution_count": 287,
     "metadata": {},
     "output_type": "execute_result"
    }
   ],
   "source": [
    "data1['v']"
   ]
  },
  {
   "cell_type": "code",
   "execution_count": 288,
   "metadata": {},
   "outputs": [
    {
     "data": {
      "text/plain": [
       "array([ 0. ,  0.8,  1.5,  2. ,  2.6])"
      ]
     },
     "execution_count": 288,
     "metadata": {},
     "output_type": "execute_result"
    }
   ],
   "source": [
    "data1['x']"
   ]
  },
  {
   "cell_type": "code",
   "execution_count": 289,
   "metadata": {
    "collapsed": true
   },
   "outputs": [],
   "source": [
    "np.genfromtxt?"
   ]
  },
  {
   "cell_type": "code",
   "execution_count": 290,
   "metadata": {
    "collapsed": true
   },
   "outputs": [],
   "source": [
    "np.savetxt?"
   ]
  },
  {
   "cell_type": "markdown",
   "metadata": {
    "collapsed": true
   },
   "source": [
    "## Después de hacer un análisis numérico con numpy como guardar array de datos en archivo"
   ]
  },
  {
   "cell_type": "markdown",
   "metadata": {},
   "source": [
    "### Usando las opciones \"tofile\" y \"fromfile\" en numpy"
   ]
  },
  {
   "cell_type": "code",
   "execution_count": 291,
   "metadata": {
    "collapsed": true
   },
   "outputs": [],
   "source": [
    "x = np.array([[0, 1, 2 ],[2, 3, 4]])"
   ]
  },
  {
   "cell_type": "code",
   "execution_count": 310,
   "metadata": {
    "collapsed": true
   },
   "outputs": [],
   "source": [
    "f = open('Data/Clases/array.bin','w')\n",
    "x.tofile(f,format=\"%d\")"
   ]
  },
  {
   "cell_type": "code",
   "execution_count": 311,
   "metadata": {
    "collapsed": true
   },
   "outputs": [],
   "source": [
    "x.tofile?"
   ]
  },
  {
   "cell_type": "code",
   "execution_count": 312,
   "metadata": {},
   "outputs": [
    {
     "data": {
      "text/plain": [
       "array([[0, 1, 2],\n",
       "       [2, 3, 4]])"
      ]
     },
     "execution_count": 312,
     "metadata": {},
     "output_type": "execute_result"
    }
   ],
   "source": [
    "x\n"
   ]
  },
  {
   "cell_type": "code",
   "execution_count": 313,
   "metadata": {
    "collapsed": true
   },
   "outputs": [],
   "source": [
    "f.close()"
   ]
  },
  {
   "cell_type": "code",
   "execution_count": 314,
   "metadata": {
    "collapsed": true
   },
   "outputs": [],
   "source": [
    "y = np.fromfile('Data/Clases/array.bin')"
   ]
  },
  {
   "cell_type": "code",
   "execution_count": 315,
   "metadata": {},
   "outputs": [
    {
     "data": {
      "text/plain": [
       "array([  0.00000000e+000,   4.94065646e-324,   9.88131292e-324,\n",
       "         9.88131292e-324,   1.48219694e-323,   1.97626258e-323])"
      ]
     },
     "execution_count": 315,
     "metadata": {},
     "output_type": "execute_result"
    }
   ],
   "source": [
    "y"
   ]
  },
  {
   "cell_type": "markdown",
   "metadata": {},
   "source": [
    "**Los datos se guardan en forma binaria sin información alguna sobre el tipo de variable. Aparte la forma de guardar los datos depende del sistema operativo que se usa. Por eso se recomienda usar la opción save y load de numpy.**"
   ]
  },
  {
   "cell_type": "code",
   "execution_count": 316,
   "metadata": {},
   "outputs": [
    {
     "data": {
      "text/plain": [
       "array([[0, 1, 2],\n",
       "       [2, 3, 4]])"
      ]
     },
     "execution_count": 316,
     "metadata": {},
     "output_type": "execute_result"
    }
   ],
   "source": [
    "x"
   ]
  },
  {
   "cell_type": "markdown",
   "metadata": {},
   "source": [
    "_Preferible es usar la opción np.save del módulo numpy_"
   ]
  },
  {
   "cell_type": "code",
   "execution_count": 318,
   "metadata": {
    "collapsed": true
   },
   "outputs": [],
   "source": [
    "np.save?"
   ]
  },
  {
   "cell_type": "code",
   "execution_count": 319,
   "metadata": {
    "collapsed": true
   },
   "outputs": [],
   "source": [
    "f = 'Data/Clases/array.npy'\n",
    "np.save(f,x)"
   ]
  },
  {
   "cell_type": "code",
   "execution_count": 320,
   "metadata": {
    "collapsed": true
   },
   "outputs": [],
   "source": [
    "y = np.load(f)"
   ]
  },
  {
   "cell_type": "code",
   "execution_count": 321,
   "metadata": {},
   "outputs": [
    {
     "data": {
      "text/plain": [
       "array([[0, 1, 2],\n",
       "       [2, 3, 4]])"
      ]
     },
     "execution_count": 321,
     "metadata": {},
     "output_type": "execute_result"
    }
   ],
   "source": [
    "y"
   ]
  },
  {
   "cell_type": "markdown",
   "metadata": {},
   "source": [
    "*También se puede guardar en forma de texto sacrificando precisión y espacio de disco. Se puede especificar el formato de la variable a guardar*"
   ]
  },
  {
   "cell_type": "code",
   "execution_count": 327,
   "metadata": {
    "collapsed": true
   },
   "outputs": [],
   "source": [
    "np.savetxt?"
   ]
  },
  {
   "cell_type": "code",
   "execution_count": 328,
   "metadata": {
    "collapsed": true
   },
   "outputs": [],
   "source": [
    "np.savetxt('Data/Clases/array.dat',x,fmt=\"%d\")"
   ]
  },
  {
   "cell_type": "code",
   "execution_count": 329,
   "metadata": {
    "collapsed": true
   },
   "outputs": [],
   "source": [
    "np.loadtxt?"
   ]
  },
  {
   "cell_type": "code",
   "execution_count": 330,
   "metadata": {
    "collapsed": true
   },
   "outputs": [],
   "source": [
    "y = np.loadtxt('Data/Clases/array.dat')"
   ]
  },
  {
   "cell_type": "markdown",
   "metadata": {},
   "source": [
    "_Comparamos los tipos de arreglos entre el original (x) y el obtenido desde el archivo (y)_"
   ]
  },
  {
   "cell_type": "code",
   "execution_count": 331,
   "metadata": {},
   "outputs": [
    {
     "data": {
      "text/plain": [
       "numpy.float64"
      ]
     },
     "execution_count": 331,
     "metadata": {},
     "output_type": "execute_result"
    }
   ],
   "source": [
    "type(y[0][1])"
   ]
  },
  {
   "cell_type": "code",
   "execution_count": 307,
   "metadata": {},
   "outputs": [
    {
     "data": {
      "text/plain": [
       "numpy.int64"
      ]
     },
     "execution_count": 307,
     "metadata": {},
     "output_type": "execute_result"
    }
   ],
   "source": [
    "type(x[0][1])"
   ]
  },
  {
   "cell_type": "code",
   "execution_count": 308,
   "metadata": {
    "collapsed": true
   },
   "outputs": [],
   "source": [
    "y = np.loadtxt('Data/Clases/array.dat',dtype=int)"
   ]
  },
  {
   "cell_type": "code",
   "execution_count": 175,
   "metadata": {},
   "outputs": [
    {
     "data": {
      "text/plain": [
       "numpy.int64"
      ]
     },
     "execution_count": 175,
     "metadata": {},
     "output_type": "execute_result"
    }
   ],
   "source": [
    "type(y[0][1])"
   ]
  },
  {
   "cell_type": "markdown",
   "metadata": {
    "collapsed": true
   },
   "source": [
    "# Modulo Pandas\n",
    "\n",
    "\n",
    "## Cuando se tiene una bases de datos que tiene distintos tipos de datos con formato diferente se recomienda usar el módulo pandas\n",
    "\n",
    "Para mayor información visite: http://pandas.pydata.org\n",
    "\n",
    "![Pandas](images/pandas.png \"Panadas\")"
   ]
  },
  {
   "cell_type": "code",
   "execution_count": 4,
   "metadata": {
    "collapsed": true
   },
   "outputs": [],
   "source": [
    "import pandas as pd"
   ]
  },
  {
   "cell_type": "markdown",
   "metadata": {},
   "source": [
    "Ahora procesaremos una base de datos bajada en internet bajo el link https://catalog.data.gov/dataset/most-popular-baby-names-by-sex-and-mothers-ethnic-group-new-york-city-8c742 que contiene información sobre los nombres de bebes según género y grupo etnico al cual pertenece la madre.\n",
    "\n",
    "Las primeras lineas se ven aquí:\n",
    "```\n",
    "\n",
    "Year of Birth,Gender,Ethnicity,Child's First Name,Count,Rank\n",
    "\n",
    "2011,FEMALE,HISPANIC,GERALDINE,13,75\n",
    "\n",
    "2011,FEMALE,HISPANIC,GIA,21,67\n",
    "\n",
    "2011,FEMALE,HISPANIC,GIANNA,49,42\n",
    "\n",
    "2011,FEMALE,HISPANIC,GISELLE,38,51\n",
    "\n",
    "2011,FEMALE,HISPANIC,GRACE,36,53```\n",
    "\n",
    "\n",
    "La primera línea muestra el nombre de la variable de cada columna y las siguientes lineas contienen los datos."
   ]
  },
  {
   "cell_type": "markdown",
   "metadata": {},
   "source": [
    "Para eso usamos pandas que es un modulo de python que facilita el tratamiento de datos heterogéneos (strings, float etc.)\n",
    "\n",
    "\n",
    "Mayor información se puede obtener en estos dos tutoriales de introducción:\n",
    "\n",
    "http://nbviewer.jupyter.org/urls/bitbucket.org/hrojas/learn-pandas/raw/master/lessons/01%20-%20Lesson.ipynb\n",
    "\n",
    "http://nbviewer.jupyter.org/urls/bitbucket.org/hrojas/learn-pandas/raw/master/lessons/02%20-%20Lesson.ipynb"
   ]
  },
  {
   "cell_type": "code",
   "execution_count": 1,
   "metadata": {
    "collapsed": true
   },
   "outputs": [],
   "source": [
    "str_archivo = 'Data/Clases/Most_Popular_Baby_Names_by_Sex_and_Mother_s_Ethnic_Group__New_York_City.csv'"
   ]
  },
  {
   "cell_type": "code",
   "execution_count": 2,
   "metadata": {},
   "outputs": [
    {
     "name": "stdout",
     "output_type": "stream",
     "text": [
      "Object `pd.read_csv` not found.\n"
     ]
    }
   ],
   "source": [
    "pd.read_csv?"
   ]
  },
  {
   "cell_type": "code",
   "execution_count": 5,
   "metadata": {},
   "outputs": [],
   "source": [
    "data = pd.read_csv(str_archivo)"
   ]
  },
  {
   "cell_type": "code",
   "execution_count": 6,
   "metadata": {},
   "outputs": [
    {
     "data": {
      "text/plain": [
       "pandas.core.frame.DataFrame"
      ]
     },
     "execution_count": 6,
     "metadata": {},
     "output_type": "execute_result"
    }
   ],
   "source": [
    "type(data)"
   ]
  },
  {
   "cell_type": "code",
   "execution_count": 7,
   "metadata": {},
   "outputs": [
    {
     "data": {
      "text/html": [
       "<div>\n",
       "<style>\n",
       "    .dataframe thead tr:only-child th {\n",
       "        text-align: right;\n",
       "    }\n",
       "\n",
       "    .dataframe thead th {\n",
       "        text-align: left;\n",
       "    }\n",
       "\n",
       "    .dataframe tbody tr th {\n",
       "        vertical-align: top;\n",
       "    }\n",
       "</style>\n",
       "<table border=\"1\" class=\"dataframe\">\n",
       "  <thead>\n",
       "    <tr style=\"text-align: right;\">\n",
       "      <th></th>\n",
       "      <th>Year of Birth</th>\n",
       "      <th>Gender</th>\n",
       "      <th>Ethnicity</th>\n",
       "      <th>Child's First Name</th>\n",
       "      <th>Count</th>\n",
       "      <th>Rank</th>\n",
       "    </tr>\n",
       "  </thead>\n",
       "  <tbody>\n",
       "    <tr>\n",
       "      <th>0</th>\n",
       "      <td>2011</td>\n",
       "      <td>FEMALE</td>\n",
       "      <td>HISPANIC</td>\n",
       "      <td>GERALDINE</td>\n",
       "      <td>13</td>\n",
       "      <td>75</td>\n",
       "    </tr>\n",
       "    <tr>\n",
       "      <th>1</th>\n",
       "      <td>2011</td>\n",
       "      <td>FEMALE</td>\n",
       "      <td>HISPANIC</td>\n",
       "      <td>GIA</td>\n",
       "      <td>21</td>\n",
       "      <td>67</td>\n",
       "    </tr>\n",
       "    <tr>\n",
       "      <th>2</th>\n",
       "      <td>2011</td>\n",
       "      <td>FEMALE</td>\n",
       "      <td>HISPANIC</td>\n",
       "      <td>GIANNA</td>\n",
       "      <td>49</td>\n",
       "      <td>42</td>\n",
       "    </tr>\n",
       "    <tr>\n",
       "      <th>3</th>\n",
       "      <td>2011</td>\n",
       "      <td>FEMALE</td>\n",
       "      <td>HISPANIC</td>\n",
       "      <td>GISELLE</td>\n",
       "      <td>38</td>\n",
       "      <td>51</td>\n",
       "    </tr>\n",
       "    <tr>\n",
       "      <th>4</th>\n",
       "      <td>2011</td>\n",
       "      <td>FEMALE</td>\n",
       "      <td>HISPANIC</td>\n",
       "      <td>GRACE</td>\n",
       "      <td>36</td>\n",
       "      <td>53</td>\n",
       "    </tr>\n",
       "    <tr>\n",
       "      <th>5</th>\n",
       "      <td>2011</td>\n",
       "      <td>FEMALE</td>\n",
       "      <td>HISPANIC</td>\n",
       "      <td>GUADALUPE</td>\n",
       "      <td>26</td>\n",
       "      <td>62</td>\n",
       "    </tr>\n",
       "    <tr>\n",
       "      <th>6</th>\n",
       "      <td>2011</td>\n",
       "      <td>FEMALE</td>\n",
       "      <td>HISPANIC</td>\n",
       "      <td>HAILEY</td>\n",
       "      <td>126</td>\n",
       "      <td>8</td>\n",
       "    </tr>\n",
       "    <tr>\n",
       "      <th>7</th>\n",
       "      <td>2011</td>\n",
       "      <td>FEMALE</td>\n",
       "      <td>HISPANIC</td>\n",
       "      <td>HALEY</td>\n",
       "      <td>14</td>\n",
       "      <td>74</td>\n",
       "    </tr>\n",
       "    <tr>\n",
       "      <th>8</th>\n",
       "      <td>2011</td>\n",
       "      <td>FEMALE</td>\n",
       "      <td>HISPANIC</td>\n",
       "      <td>HANNAH</td>\n",
       "      <td>17</td>\n",
       "      <td>71</td>\n",
       "    </tr>\n",
       "    <tr>\n",
       "      <th>9</th>\n",
       "      <td>2011</td>\n",
       "      <td>FEMALE</td>\n",
       "      <td>HISPANIC</td>\n",
       "      <td>HAYLEE</td>\n",
       "      <td>17</td>\n",
       "      <td>71</td>\n",
       "    </tr>\n",
       "    <tr>\n",
       "      <th>10</th>\n",
       "      <td>2011</td>\n",
       "      <td>FEMALE</td>\n",
       "      <td>HISPANIC</td>\n",
       "      <td>HAYLEY</td>\n",
       "      <td>13</td>\n",
       "      <td>75</td>\n",
       "    </tr>\n",
       "    <tr>\n",
       "      <th>11</th>\n",
       "      <td>2011</td>\n",
       "      <td>FEMALE</td>\n",
       "      <td>HISPANIC</td>\n",
       "      <td>HAZEL</td>\n",
       "      <td>10</td>\n",
       "      <td>78</td>\n",
       "    </tr>\n",
       "    <tr>\n",
       "      <th>12</th>\n",
       "      <td>2011</td>\n",
       "      <td>FEMALE</td>\n",
       "      <td>HISPANIC</td>\n",
       "      <td>HEAVEN</td>\n",
       "      <td>15</td>\n",
       "      <td>73</td>\n",
       "    </tr>\n",
       "    <tr>\n",
       "      <th>13</th>\n",
       "      <td>2011</td>\n",
       "      <td>FEMALE</td>\n",
       "      <td>HISPANIC</td>\n",
       "      <td>HEIDI</td>\n",
       "      <td>15</td>\n",
       "      <td>73</td>\n",
       "    </tr>\n",
       "    <tr>\n",
       "      <th>14</th>\n",
       "      <td>2011</td>\n",
       "      <td>FEMALE</td>\n",
       "      <td>HISPANIC</td>\n",
       "      <td>HEIDY</td>\n",
       "      <td>16</td>\n",
       "      <td>72</td>\n",
       "    </tr>\n",
       "    <tr>\n",
       "      <th>15</th>\n",
       "      <td>2011</td>\n",
       "      <td>FEMALE</td>\n",
       "      <td>HISPANIC</td>\n",
       "      <td>HELEN</td>\n",
       "      <td>13</td>\n",
       "      <td>75</td>\n",
       "    </tr>\n",
       "    <tr>\n",
       "      <th>16</th>\n",
       "      <td>2011</td>\n",
       "      <td>FEMALE</td>\n",
       "      <td>HISPANIC</td>\n",
       "      <td>IMANI</td>\n",
       "      <td>11</td>\n",
       "      <td>77</td>\n",
       "    </tr>\n",
       "    <tr>\n",
       "      <th>17</th>\n",
       "      <td>2011</td>\n",
       "      <td>FEMALE</td>\n",
       "      <td>HISPANIC</td>\n",
       "      <td>INGRID</td>\n",
       "      <td>11</td>\n",
       "      <td>77</td>\n",
       "    </tr>\n",
       "    <tr>\n",
       "      <th>18</th>\n",
       "      <td>2011</td>\n",
       "      <td>FEMALE</td>\n",
       "      <td>HISPANIC</td>\n",
       "      <td>IRENE</td>\n",
       "      <td>11</td>\n",
       "      <td>77</td>\n",
       "    </tr>\n",
       "    <tr>\n",
       "      <th>19</th>\n",
       "      <td>2011</td>\n",
       "      <td>FEMALE</td>\n",
       "      <td>HISPANIC</td>\n",
       "      <td>IRIS</td>\n",
       "      <td>10</td>\n",
       "      <td>78</td>\n",
       "    </tr>\n",
       "    <tr>\n",
       "      <th>20</th>\n",
       "      <td>2011</td>\n",
       "      <td>FEMALE</td>\n",
       "      <td>HISPANIC</td>\n",
       "      <td>ISABEL</td>\n",
       "      <td>28</td>\n",
       "      <td>60</td>\n",
       "    </tr>\n",
       "    <tr>\n",
       "      <th>21</th>\n",
       "      <td>2011</td>\n",
       "      <td>FEMALE</td>\n",
       "      <td>HISPANIC</td>\n",
       "      <td>ISABELA</td>\n",
       "      <td>10</td>\n",
       "      <td>78</td>\n",
       "    </tr>\n",
       "    <tr>\n",
       "      <th>22</th>\n",
       "      <td>2011</td>\n",
       "      <td>FEMALE</td>\n",
       "      <td>HISPANIC</td>\n",
       "      <td>ISABELLA</td>\n",
       "      <td>331</td>\n",
       "      <td>1</td>\n",
       "    </tr>\n",
       "    <tr>\n",
       "      <th>23</th>\n",
       "      <td>2011</td>\n",
       "      <td>FEMALE</td>\n",
       "      <td>HISPANIC</td>\n",
       "      <td>ISABELLE</td>\n",
       "      <td>18</td>\n",
       "      <td>70</td>\n",
       "    </tr>\n",
       "    <tr>\n",
       "      <th>24</th>\n",
       "      <td>2011</td>\n",
       "      <td>FEMALE</td>\n",
       "      <td>HISPANIC</td>\n",
       "      <td>ISIS</td>\n",
       "      <td>13</td>\n",
       "      <td>75</td>\n",
       "    </tr>\n",
       "    <tr>\n",
       "      <th>25</th>\n",
       "      <td>2011</td>\n",
       "      <td>FEMALE</td>\n",
       "      <td>HISPANIC</td>\n",
       "      <td>ITZEL</td>\n",
       "      <td>27</td>\n",
       "      <td>61</td>\n",
       "    </tr>\n",
       "    <tr>\n",
       "      <th>26</th>\n",
       "      <td>2011</td>\n",
       "      <td>FEMALE</td>\n",
       "      <td>HISPANIC</td>\n",
       "      <td>IZABELLA</td>\n",
       "      <td>23</td>\n",
       "      <td>65</td>\n",
       "    </tr>\n",
       "    <tr>\n",
       "      <th>27</th>\n",
       "      <td>2011</td>\n",
       "      <td>FEMALE</td>\n",
       "      <td>HISPANIC</td>\n",
       "      <td>JACQUELINE</td>\n",
       "      <td>30</td>\n",
       "      <td>58</td>\n",
       "    </tr>\n",
       "    <tr>\n",
       "      <th>28</th>\n",
       "      <td>2011</td>\n",
       "      <td>FEMALE</td>\n",
       "      <td>HISPANIC</td>\n",
       "      <td>JADA</td>\n",
       "      <td>21</td>\n",
       "      <td>67</td>\n",
       "    </tr>\n",
       "    <tr>\n",
       "      <th>29</th>\n",
       "      <td>2011</td>\n",
       "      <td>FEMALE</td>\n",
       "      <td>HISPANIC</td>\n",
       "      <td>JADE</td>\n",
       "      <td>50</td>\n",
       "      <td>41</td>\n",
       "    </tr>\n",
       "    <tr>\n",
       "      <th>...</th>\n",
       "      <td>...</td>\n",
       "      <td>...</td>\n",
       "      <td>...</td>\n",
       "      <td>...</td>\n",
       "      <td>...</td>\n",
       "      <td>...</td>\n",
       "    </tr>\n",
       "    <tr>\n",
       "      <th>22005</th>\n",
       "      <td>2014</td>\n",
       "      <td>MALE</td>\n",
       "      <td>WHITE NON HISPANIC</td>\n",
       "      <td>Victor</td>\n",
       "      <td>35</td>\n",
       "      <td>77</td>\n",
       "    </tr>\n",
       "    <tr>\n",
       "      <th>22006</th>\n",
       "      <td>2014</td>\n",
       "      <td>MALE</td>\n",
       "      <td>WHITE NON HISPANIC</td>\n",
       "      <td>Vincent</td>\n",
       "      <td>43</td>\n",
       "      <td>70</td>\n",
       "    </tr>\n",
       "    <tr>\n",
       "      <th>22007</th>\n",
       "      <td>2014</td>\n",
       "      <td>MALE</td>\n",
       "      <td>WHITE NON HISPANIC</td>\n",
       "      <td>Vincenzo</td>\n",
       "      <td>11</td>\n",
       "      <td>101</td>\n",
       "    </tr>\n",
       "    <tr>\n",
       "      <th>22008</th>\n",
       "      <td>2014</td>\n",
       "      <td>MALE</td>\n",
       "      <td>WHITE NON HISPANIC</td>\n",
       "      <td>Wesley</td>\n",
       "      <td>11</td>\n",
       "      <td>101</td>\n",
       "    </tr>\n",
       "    <tr>\n",
       "      <th>22009</th>\n",
       "      <td>2014</td>\n",
       "      <td>MALE</td>\n",
       "      <td>WHITE NON HISPANIC</td>\n",
       "      <td>Weston</td>\n",
       "      <td>11</td>\n",
       "      <td>101</td>\n",
       "    </tr>\n",
       "    <tr>\n",
       "      <th>22010</th>\n",
       "      <td>2014</td>\n",
       "      <td>MALE</td>\n",
       "      <td>WHITE NON HISPANIC</td>\n",
       "      <td>William</td>\n",
       "      <td>183</td>\n",
       "      <td>13</td>\n",
       "    </tr>\n",
       "    <tr>\n",
       "      <th>22011</th>\n",
       "      <td>2014</td>\n",
       "      <td>MALE</td>\n",
       "      <td>WHITE NON HISPANIC</td>\n",
       "      <td>Winston</td>\n",
       "      <td>11</td>\n",
       "      <td>101</td>\n",
       "    </tr>\n",
       "    <tr>\n",
       "      <th>22012</th>\n",
       "      <td>2014</td>\n",
       "      <td>MALE</td>\n",
       "      <td>WHITE NON HISPANIC</td>\n",
       "      <td>Wolf</td>\n",
       "      <td>12</td>\n",
       "      <td>100</td>\n",
       "    </tr>\n",
       "    <tr>\n",
       "      <th>22013</th>\n",
       "      <td>2014</td>\n",
       "      <td>MALE</td>\n",
       "      <td>WHITE NON HISPANIC</td>\n",
       "      <td>Wyatt</td>\n",
       "      <td>33</td>\n",
       "      <td>79</td>\n",
       "    </tr>\n",
       "    <tr>\n",
       "      <th>22014</th>\n",
       "      <td>2014</td>\n",
       "      <td>MALE</td>\n",
       "      <td>WHITE NON HISPANIC</td>\n",
       "      <td>Xavier</td>\n",
       "      <td>25</td>\n",
       "      <td>87</td>\n",
       "    </tr>\n",
       "    <tr>\n",
       "      <th>22015</th>\n",
       "      <td>2014</td>\n",
       "      <td>MALE</td>\n",
       "      <td>WHITE NON HISPANIC</td>\n",
       "      <td>Yaakov</td>\n",
       "      <td>46</td>\n",
       "      <td>67</td>\n",
       "    </tr>\n",
       "    <tr>\n",
       "      <th>22016</th>\n",
       "      <td>2014</td>\n",
       "      <td>MALE</td>\n",
       "      <td>WHITE NON HISPANIC</td>\n",
       "      <td>Yahya</td>\n",
       "      <td>11</td>\n",
       "      <td>101</td>\n",
       "    </tr>\n",
       "    <tr>\n",
       "      <th>22017</th>\n",
       "      <td>2014</td>\n",
       "      <td>MALE</td>\n",
       "      <td>WHITE NON HISPANIC</td>\n",
       "      <td>Yakov</td>\n",
       "      <td>45</td>\n",
       "      <td>68</td>\n",
       "    </tr>\n",
       "    <tr>\n",
       "      <th>22018</th>\n",
       "      <td>2014</td>\n",
       "      <td>MALE</td>\n",
       "      <td>WHITE NON HISPANIC</td>\n",
       "      <td>Yaseen</td>\n",
       "      <td>12</td>\n",
       "      <td>100</td>\n",
       "    </tr>\n",
       "    <tr>\n",
       "      <th>22019</th>\n",
       "      <td>2014</td>\n",
       "      <td>MALE</td>\n",
       "      <td>WHITE NON HISPANIC</td>\n",
       "      <td>Yechiel</td>\n",
       "      <td>39</td>\n",
       "      <td>73</td>\n",
       "    </tr>\n",
       "    <tr>\n",
       "      <th>22020</th>\n",
       "      <td>2014</td>\n",
       "      <td>MALE</td>\n",
       "      <td>WHITE NON HISPANIC</td>\n",
       "      <td>Yehoshua</td>\n",
       "      <td>26</td>\n",
       "      <td>86</td>\n",
       "    </tr>\n",
       "    <tr>\n",
       "      <th>22021</th>\n",
       "      <td>2014</td>\n",
       "      <td>MALE</td>\n",
       "      <td>WHITE NON HISPANIC</td>\n",
       "      <td>Yehuda</td>\n",
       "      <td>86</td>\n",
       "      <td>41</td>\n",
       "    </tr>\n",
       "    <tr>\n",
       "      <th>22022</th>\n",
       "      <td>2014</td>\n",
       "      <td>MALE</td>\n",
       "      <td>WHITE NON HISPANIC</td>\n",
       "      <td>Yidel</td>\n",
       "      <td>10</td>\n",
       "      <td>102</td>\n",
       "    </tr>\n",
       "    <tr>\n",
       "      <th>22023</th>\n",
       "      <td>2014</td>\n",
       "      <td>MALE</td>\n",
       "      <td>WHITE NON HISPANIC</td>\n",
       "      <td>Yisrael</td>\n",
       "      <td>14</td>\n",
       "      <td>98</td>\n",
       "    </tr>\n",
       "    <tr>\n",
       "      <th>22024</th>\n",
       "      <td>2014</td>\n",
       "      <td>MALE</td>\n",
       "      <td>WHITE NON HISPANIC</td>\n",
       "      <td>Yisroel</td>\n",
       "      <td>83</td>\n",
       "      <td>43</td>\n",
       "    </tr>\n",
       "    <tr>\n",
       "      <th>22025</th>\n",
       "      <td>2014</td>\n",
       "      <td>MALE</td>\n",
       "      <td>WHITE NON HISPANIC</td>\n",
       "      <td>Yitzchak</td>\n",
       "      <td>15</td>\n",
       "      <td>97</td>\n",
       "    </tr>\n",
       "    <tr>\n",
       "      <th>22026</th>\n",
       "      <td>2014</td>\n",
       "      <td>MALE</td>\n",
       "      <td>WHITE NON HISPANIC</td>\n",
       "      <td>Yitzchok</td>\n",
       "      <td>66</td>\n",
       "      <td>51</td>\n",
       "    </tr>\n",
       "    <tr>\n",
       "      <th>22027</th>\n",
       "      <td>2014</td>\n",
       "      <td>MALE</td>\n",
       "      <td>WHITE NON HISPANIC</td>\n",
       "      <td>Yoel</td>\n",
       "      <td>12</td>\n",
       "      <td>100</td>\n",
       "    </tr>\n",
       "    <tr>\n",
       "      <th>22028</th>\n",
       "      <td>2014</td>\n",
       "      <td>MALE</td>\n",
       "      <td>WHITE NON HISPANIC</td>\n",
       "      <td>Yosef</td>\n",
       "      <td>116</td>\n",
       "      <td>28</td>\n",
       "    </tr>\n",
       "    <tr>\n",
       "      <th>22029</th>\n",
       "      <td>2014</td>\n",
       "      <td>MALE</td>\n",
       "      <td>WHITE NON HISPANIC</td>\n",
       "      <td>Yossi</td>\n",
       "      <td>15</td>\n",
       "      <td>97</td>\n",
       "    </tr>\n",
       "    <tr>\n",
       "      <th>22030</th>\n",
       "      <td>2014</td>\n",
       "      <td>MALE</td>\n",
       "      <td>WHITE NON HISPANIC</td>\n",
       "      <td>Yousef</td>\n",
       "      <td>18</td>\n",
       "      <td>94</td>\n",
       "    </tr>\n",
       "    <tr>\n",
       "      <th>22031</th>\n",
       "      <td>2014</td>\n",
       "      <td>MALE</td>\n",
       "      <td>WHITE NON HISPANIC</td>\n",
       "      <td>Youssef</td>\n",
       "      <td>24</td>\n",
       "      <td>88</td>\n",
       "    </tr>\n",
       "    <tr>\n",
       "      <th>22032</th>\n",
       "      <td>2014</td>\n",
       "      <td>MALE</td>\n",
       "      <td>WHITE NON HISPANIC</td>\n",
       "      <td>Yusuf</td>\n",
       "      <td>16</td>\n",
       "      <td>96</td>\n",
       "    </tr>\n",
       "    <tr>\n",
       "      <th>22033</th>\n",
       "      <td>2014</td>\n",
       "      <td>MALE</td>\n",
       "      <td>WHITE NON HISPANIC</td>\n",
       "      <td>Zachary</td>\n",
       "      <td>90</td>\n",
       "      <td>39</td>\n",
       "    </tr>\n",
       "    <tr>\n",
       "      <th>22034</th>\n",
       "      <td>2014</td>\n",
       "      <td>MALE</td>\n",
       "      <td>WHITE NON HISPANIC</td>\n",
       "      <td>Zev</td>\n",
       "      <td>49</td>\n",
       "      <td>65</td>\n",
       "    </tr>\n",
       "  </tbody>\n",
       "</table>\n",
       "<p>22035 rows × 6 columns</p>\n",
       "</div>"
      ],
      "text/plain": [
       "       Year of Birth  Gender           Ethnicity Child's First Name  Count  \\\n",
       "0               2011  FEMALE            HISPANIC          GERALDINE     13   \n",
       "1               2011  FEMALE            HISPANIC                GIA     21   \n",
       "2               2011  FEMALE            HISPANIC             GIANNA     49   \n",
       "3               2011  FEMALE            HISPANIC            GISELLE     38   \n",
       "4               2011  FEMALE            HISPANIC              GRACE     36   \n",
       "5               2011  FEMALE            HISPANIC          GUADALUPE     26   \n",
       "6               2011  FEMALE            HISPANIC             HAILEY    126   \n",
       "7               2011  FEMALE            HISPANIC              HALEY     14   \n",
       "8               2011  FEMALE            HISPANIC             HANNAH     17   \n",
       "9               2011  FEMALE            HISPANIC             HAYLEE     17   \n",
       "10              2011  FEMALE            HISPANIC             HAYLEY     13   \n",
       "11              2011  FEMALE            HISPANIC              HAZEL     10   \n",
       "12              2011  FEMALE            HISPANIC             HEAVEN     15   \n",
       "13              2011  FEMALE            HISPANIC              HEIDI     15   \n",
       "14              2011  FEMALE            HISPANIC              HEIDY     16   \n",
       "15              2011  FEMALE            HISPANIC              HELEN     13   \n",
       "16              2011  FEMALE            HISPANIC              IMANI     11   \n",
       "17              2011  FEMALE            HISPANIC             INGRID     11   \n",
       "18              2011  FEMALE            HISPANIC              IRENE     11   \n",
       "19              2011  FEMALE            HISPANIC               IRIS     10   \n",
       "20              2011  FEMALE            HISPANIC             ISABEL     28   \n",
       "21              2011  FEMALE            HISPANIC            ISABELA     10   \n",
       "22              2011  FEMALE            HISPANIC           ISABELLA    331   \n",
       "23              2011  FEMALE            HISPANIC           ISABELLE     18   \n",
       "24              2011  FEMALE            HISPANIC               ISIS     13   \n",
       "25              2011  FEMALE            HISPANIC              ITZEL     27   \n",
       "26              2011  FEMALE            HISPANIC           IZABELLA     23   \n",
       "27              2011  FEMALE            HISPANIC         JACQUELINE     30   \n",
       "28              2011  FEMALE            HISPANIC               JADA     21   \n",
       "29              2011  FEMALE            HISPANIC               JADE     50   \n",
       "...              ...     ...                 ...                ...    ...   \n",
       "22005           2014    MALE  WHITE NON HISPANIC             Victor     35   \n",
       "22006           2014    MALE  WHITE NON HISPANIC            Vincent     43   \n",
       "22007           2014    MALE  WHITE NON HISPANIC           Vincenzo     11   \n",
       "22008           2014    MALE  WHITE NON HISPANIC             Wesley     11   \n",
       "22009           2014    MALE  WHITE NON HISPANIC             Weston     11   \n",
       "22010           2014    MALE  WHITE NON HISPANIC            William    183   \n",
       "22011           2014    MALE  WHITE NON HISPANIC            Winston     11   \n",
       "22012           2014    MALE  WHITE NON HISPANIC               Wolf     12   \n",
       "22013           2014    MALE  WHITE NON HISPANIC              Wyatt     33   \n",
       "22014           2014    MALE  WHITE NON HISPANIC             Xavier     25   \n",
       "22015           2014    MALE  WHITE NON HISPANIC             Yaakov     46   \n",
       "22016           2014    MALE  WHITE NON HISPANIC              Yahya     11   \n",
       "22017           2014    MALE  WHITE NON HISPANIC              Yakov     45   \n",
       "22018           2014    MALE  WHITE NON HISPANIC             Yaseen     12   \n",
       "22019           2014    MALE  WHITE NON HISPANIC            Yechiel     39   \n",
       "22020           2014    MALE  WHITE NON HISPANIC           Yehoshua     26   \n",
       "22021           2014    MALE  WHITE NON HISPANIC             Yehuda     86   \n",
       "22022           2014    MALE  WHITE NON HISPANIC              Yidel     10   \n",
       "22023           2014    MALE  WHITE NON HISPANIC            Yisrael     14   \n",
       "22024           2014    MALE  WHITE NON HISPANIC            Yisroel     83   \n",
       "22025           2014    MALE  WHITE NON HISPANIC           Yitzchak     15   \n",
       "22026           2014    MALE  WHITE NON HISPANIC           Yitzchok     66   \n",
       "22027           2014    MALE  WHITE NON HISPANIC               Yoel     12   \n",
       "22028           2014    MALE  WHITE NON HISPANIC              Yosef    116   \n",
       "22029           2014    MALE  WHITE NON HISPANIC              Yossi     15   \n",
       "22030           2014    MALE  WHITE NON HISPANIC             Yousef     18   \n",
       "22031           2014    MALE  WHITE NON HISPANIC            Youssef     24   \n",
       "22032           2014    MALE  WHITE NON HISPANIC              Yusuf     16   \n",
       "22033           2014    MALE  WHITE NON HISPANIC            Zachary     90   \n",
       "22034           2014    MALE  WHITE NON HISPANIC                Zev     49   \n",
       "\n",
       "       Rank  \n",
       "0        75  \n",
       "1        67  \n",
       "2        42  \n",
       "3        51  \n",
       "4        53  \n",
       "5        62  \n",
       "6         8  \n",
       "7        74  \n",
       "8        71  \n",
       "9        71  \n",
       "10       75  \n",
       "11       78  \n",
       "12       73  \n",
       "13       73  \n",
       "14       72  \n",
       "15       75  \n",
       "16       77  \n",
       "17       77  \n",
       "18       77  \n",
       "19       78  \n",
       "20       60  \n",
       "21       78  \n",
       "22        1  \n",
       "23       70  \n",
       "24       75  \n",
       "25       61  \n",
       "26       65  \n",
       "27       58  \n",
       "28       67  \n",
       "29       41  \n",
       "...     ...  \n",
       "22005    77  \n",
       "22006    70  \n",
       "22007   101  \n",
       "22008   101  \n",
       "22009   101  \n",
       "22010    13  \n",
       "22011   101  \n",
       "22012   100  \n",
       "22013    79  \n",
       "22014    87  \n",
       "22015    67  \n",
       "22016   101  \n",
       "22017    68  \n",
       "22018   100  \n",
       "22019    73  \n",
       "22020    86  \n",
       "22021    41  \n",
       "22022   102  \n",
       "22023    98  \n",
       "22024    43  \n",
       "22025    97  \n",
       "22026    51  \n",
       "22027   100  \n",
       "22028    28  \n",
       "22029    97  \n",
       "22030    94  \n",
       "22031    88  \n",
       "22032    96  \n",
       "22033    39  \n",
       "22034    65  \n",
       "\n",
       "[22035 rows x 6 columns]"
      ]
     },
     "execution_count": 7,
     "metadata": {},
     "output_type": "execute_result"
    }
   ],
   "source": [
    "data"
   ]
  },
  {
   "cell_type": "code",
   "execution_count": 184,
   "metadata": {},
   "outputs": [
    {
     "data": {
      "text/plain": [
       "0        2011\n",
       "1        2011\n",
       "2        2011\n",
       "3        2011\n",
       "4        2011\n",
       "5        2011\n",
       "6        2011\n",
       "7        2011\n",
       "8        2011\n",
       "9        2011\n",
       "10       2011\n",
       "11       2011\n",
       "12       2011\n",
       "13       2011\n",
       "14       2011\n",
       "15       2011\n",
       "16       2011\n",
       "17       2011\n",
       "18       2011\n",
       "19       2011\n",
       "20       2011\n",
       "21       2011\n",
       "22       2011\n",
       "23       2011\n",
       "24       2011\n",
       "25       2011\n",
       "26       2011\n",
       "27       2011\n",
       "28       2011\n",
       "29       2011\n",
       "         ... \n",
       "22005    2014\n",
       "22006    2014\n",
       "22007    2014\n",
       "22008    2014\n",
       "22009    2014\n",
       "22010    2014\n",
       "22011    2014\n",
       "22012    2014\n",
       "22013    2014\n",
       "22014    2014\n",
       "22015    2014\n",
       "22016    2014\n",
       "22017    2014\n",
       "22018    2014\n",
       "22019    2014\n",
       "22020    2014\n",
       "22021    2014\n",
       "22022    2014\n",
       "22023    2014\n",
       "22024    2014\n",
       "22025    2014\n",
       "22026    2014\n",
       "22027    2014\n",
       "22028    2014\n",
       "22029    2014\n",
       "22030    2014\n",
       "22031    2014\n",
       "22032    2014\n",
       "22033    2014\n",
       "22034    2014\n",
       "Name: Year of Birth, Length: 22035, dtype: int64"
      ]
     },
     "execution_count": 184,
     "metadata": {},
     "output_type": "execute_result"
    }
   ],
   "source": [
    "data['Year of Birth']"
   ]
  },
  {
   "cell_type": "code",
   "execution_count": 337,
   "metadata": {},
   "outputs": [
    {
     "data": {
      "text/plain": [
       "0         GERALDINE\n",
       "1               GIA\n",
       "2            GIANNA\n",
       "3           GISELLE\n",
       "4             GRACE\n",
       "5         GUADALUPE\n",
       "6            HAILEY\n",
       "7             HALEY\n",
       "8            HANNAH\n",
       "9            HAYLEE\n",
       "10           HAYLEY\n",
       "11            HAZEL\n",
       "12           HEAVEN\n",
       "13            HEIDI\n",
       "14            HEIDY\n",
       "15            HELEN\n",
       "16            IMANI\n",
       "17           INGRID\n",
       "18            IRENE\n",
       "19             IRIS\n",
       "20           ISABEL\n",
       "21          ISABELA\n",
       "22         ISABELLA\n",
       "23         ISABELLE\n",
       "24             ISIS\n",
       "25            ITZEL\n",
       "26         IZABELLA\n",
       "27       JACQUELINE\n",
       "28             JADA\n",
       "29             JADE\n",
       "            ...    \n",
       "22005        Victor\n",
       "22006       Vincent\n",
       "22007      Vincenzo\n",
       "22008        Wesley\n",
       "22009        Weston\n",
       "22010       William\n",
       "22011       Winston\n",
       "22012          Wolf\n",
       "22013         Wyatt\n",
       "22014        Xavier\n",
       "22015        Yaakov\n",
       "22016         Yahya\n",
       "22017         Yakov\n",
       "22018        Yaseen\n",
       "22019       Yechiel\n",
       "22020      Yehoshua\n",
       "22021        Yehuda\n",
       "22022         Yidel\n",
       "22023       Yisrael\n",
       "22024       Yisroel\n",
       "22025      Yitzchak\n",
       "22026      Yitzchok\n",
       "22027          Yoel\n",
       "22028         Yosef\n",
       "22029         Yossi\n",
       "22030        Yousef\n",
       "22031       Youssef\n",
       "22032         Yusuf\n",
       "22033       Zachary\n",
       "22034           Zev\n",
       "Name: Child's First Name, Length: 22035, dtype: object"
      ]
     },
     "execution_count": 337,
     "metadata": {},
     "output_type": "execute_result"
    }
   ],
   "source": [
    "data['Child\\'s First Name']"
   ]
  },
  {
   "cell_type": "markdown",
   "metadata": {},
   "source": [
    "**Pandas ofrece una serie de análisis estadísticos sobre cada serie**\n",
    "\n",
    "Podemos sumar el número total de nombres (niños) de toda la base de datos"
   ]
  },
  {
   "cell_type": "code",
   "execution_count": 338,
   "metadata": {},
   "outputs": [
    {
     "data": {
      "text/plain": [
       "0         13\n",
       "1         21\n",
       "2         49\n",
       "3         38\n",
       "4         36\n",
       "5         26\n",
       "6        126\n",
       "7         14\n",
       "8         17\n",
       "9         17\n",
       "10        13\n",
       "11        10\n",
       "12        15\n",
       "13        15\n",
       "14        16\n",
       "15        13\n",
       "16        11\n",
       "17        11\n",
       "18        11\n",
       "19        10\n",
       "20        28\n",
       "21        10\n",
       "22       331\n",
       "23        18\n",
       "24        13\n",
       "25        27\n",
       "26        23\n",
       "27        30\n",
       "28        21\n",
       "29        50\n",
       "        ... \n",
       "22005     35\n",
       "22006     43\n",
       "22007     11\n",
       "22008     11\n",
       "22009     11\n",
       "22010    183\n",
       "22011     11\n",
       "22012     12\n",
       "22013     33\n",
       "22014     25\n",
       "22015     46\n",
       "22016     11\n",
       "22017     45\n",
       "22018     12\n",
       "22019     39\n",
       "22020     26\n",
       "22021     86\n",
       "22022     10\n",
       "22023     14\n",
       "22024     83\n",
       "22025     15\n",
       "22026     66\n",
       "22027     12\n",
       "22028    116\n",
       "22029     15\n",
       "22030     18\n",
       "22031     24\n",
       "22032     16\n",
       "22033     90\n",
       "22034     49\n",
       "Name: Count, Length: 22035, dtype: int64"
      ]
     },
     "execution_count": 338,
     "metadata": {},
     "output_type": "execute_result"
    }
   ],
   "source": [
    "data['Count']"
   ]
  },
  {
   "cell_type": "code",
   "execution_count": 339,
   "metadata": {},
   "outputs": [
    {
     "data": {
      "text/plain": [
       "760490"
      ]
     },
     "execution_count": 339,
     "metadata": {},
     "output_type": "execute_result"
    }
   ],
   "source": [
    "data['Count'].sum()"
   ]
  },
  {
   "cell_type": "markdown",
   "metadata": {},
   "source": [
    "** Ahora lo vamos a ordenar según el número de niños con ese nombre.**"
   ]
  },
  {
   "cell_type": "code",
   "execution_count": 351,
   "metadata": {},
   "outputs": [
    {
     "data": {
      "text/html": [
       "<div>\n",
       "<style>\n",
       "    .dataframe thead tr:only-child th {\n",
       "        text-align: right;\n",
       "    }\n",
       "\n",
       "    .dataframe thead th {\n",
       "        text-align: left;\n",
       "    }\n",
       "\n",
       "    .dataframe tbody tr th {\n",
       "        vertical-align: top;\n",
       "    }\n",
       "</style>\n",
       "<table border=\"1\" class=\"dataframe\">\n",
       "  <thead>\n",
       "    <tr style=\"text-align: right;\">\n",
       "      <th></th>\n",
       "      <th>Year of Birth</th>\n",
       "      <th>Gender</th>\n",
       "      <th>Ethnicity</th>\n",
       "      <th>Child's First Name</th>\n",
       "      <th>Count</th>\n",
       "      <th>Rank</th>\n",
       "    </tr>\n",
       "  </thead>\n",
       "  <tbody>\n",
       "    <tr>\n",
       "      <th>2767</th>\n",
       "      <td>2011</td>\n",
       "      <td>FEMALE</td>\n",
       "      <td>HISPANIC</td>\n",
       "      <td>ABBY</td>\n",
       "      <td>10</td>\n",
       "      <td>78</td>\n",
       "    </tr>\n",
       "    <tr>\n",
       "      <th>11025</th>\n",
       "      <td>2013</td>\n",
       "      <td>MALE</td>\n",
       "      <td>ASIAN AND PACIFIC ISLANDER</td>\n",
       "      <td>Nolan</td>\n",
       "      <td>10</td>\n",
       "      <td>57</td>\n",
       "    </tr>\n",
       "    <tr>\n",
       "      <th>17344</th>\n",
       "      <td>2012</td>\n",
       "      <td>FEMALE</td>\n",
       "      <td>WHITE NON HISP</td>\n",
       "      <td>MARYAM</td>\n",
       "      <td>10</td>\n",
       "      <td>83</td>\n",
       "    </tr>\n",
       "    <tr>\n",
       "      <th>17347</th>\n",
       "      <td>2012</td>\n",
       "      <td>FEMALE</td>\n",
       "      <td>WHITE NON HISP</td>\n",
       "      <td>MELANIE</td>\n",
       "      <td>10</td>\n",
       "      <td>83</td>\n",
       "    </tr>\n",
       "    <tr>\n",
       "      <th>11013</th>\n",
       "      <td>2013</td>\n",
       "      <td>MALE</td>\n",
       "      <td>ASIAN AND PACIFIC ISLANDER</td>\n",
       "      <td>Maximilian</td>\n",
       "      <td>10</td>\n",
       "      <td>57</td>\n",
       "    </tr>\n",
       "    <tr>\n",
       "      <th>11009</th>\n",
       "      <td>2013</td>\n",
       "      <td>MALE</td>\n",
       "      <td>ASIAN AND PACIFIC ISLANDER</td>\n",
       "      <td>Martin</td>\n",
       "      <td>10</td>\n",
       "      <td>57</td>\n",
       "    </tr>\n",
       "    <tr>\n",
       "      <th>3730</th>\n",
       "      <td>2011</td>\n",
       "      <td>MALE</td>\n",
       "      <td>WHITE NON HISPANIC</td>\n",
       "      <td>DEREK</td>\n",
       "      <td>10</td>\n",
       "      <td>97</td>\n",
       "    </tr>\n",
       "    <tr>\n",
       "      <th>10947</th>\n",
       "      <td>2013</td>\n",
       "      <td>MALE</td>\n",
       "      <td>ASIAN AND PACIFIC ISLANDER</td>\n",
       "      <td>Eden</td>\n",
       "      <td>10</td>\n",
       "      <td>57</td>\n",
       "    </tr>\n",
       "    <tr>\n",
       "      <th>17390</th>\n",
       "      <td>2012</td>\n",
       "      <td>FEMALE</td>\n",
       "      <td>WHITE NON HISP</td>\n",
       "      <td>REEM</td>\n",
       "      <td>10</td>\n",
       "      <td>83</td>\n",
       "    </tr>\n",
       "    <tr>\n",
       "      <th>10943</th>\n",
       "      <td>2013</td>\n",
       "      <td>MALE</td>\n",
       "      <td>ASIAN AND PACIFIC ISLANDER</td>\n",
       "      <td>Devin</td>\n",
       "      <td>10</td>\n",
       "      <td>57</td>\n",
       "    </tr>\n",
       "    <tr>\n",
       "      <th>17400</th>\n",
       "      <td>2012</td>\n",
       "      <td>FEMALE</td>\n",
       "      <td>WHITE NON HISP</td>\n",
       "      <td>ROSIE</td>\n",
       "      <td>10</td>\n",
       "      <td>83</td>\n",
       "    </tr>\n",
       "    <tr>\n",
       "      <th>10937</th>\n",
       "      <td>2013</td>\n",
       "      <td>MALE</td>\n",
       "      <td>ASIAN AND PACIFIC ISLANDER</td>\n",
       "      <td>Damon</td>\n",
       "      <td>10</td>\n",
       "      <td>57</td>\n",
       "    </tr>\n",
       "    <tr>\n",
       "      <th>17407</th>\n",
       "      <td>2012</td>\n",
       "      <td>FEMALE</td>\n",
       "      <td>WHITE NON HISP</td>\n",
       "      <td>SAGE</td>\n",
       "      <td>10</td>\n",
       "      <td>83</td>\n",
       "    </tr>\n",
       "    <tr>\n",
       "      <th>10929</th>\n",
       "      <td>2013</td>\n",
       "      <td>MALE</td>\n",
       "      <td>ASIAN AND PACIFIC ISLANDER</td>\n",
       "      <td>Carson</td>\n",
       "      <td>10</td>\n",
       "      <td>57</td>\n",
       "    </tr>\n",
       "    <tr>\n",
       "      <th>10924</th>\n",
       "      <td>2013</td>\n",
       "      <td>MALE</td>\n",
       "      <td>ASIAN AND PACIFIC ISLANDER</td>\n",
       "      <td>Brendan</td>\n",
       "      <td>10</td>\n",
       "      <td>57</td>\n",
       "    </tr>\n",
       "    <tr>\n",
       "      <th>17418</th>\n",
       "      <td>2013</td>\n",
       "      <td>FEMALE</td>\n",
       "      <td>ASIAN AND PACIFIC ISLANDER</td>\n",
       "      <td>Ananya</td>\n",
       "      <td>10</td>\n",
       "      <td>42</td>\n",
       "    </tr>\n",
       "    <tr>\n",
       "      <th>10921</th>\n",
       "      <td>2013</td>\n",
       "      <td>MALE</td>\n",
       "      <td>ASIAN AND PACIFIC ISLANDER</td>\n",
       "      <td>Bowen</td>\n",
       "      <td>10</td>\n",
       "      <td>57</td>\n",
       "    </tr>\n",
       "    <tr>\n",
       "      <th>17425</th>\n",
       "      <td>2013</td>\n",
       "      <td>FEMALE</td>\n",
       "      <td>ASIAN AND PACIFIC ISLANDER</td>\n",
       "      <td>Annabelle</td>\n",
       "      <td>10</td>\n",
       "      <td>42</td>\n",
       "    </tr>\n",
       "    <tr>\n",
       "      <th>17427</th>\n",
       "      <td>2013</td>\n",
       "      <td>FEMALE</td>\n",
       "      <td>ASIAN AND PACIFIC ISLANDER</td>\n",
       "      <td>Annika</td>\n",
       "      <td>10</td>\n",
       "      <td>42</td>\n",
       "    </tr>\n",
       "    <tr>\n",
       "      <th>17435</th>\n",
       "      <td>2013</td>\n",
       "      <td>FEMALE</td>\n",
       "      <td>ASIAN AND PACIFIC ISLANDER</td>\n",
       "      <td>Athena</td>\n",
       "      <td>10</td>\n",
       "      <td>42</td>\n",
       "    </tr>\n",
       "    <tr>\n",
       "      <th>1567</th>\n",
       "      <td>2011</td>\n",
       "      <td>MALE</td>\n",
       "      <td>HISPANIC</td>\n",
       "      <td>MARLON</td>\n",
       "      <td>10</td>\n",
       "      <td>94</td>\n",
       "    </tr>\n",
       "    <tr>\n",
       "      <th>10913</th>\n",
       "      <td>2013</td>\n",
       "      <td>MALE</td>\n",
       "      <td>ASIAN AND PACIFIC ISLANDER</td>\n",
       "      <td>Asher</td>\n",
       "      <td>10</td>\n",
       "      <td>57</td>\n",
       "    </tr>\n",
       "    <tr>\n",
       "      <th>17453</th>\n",
       "      <td>2013</td>\n",
       "      <td>FEMALE</td>\n",
       "      <td>ASIAN AND PACIFIC ISLANDER</td>\n",
       "      <td>Connie</td>\n",
       "      <td>10</td>\n",
       "      <td>42</td>\n",
       "    </tr>\n",
       "    <tr>\n",
       "      <th>3748</th>\n",
       "      <td>2011</td>\n",
       "      <td>MALE</td>\n",
       "      <td>WHITE NON HISPANIC</td>\n",
       "      <td>ELLIS</td>\n",
       "      <td>10</td>\n",
       "      <td>97</td>\n",
       "    </tr>\n",
       "    <tr>\n",
       "      <th>17465</th>\n",
       "      <td>2013</td>\n",
       "      <td>FEMALE</td>\n",
       "      <td>ASIAN AND PACIFIC ISLANDER</td>\n",
       "      <td>Emaan</td>\n",
       "      <td>10</td>\n",
       "      <td>42</td>\n",
       "    </tr>\n",
       "    <tr>\n",
       "      <th>17469</th>\n",
       "      <td>2013</td>\n",
       "      <td>FEMALE</td>\n",
       "      <td>ASIAN AND PACIFIC ISLANDER</td>\n",
       "      <td>Eunice</td>\n",
       "      <td>10</td>\n",
       "      <td>42</td>\n",
       "    </tr>\n",
       "    <tr>\n",
       "      <th>10866</th>\n",
       "      <td>2013</td>\n",
       "      <td>FEMALE</td>\n",
       "      <td>WHITE NON HISPANIC</td>\n",
       "      <td>Trany</td>\n",
       "      <td>10</td>\n",
       "      <td>82</td>\n",
       "    </tr>\n",
       "    <tr>\n",
       "      <th>10861</th>\n",
       "      <td>2013</td>\n",
       "      <td>FEMALE</td>\n",
       "      <td>WHITE NON HISPANIC</td>\n",
       "      <td>Tamar</td>\n",
       "      <td>10</td>\n",
       "      <td>82</td>\n",
       "    </tr>\n",
       "    <tr>\n",
       "      <th>10859</th>\n",
       "      <td>2013</td>\n",
       "      <td>FEMALE</td>\n",
       "      <td>WHITE NON HISPANIC</td>\n",
       "      <td>Sylvia</td>\n",
       "      <td>10</td>\n",
       "      <td>82</td>\n",
       "    </tr>\n",
       "    <tr>\n",
       "      <th>10830</th>\n",
       "      <td>2013</td>\n",
       "      <td>FEMALE</td>\n",
       "      <td>WHITE NON HISPANIC</td>\n",
       "      <td>Sage</td>\n",
       "      <td>10</td>\n",
       "      <td>82</td>\n",
       "    </tr>\n",
       "    <tr>\n",
       "      <th>...</th>\n",
       "      <td>...</td>\n",
       "      <td>...</td>\n",
       "      <td>...</td>\n",
       "      <td>...</td>\n",
       "      <td>...</td>\n",
       "      <td>...</td>\n",
       "    </tr>\n",
       "    <tr>\n",
       "      <th>15950</th>\n",
       "      <td>2011</td>\n",
       "      <td>MALE</td>\n",
       "      <td>HISPANIC</td>\n",
       "      <td>JACOB</td>\n",
       "      <td>303</td>\n",
       "      <td>3</td>\n",
       "    </tr>\n",
       "    <tr>\n",
       "      <th>11622</th>\n",
       "      <td>2013</td>\n",
       "      <td>MALE</td>\n",
       "      <td>WHITE NON HISPANIC</td>\n",
       "      <td>David</td>\n",
       "      <td>304</td>\n",
       "      <td>1</td>\n",
       "    </tr>\n",
       "    <tr>\n",
       "      <th>20135</th>\n",
       "      <td>2013</td>\n",
       "      <td>MALE</td>\n",
       "      <td>WHITE NON HISPANIC</td>\n",
       "      <td>David</td>\n",
       "      <td>304</td>\n",
       "      <td>1</td>\n",
       "    </tr>\n",
       "    <tr>\n",
       "      <th>3541</th>\n",
       "      <td>2011</td>\n",
       "      <td>MALE</td>\n",
       "      <td>HISPANIC</td>\n",
       "      <td>JUSTIN</td>\n",
       "      <td>310</td>\n",
       "      <td>2</td>\n",
       "    </tr>\n",
       "    <tr>\n",
       "      <th>16001</th>\n",
       "      <td>2011</td>\n",
       "      <td>MALE</td>\n",
       "      <td>HISPANIC</td>\n",
       "      <td>JUSTIN</td>\n",
       "      <td>310</td>\n",
       "      <td>2</td>\n",
       "    </tr>\n",
       "    <tr>\n",
       "      <th>1540</th>\n",
       "      <td>2011</td>\n",
       "      <td>MALE</td>\n",
       "      <td>HISPANIC</td>\n",
       "      <td>JUSTIN</td>\n",
       "      <td>310</td>\n",
       "      <td>2</td>\n",
       "    </tr>\n",
       "    <tr>\n",
       "      <th>5466</th>\n",
       "      <td>2011</td>\n",
       "      <td>MALE</td>\n",
       "      <td>HISPANIC</td>\n",
       "      <td>JUSTIN</td>\n",
       "      <td>310</td>\n",
       "      <td>2</td>\n",
       "    </tr>\n",
       "    <tr>\n",
       "      <th>7429</th>\n",
       "      <td>2011</td>\n",
       "      <td>MALE</td>\n",
       "      <td>HISPANIC</td>\n",
       "      <td>JUSTIN</td>\n",
       "      <td>310</td>\n",
       "      <td>2</td>\n",
       "    </tr>\n",
       "    <tr>\n",
       "      <th>13514</th>\n",
       "      <td>2014</td>\n",
       "      <td>MALE</td>\n",
       "      <td>HISPANIC</td>\n",
       "      <td>Liam</td>\n",
       "      <td>312</td>\n",
       "      <td>1</td>\n",
       "    </tr>\n",
       "    <tr>\n",
       "      <th>21143</th>\n",
       "      <td>2014</td>\n",
       "      <td>MALE</td>\n",
       "      <td>HISPANIC</td>\n",
       "      <td>Liam</td>\n",
       "      <td>312</td>\n",
       "      <td>1</td>\n",
       "    </tr>\n",
       "    <tr>\n",
       "      <th>18868</th>\n",
       "      <td>2013</td>\n",
       "      <td>FEMALE</td>\n",
       "      <td>HISPANIC</td>\n",
       "      <td>Isabella</td>\n",
       "      <td>326</td>\n",
       "      <td>1</td>\n",
       "    </tr>\n",
       "    <tr>\n",
       "      <th>10343</th>\n",
       "      <td>2013</td>\n",
       "      <td>FEMALE</td>\n",
       "      <td>HISPANIC</td>\n",
       "      <td>Isabella</td>\n",
       "      <td>326</td>\n",
       "      <td>1</td>\n",
       "    </tr>\n",
       "    <tr>\n",
       "      <th>8332</th>\n",
       "      <td>2012</td>\n",
       "      <td>FEMALE</td>\n",
       "      <td>HISPANIC</td>\n",
       "      <td>ISABELLA</td>\n",
       "      <td>327</td>\n",
       "      <td>1</td>\n",
       "    </tr>\n",
       "    <tr>\n",
       "      <th>16921</th>\n",
       "      <td>2012</td>\n",
       "      <td>FEMALE</td>\n",
       "      <td>HISPANIC</td>\n",
       "      <td>ISABELLA</td>\n",
       "      <td>327</td>\n",
       "      <td>1</td>\n",
       "    </tr>\n",
       "    <tr>\n",
       "      <th>6369</th>\n",
       "      <td>2011</td>\n",
       "      <td>FEMALE</td>\n",
       "      <td>HISPANIC</td>\n",
       "      <td>ISABELLA</td>\n",
       "      <td>331</td>\n",
       "      <td>1</td>\n",
       "    </tr>\n",
       "    <tr>\n",
       "      <th>2906</th>\n",
       "      <td>2011</td>\n",
       "      <td>FEMALE</td>\n",
       "      <td>HISPANIC</td>\n",
       "      <td>ISABELLA</td>\n",
       "      <td>331</td>\n",
       "      <td>1</td>\n",
       "    </tr>\n",
       "    <tr>\n",
       "      <th>4406</th>\n",
       "      <td>2011</td>\n",
       "      <td>FEMALE</td>\n",
       "      <td>HISPANIC</td>\n",
       "      <td>ISABELLA</td>\n",
       "      <td>331</td>\n",
       "      <td>1</td>\n",
       "    </tr>\n",
       "    <tr>\n",
       "      <th>20471</th>\n",
       "      <td>2014</td>\n",
       "      <td>FEMALE</td>\n",
       "      <td>HISPANIC</td>\n",
       "      <td>Isabella</td>\n",
       "      <td>331</td>\n",
       "      <td>1</td>\n",
       "    </tr>\n",
       "    <tr>\n",
       "      <th>13984</th>\n",
       "      <td>2011</td>\n",
       "      <td>FEMALE</td>\n",
       "      <td>HISPANIC</td>\n",
       "      <td>ISABELLA</td>\n",
       "      <td>331</td>\n",
       "      <td>1</td>\n",
       "    </tr>\n",
       "    <tr>\n",
       "      <th>22</th>\n",
       "      <td>2011</td>\n",
       "      <td>FEMALE</td>\n",
       "      <td>HISPANIC</td>\n",
       "      <td>ISABELLA</td>\n",
       "      <td>331</td>\n",
       "      <td>1</td>\n",
       "    </tr>\n",
       "    <tr>\n",
       "      <th>12398</th>\n",
       "      <td>2014</td>\n",
       "      <td>FEMALE</td>\n",
       "      <td>HISPANIC</td>\n",
       "      <td>Isabella</td>\n",
       "      <td>331</td>\n",
       "      <td>1</td>\n",
       "    </tr>\n",
       "    <tr>\n",
       "      <th>19915</th>\n",
       "      <td>2013</td>\n",
       "      <td>MALE</td>\n",
       "      <td>HISPANIC</td>\n",
       "      <td>Jayden</td>\n",
       "      <td>352</td>\n",
       "      <td>1</td>\n",
       "    </tr>\n",
       "    <tr>\n",
       "      <th>11402</th>\n",
       "      <td>2013</td>\n",
       "      <td>MALE</td>\n",
       "      <td>HISPANIC</td>\n",
       "      <td>Jayden</td>\n",
       "      <td>352</td>\n",
       "      <td>1</td>\n",
       "    </tr>\n",
       "    <tr>\n",
       "      <th>17912</th>\n",
       "      <td>2012</td>\n",
       "      <td>MALE</td>\n",
       "      <td>HISPANIC</td>\n",
       "      <td>JAYDEN</td>\n",
       "      <td>364</td>\n",
       "      <td>1</td>\n",
       "    </tr>\n",
       "    <tr>\n",
       "      <th>9385</th>\n",
       "      <td>2012</td>\n",
       "      <td>MALE</td>\n",
       "      <td>HISPANIC</td>\n",
       "      <td>JAYDEN</td>\n",
       "      <td>364</td>\n",
       "      <td>1</td>\n",
       "    </tr>\n",
       "    <tr>\n",
       "      <th>15965</th>\n",
       "      <td>2011</td>\n",
       "      <td>MALE</td>\n",
       "      <td>HISPANIC</td>\n",
       "      <td>JAYDEN</td>\n",
       "      <td>426</td>\n",
       "      <td>1</td>\n",
       "    </tr>\n",
       "    <tr>\n",
       "      <th>3505</th>\n",
       "      <td>2011</td>\n",
       "      <td>MALE</td>\n",
       "      <td>HISPANIC</td>\n",
       "      <td>JAYDEN</td>\n",
       "      <td>426</td>\n",
       "      <td>1</td>\n",
       "    </tr>\n",
       "    <tr>\n",
       "      <th>5430</th>\n",
       "      <td>2011</td>\n",
       "      <td>MALE</td>\n",
       "      <td>HISPANIC</td>\n",
       "      <td>JAYDEN</td>\n",
       "      <td>426</td>\n",
       "      <td>1</td>\n",
       "    </tr>\n",
       "    <tr>\n",
       "      <th>7393</th>\n",
       "      <td>2011</td>\n",
       "      <td>MALE</td>\n",
       "      <td>HISPANIC</td>\n",
       "      <td>JAYDEN</td>\n",
       "      <td>426</td>\n",
       "      <td>1</td>\n",
       "    </tr>\n",
       "    <tr>\n",
       "      <th>1504</th>\n",
       "      <td>2011</td>\n",
       "      <td>MALE</td>\n",
       "      <td>HISPANIC</td>\n",
       "      <td>JAYDEN</td>\n",
       "      <td>426</td>\n",
       "      <td>1</td>\n",
       "    </tr>\n",
       "  </tbody>\n",
       "</table>\n",
       "<p>22035 rows × 6 columns</p>\n",
       "</div>"
      ],
      "text/plain": [
       "       Year of Birth  Gender                   Ethnicity Child's First Name  \\\n",
       "2767            2011  FEMALE                    HISPANIC               ABBY   \n",
       "11025           2013    MALE  ASIAN AND PACIFIC ISLANDER              Nolan   \n",
       "17344           2012  FEMALE              WHITE NON HISP             MARYAM   \n",
       "17347           2012  FEMALE              WHITE NON HISP            MELANIE   \n",
       "11013           2013    MALE  ASIAN AND PACIFIC ISLANDER         Maximilian   \n",
       "11009           2013    MALE  ASIAN AND PACIFIC ISLANDER             Martin   \n",
       "3730            2011    MALE          WHITE NON HISPANIC              DEREK   \n",
       "10947           2013    MALE  ASIAN AND PACIFIC ISLANDER               Eden   \n",
       "17390           2012  FEMALE              WHITE NON HISP               REEM   \n",
       "10943           2013    MALE  ASIAN AND PACIFIC ISLANDER              Devin   \n",
       "17400           2012  FEMALE              WHITE NON HISP              ROSIE   \n",
       "10937           2013    MALE  ASIAN AND PACIFIC ISLANDER              Damon   \n",
       "17407           2012  FEMALE              WHITE NON HISP               SAGE   \n",
       "10929           2013    MALE  ASIAN AND PACIFIC ISLANDER             Carson   \n",
       "10924           2013    MALE  ASIAN AND PACIFIC ISLANDER            Brendan   \n",
       "17418           2013  FEMALE  ASIAN AND PACIFIC ISLANDER             Ananya   \n",
       "10921           2013    MALE  ASIAN AND PACIFIC ISLANDER              Bowen   \n",
       "17425           2013  FEMALE  ASIAN AND PACIFIC ISLANDER          Annabelle   \n",
       "17427           2013  FEMALE  ASIAN AND PACIFIC ISLANDER             Annika   \n",
       "17435           2013  FEMALE  ASIAN AND PACIFIC ISLANDER             Athena   \n",
       "1567            2011    MALE                    HISPANIC             MARLON   \n",
       "10913           2013    MALE  ASIAN AND PACIFIC ISLANDER              Asher   \n",
       "17453           2013  FEMALE  ASIAN AND PACIFIC ISLANDER             Connie   \n",
       "3748            2011    MALE          WHITE NON HISPANIC              ELLIS   \n",
       "17465           2013  FEMALE  ASIAN AND PACIFIC ISLANDER              Emaan   \n",
       "17469           2013  FEMALE  ASIAN AND PACIFIC ISLANDER             Eunice   \n",
       "10866           2013  FEMALE          WHITE NON HISPANIC              Trany   \n",
       "10861           2013  FEMALE          WHITE NON HISPANIC              Tamar   \n",
       "10859           2013  FEMALE          WHITE NON HISPANIC             Sylvia   \n",
       "10830           2013  FEMALE          WHITE NON HISPANIC               Sage   \n",
       "...              ...     ...                         ...                ...   \n",
       "15950           2011    MALE                    HISPANIC              JACOB   \n",
       "11622           2013    MALE          WHITE NON HISPANIC              David   \n",
       "20135           2013    MALE          WHITE NON HISPANIC              David   \n",
       "3541            2011    MALE                    HISPANIC             JUSTIN   \n",
       "16001           2011    MALE                    HISPANIC             JUSTIN   \n",
       "1540            2011    MALE                    HISPANIC             JUSTIN   \n",
       "5466            2011    MALE                    HISPANIC             JUSTIN   \n",
       "7429            2011    MALE                    HISPANIC             JUSTIN   \n",
       "13514           2014    MALE                    HISPANIC               Liam   \n",
       "21143           2014    MALE                    HISPANIC               Liam   \n",
       "18868           2013  FEMALE                    HISPANIC           Isabella   \n",
       "10343           2013  FEMALE                    HISPANIC           Isabella   \n",
       "8332            2012  FEMALE                    HISPANIC           ISABELLA   \n",
       "16921           2012  FEMALE                    HISPANIC           ISABELLA   \n",
       "6369            2011  FEMALE                    HISPANIC           ISABELLA   \n",
       "2906            2011  FEMALE                    HISPANIC           ISABELLA   \n",
       "4406            2011  FEMALE                    HISPANIC           ISABELLA   \n",
       "20471           2014  FEMALE                    HISPANIC           Isabella   \n",
       "13984           2011  FEMALE                    HISPANIC           ISABELLA   \n",
       "22              2011  FEMALE                    HISPANIC           ISABELLA   \n",
       "12398           2014  FEMALE                    HISPANIC           Isabella   \n",
       "19915           2013    MALE                    HISPANIC             Jayden   \n",
       "11402           2013    MALE                    HISPANIC             Jayden   \n",
       "17912           2012    MALE                    HISPANIC             JAYDEN   \n",
       "9385            2012    MALE                    HISPANIC             JAYDEN   \n",
       "15965           2011    MALE                    HISPANIC             JAYDEN   \n",
       "3505            2011    MALE                    HISPANIC             JAYDEN   \n",
       "5430            2011    MALE                    HISPANIC             JAYDEN   \n",
       "7393            2011    MALE                    HISPANIC             JAYDEN   \n",
       "1504            2011    MALE                    HISPANIC             JAYDEN   \n",
       "\n",
       "       Count  Rank  \n",
       "2767      10    78  \n",
       "11025     10    57  \n",
       "17344     10    83  \n",
       "17347     10    83  \n",
       "11013     10    57  \n",
       "11009     10    57  \n",
       "3730      10    97  \n",
       "10947     10    57  \n",
       "17390     10    83  \n",
       "10943     10    57  \n",
       "17400     10    83  \n",
       "10937     10    57  \n",
       "17407     10    83  \n",
       "10929     10    57  \n",
       "10924     10    57  \n",
       "17418     10    42  \n",
       "10921     10    57  \n",
       "17425     10    42  \n",
       "17427     10    42  \n",
       "17435     10    42  \n",
       "1567      10    94  \n",
       "10913     10    57  \n",
       "17453     10    42  \n",
       "3748      10    97  \n",
       "17465     10    42  \n",
       "17469     10    42  \n",
       "10866     10    82  \n",
       "10861     10    82  \n",
       "10859     10    82  \n",
       "10830     10    82  \n",
       "...      ...   ...  \n",
       "15950    303     3  \n",
       "11622    304     1  \n",
       "20135    304     1  \n",
       "3541     310     2  \n",
       "16001    310     2  \n",
       "1540     310     2  \n",
       "5466     310     2  \n",
       "7429     310     2  \n",
       "13514    312     1  \n",
       "21143    312     1  \n",
       "18868    326     1  \n",
       "10343    326     1  \n",
       "8332     327     1  \n",
       "16921    327     1  \n",
       "6369     331     1  \n",
       "2906     331     1  \n",
       "4406     331     1  \n",
       "20471    331     1  \n",
       "13984    331     1  \n",
       "22       331     1  \n",
       "12398    331     1  \n",
       "19915    352     1  \n",
       "11402    352     1  \n",
       "17912    364     1  \n",
       "9385     364     1  \n",
       "15965    426     1  \n",
       "3505     426     1  \n",
       "5430     426     1  \n",
       "7393     426     1  \n",
       "1504     426     1  \n",
       "\n",
       "[22035 rows x 6 columns]"
      ]
     },
     "execution_count": 351,
     "metadata": {},
     "output_type": "execute_result"
    }
   ],
   "source": [
    "data.sort_values('Count')"
   ]
  },
  {
   "cell_type": "code",
   "execution_count": 352,
   "metadata": {},
   "outputs": [
    {
     "data": {
      "text/html": [
       "<div>\n",
       "<style>\n",
       "    .dataframe thead tr:only-child th {\n",
       "        text-align: right;\n",
       "    }\n",
       "\n",
       "    .dataframe thead th {\n",
       "        text-align: left;\n",
       "    }\n",
       "\n",
       "    .dataframe tbody tr th {\n",
       "        vertical-align: top;\n",
       "    }\n",
       "</style>\n",
       "<table border=\"1\" class=\"dataframe\">\n",
       "  <thead>\n",
       "    <tr style=\"text-align: right;\">\n",
       "      <th></th>\n",
       "      <th>Year of Birth</th>\n",
       "      <th>Gender</th>\n",
       "      <th>Ethnicity</th>\n",
       "      <th>Child's First Name</th>\n",
       "      <th>Count</th>\n",
       "      <th>Rank</th>\n",
       "    </tr>\n",
       "  </thead>\n",
       "  <tbody>\n",
       "    <tr>\n",
       "      <th>3505</th>\n",
       "      <td>2011</td>\n",
       "      <td>MALE</td>\n",
       "      <td>HISPANIC</td>\n",
       "      <td>JAYDEN</td>\n",
       "      <td>426</td>\n",
       "      <td>1</td>\n",
       "    </tr>\n",
       "    <tr>\n",
       "      <th>5430</th>\n",
       "      <td>2011</td>\n",
       "      <td>MALE</td>\n",
       "      <td>HISPANIC</td>\n",
       "      <td>JAYDEN</td>\n",
       "      <td>426</td>\n",
       "      <td>1</td>\n",
       "    </tr>\n",
       "    <tr>\n",
       "      <th>1504</th>\n",
       "      <td>2011</td>\n",
       "      <td>MALE</td>\n",
       "      <td>HISPANIC</td>\n",
       "      <td>JAYDEN</td>\n",
       "      <td>426</td>\n",
       "      <td>1</td>\n",
       "    </tr>\n",
       "    <tr>\n",
       "      <th>7393</th>\n",
       "      <td>2011</td>\n",
       "      <td>MALE</td>\n",
       "      <td>HISPANIC</td>\n",
       "      <td>JAYDEN</td>\n",
       "      <td>426</td>\n",
       "      <td>1</td>\n",
       "    </tr>\n",
       "    <tr>\n",
       "      <th>15965</th>\n",
       "      <td>2011</td>\n",
       "      <td>MALE</td>\n",
       "      <td>HISPANIC</td>\n",
       "      <td>JAYDEN</td>\n",
       "      <td>426</td>\n",
       "      <td>1</td>\n",
       "    </tr>\n",
       "    <tr>\n",
       "      <th>9385</th>\n",
       "      <td>2012</td>\n",
       "      <td>MALE</td>\n",
       "      <td>HISPANIC</td>\n",
       "      <td>JAYDEN</td>\n",
       "      <td>364</td>\n",
       "      <td>1</td>\n",
       "    </tr>\n",
       "    <tr>\n",
       "      <th>17912</th>\n",
       "      <td>2012</td>\n",
       "      <td>MALE</td>\n",
       "      <td>HISPANIC</td>\n",
       "      <td>JAYDEN</td>\n",
       "      <td>364</td>\n",
       "      <td>1</td>\n",
       "    </tr>\n",
       "    <tr>\n",
       "      <th>19915</th>\n",
       "      <td>2013</td>\n",
       "      <td>MALE</td>\n",
       "      <td>HISPANIC</td>\n",
       "      <td>Jayden</td>\n",
       "      <td>352</td>\n",
       "      <td>1</td>\n",
       "    </tr>\n",
       "    <tr>\n",
       "      <th>11402</th>\n",
       "      <td>2013</td>\n",
       "      <td>MALE</td>\n",
       "      <td>HISPANIC</td>\n",
       "      <td>Jayden</td>\n",
       "      <td>352</td>\n",
       "      <td>1</td>\n",
       "    </tr>\n",
       "    <tr>\n",
       "      <th>22</th>\n",
       "      <td>2011</td>\n",
       "      <td>FEMALE</td>\n",
       "      <td>HISPANIC</td>\n",
       "      <td>ISABELLA</td>\n",
       "      <td>331</td>\n",
       "      <td>1</td>\n",
       "    </tr>\n",
       "    <tr>\n",
       "      <th>20471</th>\n",
       "      <td>2014</td>\n",
       "      <td>FEMALE</td>\n",
       "      <td>HISPANIC</td>\n",
       "      <td>Isabella</td>\n",
       "      <td>331</td>\n",
       "      <td>1</td>\n",
       "    </tr>\n",
       "    <tr>\n",
       "      <th>12398</th>\n",
       "      <td>2014</td>\n",
       "      <td>FEMALE</td>\n",
       "      <td>HISPANIC</td>\n",
       "      <td>Isabella</td>\n",
       "      <td>331</td>\n",
       "      <td>1</td>\n",
       "    </tr>\n",
       "    <tr>\n",
       "      <th>6369</th>\n",
       "      <td>2011</td>\n",
       "      <td>FEMALE</td>\n",
       "      <td>HISPANIC</td>\n",
       "      <td>ISABELLA</td>\n",
       "      <td>331</td>\n",
       "      <td>1</td>\n",
       "    </tr>\n",
       "    <tr>\n",
       "      <th>4406</th>\n",
       "      <td>2011</td>\n",
       "      <td>FEMALE</td>\n",
       "      <td>HISPANIC</td>\n",
       "      <td>ISABELLA</td>\n",
       "      <td>331</td>\n",
       "      <td>1</td>\n",
       "    </tr>\n",
       "    <tr>\n",
       "      <th>2906</th>\n",
       "      <td>2011</td>\n",
       "      <td>FEMALE</td>\n",
       "      <td>HISPANIC</td>\n",
       "      <td>ISABELLA</td>\n",
       "      <td>331</td>\n",
       "      <td>1</td>\n",
       "    </tr>\n",
       "    <tr>\n",
       "      <th>13984</th>\n",
       "      <td>2011</td>\n",
       "      <td>FEMALE</td>\n",
       "      <td>HISPANIC</td>\n",
       "      <td>ISABELLA</td>\n",
       "      <td>331</td>\n",
       "      <td>1</td>\n",
       "    </tr>\n",
       "    <tr>\n",
       "      <th>16921</th>\n",
       "      <td>2012</td>\n",
       "      <td>FEMALE</td>\n",
       "      <td>HISPANIC</td>\n",
       "      <td>ISABELLA</td>\n",
       "      <td>327</td>\n",
       "      <td>1</td>\n",
       "    </tr>\n",
       "    <tr>\n",
       "      <th>8332</th>\n",
       "      <td>2012</td>\n",
       "      <td>FEMALE</td>\n",
       "      <td>HISPANIC</td>\n",
       "      <td>ISABELLA</td>\n",
       "      <td>327</td>\n",
       "      <td>1</td>\n",
       "    </tr>\n",
       "    <tr>\n",
       "      <th>10343</th>\n",
       "      <td>2013</td>\n",
       "      <td>FEMALE</td>\n",
       "      <td>HISPANIC</td>\n",
       "      <td>Isabella</td>\n",
       "      <td>326</td>\n",
       "      <td>1</td>\n",
       "    </tr>\n",
       "    <tr>\n",
       "      <th>18868</th>\n",
       "      <td>2013</td>\n",
       "      <td>FEMALE</td>\n",
       "      <td>HISPANIC</td>\n",
       "      <td>Isabella</td>\n",
       "      <td>326</td>\n",
       "      <td>1</td>\n",
       "    </tr>\n",
       "    <tr>\n",
       "      <th>13514</th>\n",
       "      <td>2014</td>\n",
       "      <td>MALE</td>\n",
       "      <td>HISPANIC</td>\n",
       "      <td>Liam</td>\n",
       "      <td>312</td>\n",
       "      <td>1</td>\n",
       "    </tr>\n",
       "    <tr>\n",
       "      <th>21143</th>\n",
       "      <td>2014</td>\n",
       "      <td>MALE</td>\n",
       "      <td>HISPANIC</td>\n",
       "      <td>Liam</td>\n",
       "      <td>312</td>\n",
       "      <td>1</td>\n",
       "    </tr>\n",
       "    <tr>\n",
       "      <th>3541</th>\n",
       "      <td>2011</td>\n",
       "      <td>MALE</td>\n",
       "      <td>HISPANIC</td>\n",
       "      <td>JUSTIN</td>\n",
       "      <td>310</td>\n",
       "      <td>2</td>\n",
       "    </tr>\n",
       "    <tr>\n",
       "      <th>1540</th>\n",
       "      <td>2011</td>\n",
       "      <td>MALE</td>\n",
       "      <td>HISPANIC</td>\n",
       "      <td>JUSTIN</td>\n",
       "      <td>310</td>\n",
       "      <td>2</td>\n",
       "    </tr>\n",
       "    <tr>\n",
       "      <th>7429</th>\n",
       "      <td>2011</td>\n",
       "      <td>MALE</td>\n",
       "      <td>HISPANIC</td>\n",
       "      <td>JUSTIN</td>\n",
       "      <td>310</td>\n",
       "      <td>2</td>\n",
       "    </tr>\n",
       "    <tr>\n",
       "      <th>5466</th>\n",
       "      <td>2011</td>\n",
       "      <td>MALE</td>\n",
       "      <td>HISPANIC</td>\n",
       "      <td>JUSTIN</td>\n",
       "      <td>310</td>\n",
       "      <td>2</td>\n",
       "    </tr>\n",
       "    <tr>\n",
       "      <th>16001</th>\n",
       "      <td>2011</td>\n",
       "      <td>MALE</td>\n",
       "      <td>HISPANIC</td>\n",
       "      <td>JUSTIN</td>\n",
       "      <td>310</td>\n",
       "      <td>2</td>\n",
       "    </tr>\n",
       "    <tr>\n",
       "      <th>11622</th>\n",
       "      <td>2013</td>\n",
       "      <td>MALE</td>\n",
       "      <td>WHITE NON HISPANIC</td>\n",
       "      <td>David</td>\n",
       "      <td>304</td>\n",
       "      <td>1</td>\n",
       "    </tr>\n",
       "    <tr>\n",
       "      <th>20135</th>\n",
       "      <td>2013</td>\n",
       "      <td>MALE</td>\n",
       "      <td>WHITE NON HISPANIC</td>\n",
       "      <td>David</td>\n",
       "      <td>304</td>\n",
       "      <td>1</td>\n",
       "    </tr>\n",
       "    <tr>\n",
       "      <th>15950</th>\n",
       "      <td>2011</td>\n",
       "      <td>MALE</td>\n",
       "      <td>HISPANIC</td>\n",
       "      <td>JACOB</td>\n",
       "      <td>303</td>\n",
       "      <td>3</td>\n",
       "    </tr>\n",
       "    <tr>\n",
       "      <th>...</th>\n",
       "      <td>...</td>\n",
       "      <td>...</td>\n",
       "      <td>...</td>\n",
       "      <td>...</td>\n",
       "      <td>...</td>\n",
       "      <td>...</td>\n",
       "    </tr>\n",
       "    <tr>\n",
       "      <th>8977</th>\n",
       "      <td>2012</td>\n",
       "      <td>MALE</td>\n",
       "      <td>ASIAN AND PACI</td>\n",
       "      <td>JUN</td>\n",
       "      <td>10</td>\n",
       "      <td>61</td>\n",
       "    </tr>\n",
       "    <tr>\n",
       "      <th>12119</th>\n",
       "      <td>2014</td>\n",
       "      <td>FEMALE</td>\n",
       "      <td>BLACK NON HISPANIC</td>\n",
       "      <td>Christina</td>\n",
       "      <td>10</td>\n",
       "      <td>41</td>\n",
       "    </tr>\n",
       "    <tr>\n",
       "      <th>3921</th>\n",
       "      <td>2011</td>\n",
       "      <td>MALE</td>\n",
       "      <td>WHITE NON HISPANIC</td>\n",
       "      <td>SILAS</td>\n",
       "      <td>10</td>\n",
       "      <td>97</td>\n",
       "    </tr>\n",
       "    <tr>\n",
       "      <th>3920</th>\n",
       "      <td>2011</td>\n",
       "      <td>MALE</td>\n",
       "      <td>WHITE NON HISPANIC</td>\n",
       "      <td>SIDNEY</td>\n",
       "      <td>10</td>\n",
       "      <td>97</td>\n",
       "    </tr>\n",
       "    <tr>\n",
       "      <th>3815</th>\n",
       "      <td>2011</td>\n",
       "      <td>MALE</td>\n",
       "      <td>WHITE NON HISPANIC</td>\n",
       "      <td>LEV</td>\n",
       "      <td>10</td>\n",
       "      <td>97</td>\n",
       "    </tr>\n",
       "    <tr>\n",
       "      <th>19025</th>\n",
       "      <td>2013</td>\n",
       "      <td>FEMALE</td>\n",
       "      <td>HISPANIC</td>\n",
       "      <td>Trinity</td>\n",
       "      <td>10</td>\n",
       "      <td>78</td>\n",
       "    </tr>\n",
       "    <tr>\n",
       "      <th>20766</th>\n",
       "      <td>2014</td>\n",
       "      <td>FEMALE</td>\n",
       "      <td>WHITE NON HISPANIC</td>\n",
       "      <td>Ester</td>\n",
       "      <td>10</td>\n",
       "      <td>86</td>\n",
       "    </tr>\n",
       "    <tr>\n",
       "      <th>12197</th>\n",
       "      <td>2014</td>\n",
       "      <td>FEMALE</td>\n",
       "      <td>BLACK NON HISPANIC</td>\n",
       "      <td>Maryam</td>\n",
       "      <td>10</td>\n",
       "      <td>41</td>\n",
       "    </tr>\n",
       "    <tr>\n",
       "      <th>20764</th>\n",
       "      <td>2014</td>\n",
       "      <td>FEMALE</td>\n",
       "      <td>WHITE NON HISPANIC</td>\n",
       "      <td>Erin</td>\n",
       "      <td>10</td>\n",
       "      <td>86</td>\n",
       "    </tr>\n",
       "    <tr>\n",
       "      <th>6496</th>\n",
       "      <td>2011</td>\n",
       "      <td>FEMALE</td>\n",
       "      <td>HISPANIC</td>\n",
       "      <td>PAOLA</td>\n",
       "      <td>10</td>\n",
       "      <td>78</td>\n",
       "    </tr>\n",
       "    <tr>\n",
       "      <th>3854</th>\n",
       "      <td>2011</td>\n",
       "      <td>MALE</td>\n",
       "      <td>WHITE NON HISPANIC</td>\n",
       "      <td>MOHAMMED</td>\n",
       "      <td>10</td>\n",
       "      <td>97</td>\n",
       "    </tr>\n",
       "    <tr>\n",
       "      <th>17966</th>\n",
       "      <td>2012</td>\n",
       "      <td>MALE</td>\n",
       "      <td>HISPANIC</td>\n",
       "      <td>LUKE</td>\n",
       "      <td>10</td>\n",
       "      <td>100</td>\n",
       "    </tr>\n",
       "    <tr>\n",
       "      <th>12178</th>\n",
       "      <td>2014</td>\n",
       "      <td>FEMALE</td>\n",
       "      <td>BLACK NON HISPANIC</td>\n",
       "      <td>Lauryn</td>\n",
       "      <td>10</td>\n",
       "      <td>41</td>\n",
       "    </tr>\n",
       "    <tr>\n",
       "      <th>3867</th>\n",
       "      <td>2011</td>\n",
       "      <td>MALE</td>\n",
       "      <td>WHITE NON HISPANIC</td>\n",
       "      <td>NIKOLAS</td>\n",
       "      <td>10</td>\n",
       "      <td>97</td>\n",
       "    </tr>\n",
       "    <tr>\n",
       "      <th>12176</th>\n",
       "      <td>2014</td>\n",
       "      <td>FEMALE</td>\n",
       "      <td>BLACK NON HISPANIC</td>\n",
       "      <td>Lailah</td>\n",
       "      <td>10</td>\n",
       "      <td>41</td>\n",
       "    </tr>\n",
       "    <tr>\n",
       "      <th>12173</th>\n",
       "      <td>2014</td>\n",
       "      <td>FEMALE</td>\n",
       "      <td>BLACK NON HISPANIC</td>\n",
       "      <td>Kylee</td>\n",
       "      <td>10</td>\n",
       "      <td>41</td>\n",
       "    </tr>\n",
       "    <tr>\n",
       "      <th>3871</th>\n",
       "      <td>2011</td>\n",
       "      <td>MALE</td>\n",
       "      <td>WHITE NON HISPANIC</td>\n",
       "      <td>NOSSON</td>\n",
       "      <td>10</td>\n",
       "      <td>97</td>\n",
       "    </tr>\n",
       "    <tr>\n",
       "      <th>12171</th>\n",
       "      <td>2014</td>\n",
       "      <td>FEMALE</td>\n",
       "      <td>BLACK NON HISPANIC</td>\n",
       "      <td>Kristen</td>\n",
       "      <td>10</td>\n",
       "      <td>41</td>\n",
       "    </tr>\n",
       "    <tr>\n",
       "      <th>3887</th>\n",
       "      <td>2011</td>\n",
       "      <td>MALE</td>\n",
       "      <td>WHITE NON HISPANIC</td>\n",
       "      <td>REED</td>\n",
       "      <td>10</td>\n",
       "      <td>97</td>\n",
       "    </tr>\n",
       "    <tr>\n",
       "      <th>12160</th>\n",
       "      <td>2014</td>\n",
       "      <td>FEMALE</td>\n",
       "      <td>BLACK NON HISPANIC</td>\n",
       "      <td>Kadiatou</td>\n",
       "      <td>10</td>\n",
       "      <td>41</td>\n",
       "    </tr>\n",
       "    <tr>\n",
       "      <th>20749</th>\n",
       "      <td>2014</td>\n",
       "      <td>FEMALE</td>\n",
       "      <td>WHITE NON HISPANIC</td>\n",
       "      <td>Eleni</td>\n",
       "      <td>10</td>\n",
       "      <td>86</td>\n",
       "    </tr>\n",
       "    <tr>\n",
       "      <th>6486</th>\n",
       "      <td>2011</td>\n",
       "      <td>FEMALE</td>\n",
       "      <td>HISPANIC</td>\n",
       "      <td>NATHALIA</td>\n",
       "      <td>10</td>\n",
       "      <td>78</td>\n",
       "    </tr>\n",
       "    <tr>\n",
       "      <th>3899</th>\n",
       "      <td>2011</td>\n",
       "      <td>MALE</td>\n",
       "      <td>WHITE NON HISPANIC</td>\n",
       "      <td>SAMIR</td>\n",
       "      <td>10</td>\n",
       "      <td>97</td>\n",
       "    </tr>\n",
       "    <tr>\n",
       "      <th>19018</th>\n",
       "      <td>2013</td>\n",
       "      <td>FEMALE</td>\n",
       "      <td>HISPANIC</td>\n",
       "      <td>Stacy</td>\n",
       "      <td>10</td>\n",
       "      <td>78</td>\n",
       "    </tr>\n",
       "    <tr>\n",
       "      <th>12133</th>\n",
       "      <td>2014</td>\n",
       "      <td>FEMALE</td>\n",
       "      <td>BLACK NON HISPANIC</td>\n",
       "      <td>Fatou</td>\n",
       "      <td>10</td>\n",
       "      <td>41</td>\n",
       "    </tr>\n",
       "    <tr>\n",
       "      <th>3906</th>\n",
       "      <td>2011</td>\n",
       "      <td>MALE</td>\n",
       "      <td>WHITE NON HISPANIC</td>\n",
       "      <td>SHAUL</td>\n",
       "      <td>10</td>\n",
       "      <td>97</td>\n",
       "    </tr>\n",
       "    <tr>\n",
       "      <th>6480</th>\n",
       "      <td>2011</td>\n",
       "      <td>FEMALE</td>\n",
       "      <td>HISPANIC</td>\n",
       "      <td>NANCY</td>\n",
       "      <td>10</td>\n",
       "      <td>78</td>\n",
       "    </tr>\n",
       "    <tr>\n",
       "      <th>8969</th>\n",
       "      <td>2012</td>\n",
       "      <td>MALE</td>\n",
       "      <td>ASIAN AND PACI</td>\n",
       "      <td>JIMMY</td>\n",
       "      <td>10</td>\n",
       "      <td>61</td>\n",
       "    </tr>\n",
       "    <tr>\n",
       "      <th>20740</th>\n",
       "      <td>2014</td>\n",
       "      <td>FEMALE</td>\n",
       "      <td>WHITE NON HISPANIC</td>\n",
       "      <td>Delilah</td>\n",
       "      <td>10</td>\n",
       "      <td>86</td>\n",
       "    </tr>\n",
       "    <tr>\n",
       "      <th>7703</th>\n",
       "      <td>2011</td>\n",
       "      <td>MALE</td>\n",
       "      <td>WHITE NON HISPANIC</td>\n",
       "      <td>LEV</td>\n",
       "      <td>10</td>\n",
       "      <td>97</td>\n",
       "    </tr>\n",
       "  </tbody>\n",
       "</table>\n",
       "<p>22035 rows × 6 columns</p>\n",
       "</div>"
      ],
      "text/plain": [
       "       Year of Birth  Gender           Ethnicity Child's First Name  Count  \\\n",
       "3505            2011    MALE            HISPANIC             JAYDEN    426   \n",
       "5430            2011    MALE            HISPANIC             JAYDEN    426   \n",
       "1504            2011    MALE            HISPANIC             JAYDEN    426   \n",
       "7393            2011    MALE            HISPANIC             JAYDEN    426   \n",
       "15965           2011    MALE            HISPANIC             JAYDEN    426   \n",
       "9385            2012    MALE            HISPANIC             JAYDEN    364   \n",
       "17912           2012    MALE            HISPANIC             JAYDEN    364   \n",
       "19915           2013    MALE            HISPANIC             Jayden    352   \n",
       "11402           2013    MALE            HISPANIC             Jayden    352   \n",
       "22              2011  FEMALE            HISPANIC           ISABELLA    331   \n",
       "20471           2014  FEMALE            HISPANIC           Isabella    331   \n",
       "12398           2014  FEMALE            HISPANIC           Isabella    331   \n",
       "6369            2011  FEMALE            HISPANIC           ISABELLA    331   \n",
       "4406            2011  FEMALE            HISPANIC           ISABELLA    331   \n",
       "2906            2011  FEMALE            HISPANIC           ISABELLA    331   \n",
       "13984           2011  FEMALE            HISPANIC           ISABELLA    331   \n",
       "16921           2012  FEMALE            HISPANIC           ISABELLA    327   \n",
       "8332            2012  FEMALE            HISPANIC           ISABELLA    327   \n",
       "10343           2013  FEMALE            HISPANIC           Isabella    326   \n",
       "18868           2013  FEMALE            HISPANIC           Isabella    326   \n",
       "13514           2014    MALE            HISPANIC               Liam    312   \n",
       "21143           2014    MALE            HISPANIC               Liam    312   \n",
       "3541            2011    MALE            HISPANIC             JUSTIN    310   \n",
       "1540            2011    MALE            HISPANIC             JUSTIN    310   \n",
       "7429            2011    MALE            HISPANIC             JUSTIN    310   \n",
       "5466            2011    MALE            HISPANIC             JUSTIN    310   \n",
       "16001           2011    MALE            HISPANIC             JUSTIN    310   \n",
       "11622           2013    MALE  WHITE NON HISPANIC              David    304   \n",
       "20135           2013    MALE  WHITE NON HISPANIC              David    304   \n",
       "15950           2011    MALE            HISPANIC              JACOB    303   \n",
       "...              ...     ...                 ...                ...    ...   \n",
       "8977            2012    MALE      ASIAN AND PACI                JUN     10   \n",
       "12119           2014  FEMALE  BLACK NON HISPANIC          Christina     10   \n",
       "3921            2011    MALE  WHITE NON HISPANIC              SILAS     10   \n",
       "3920            2011    MALE  WHITE NON HISPANIC             SIDNEY     10   \n",
       "3815            2011    MALE  WHITE NON HISPANIC                LEV     10   \n",
       "19025           2013  FEMALE            HISPANIC            Trinity     10   \n",
       "20766           2014  FEMALE  WHITE NON HISPANIC              Ester     10   \n",
       "12197           2014  FEMALE  BLACK NON HISPANIC             Maryam     10   \n",
       "20764           2014  FEMALE  WHITE NON HISPANIC               Erin     10   \n",
       "6496            2011  FEMALE            HISPANIC              PAOLA     10   \n",
       "3854            2011    MALE  WHITE NON HISPANIC           MOHAMMED     10   \n",
       "17966           2012    MALE            HISPANIC               LUKE     10   \n",
       "12178           2014  FEMALE  BLACK NON HISPANIC             Lauryn     10   \n",
       "3867            2011    MALE  WHITE NON HISPANIC            NIKOLAS     10   \n",
       "12176           2014  FEMALE  BLACK NON HISPANIC             Lailah     10   \n",
       "12173           2014  FEMALE  BLACK NON HISPANIC              Kylee     10   \n",
       "3871            2011    MALE  WHITE NON HISPANIC             NOSSON     10   \n",
       "12171           2014  FEMALE  BLACK NON HISPANIC            Kristen     10   \n",
       "3887            2011    MALE  WHITE NON HISPANIC               REED     10   \n",
       "12160           2014  FEMALE  BLACK NON HISPANIC           Kadiatou     10   \n",
       "20749           2014  FEMALE  WHITE NON HISPANIC              Eleni     10   \n",
       "6486            2011  FEMALE            HISPANIC           NATHALIA     10   \n",
       "3899            2011    MALE  WHITE NON HISPANIC              SAMIR     10   \n",
       "19018           2013  FEMALE            HISPANIC              Stacy     10   \n",
       "12133           2014  FEMALE  BLACK NON HISPANIC              Fatou     10   \n",
       "3906            2011    MALE  WHITE NON HISPANIC              SHAUL     10   \n",
       "6480            2011  FEMALE            HISPANIC              NANCY     10   \n",
       "8969            2012    MALE      ASIAN AND PACI              JIMMY     10   \n",
       "20740           2014  FEMALE  WHITE NON HISPANIC            Delilah     10   \n",
       "7703            2011    MALE  WHITE NON HISPANIC                LEV     10   \n",
       "\n",
       "       Rank  \n",
       "3505      1  \n",
       "5430      1  \n",
       "1504      1  \n",
       "7393      1  \n",
       "15965     1  \n",
       "9385      1  \n",
       "17912     1  \n",
       "19915     1  \n",
       "11402     1  \n",
       "22        1  \n",
       "20471     1  \n",
       "12398     1  \n",
       "6369      1  \n",
       "4406      1  \n",
       "2906      1  \n",
       "13984     1  \n",
       "16921     1  \n",
       "8332      1  \n",
       "10343     1  \n",
       "18868     1  \n",
       "13514     1  \n",
       "21143     1  \n",
       "3541      2  \n",
       "1540      2  \n",
       "7429      2  \n",
       "5466      2  \n",
       "16001     2  \n",
       "11622     1  \n",
       "20135     1  \n",
       "15950     3  \n",
       "...     ...  \n",
       "8977     61  \n",
       "12119    41  \n",
       "3921     97  \n",
       "3920     97  \n",
       "3815     97  \n",
       "19025    78  \n",
       "20766    86  \n",
       "12197    41  \n",
       "20764    86  \n",
       "6496     78  \n",
       "3854     97  \n",
       "17966   100  \n",
       "12178    41  \n",
       "3867     97  \n",
       "12176    41  \n",
       "12173    41  \n",
       "3871     97  \n",
       "12171    41  \n",
       "3887     97  \n",
       "12160    41  \n",
       "20749    86  \n",
       "6486     78  \n",
       "3899     97  \n",
       "19018    78  \n",
       "12133    41  \n",
       "3906     97  \n",
       "6480     78  \n",
       "8969     61  \n",
       "20740    86  \n",
       "7703     97  \n",
       "\n",
       "[22035 rows x 6 columns]"
      ]
     },
     "execution_count": 352,
     "metadata": {},
     "output_type": "execute_result"
    }
   ],
   "source": [
    "data.sort_values('Count',ascending=False)"
   ]
  },
  {
   "cell_type": "markdown",
   "metadata": {},
   "source": [
    "** Ahora ordenamos según el año, genero y número de niños.**"
   ]
  },
  {
   "cell_type": "code",
   "execution_count": 353,
   "metadata": {},
   "outputs": [
    {
     "data": {
      "text/html": [
       "<div>\n",
       "<style>\n",
       "    .dataframe thead tr:only-child th {\n",
       "        text-align: right;\n",
       "    }\n",
       "\n",
       "    .dataframe thead th {\n",
       "        text-align: left;\n",
       "    }\n",
       "\n",
       "    .dataframe tbody tr th {\n",
       "        vertical-align: top;\n",
       "    }\n",
       "</style>\n",
       "<table border=\"1\" class=\"dataframe\">\n",
       "  <thead>\n",
       "    <tr style=\"text-align: right;\">\n",
       "      <th></th>\n",
       "      <th>Year of Birth</th>\n",
       "      <th>Gender</th>\n",
       "      <th>Ethnicity</th>\n",
       "      <th>Child's First Name</th>\n",
       "      <th>Count</th>\n",
       "      <th>Rank</th>\n",
       "    </tr>\n",
       "  </thead>\n",
       "  <tbody>\n",
       "    <tr>\n",
       "      <th>13514</th>\n",
       "      <td>2014</td>\n",
       "      <td>MALE</td>\n",
       "      <td>HISPANIC</td>\n",
       "      <td>Liam</td>\n",
       "      <td>312</td>\n",
       "      <td>1</td>\n",
       "    </tr>\n",
       "    <tr>\n",
       "      <th>21143</th>\n",
       "      <td>2014</td>\n",
       "      <td>MALE</td>\n",
       "      <td>HISPANIC</td>\n",
       "      <td>Liam</td>\n",
       "      <td>312</td>\n",
       "      <td>1</td>\n",
       "    </tr>\n",
       "    <tr>\n",
       "      <th>13782</th>\n",
       "      <td>2014</td>\n",
       "      <td>MALE</td>\n",
       "      <td>WHITE NON HISPANIC</td>\n",
       "      <td>Joseph</td>\n",
       "      <td>300</td>\n",
       "      <td>1</td>\n",
       "    </tr>\n",
       "    <tr>\n",
       "      <th>21855</th>\n",
       "      <td>2014</td>\n",
       "      <td>MALE</td>\n",
       "      <td>WHITE NON HISPANIC</td>\n",
       "      <td>Joseph</td>\n",
       "      <td>300</td>\n",
       "      <td>1</td>\n",
       "    </tr>\n",
       "    <tr>\n",
       "      <th>13400</th>\n",
       "      <td>2014</td>\n",
       "      <td>MALE</td>\n",
       "      <td>HISPANIC</td>\n",
       "      <td>Dylan</td>\n",
       "      <td>292</td>\n",
       "      <td>2</td>\n",
       "    </tr>\n",
       "    <tr>\n",
       "      <th>13451</th>\n",
       "      <td>2014</td>\n",
       "      <td>MALE</td>\n",
       "      <td>HISPANIC</td>\n",
       "      <td>Jacob</td>\n",
       "      <td>292</td>\n",
       "      <td>2</td>\n",
       "    </tr>\n",
       "    <tr>\n",
       "      <th>21029</th>\n",
       "      <td>2014</td>\n",
       "      <td>MALE</td>\n",
       "      <td>HISPANIC</td>\n",
       "      <td>Dylan</td>\n",
       "      <td>292</td>\n",
       "      <td>2</td>\n",
       "    </tr>\n",
       "    <tr>\n",
       "      <th>21080</th>\n",
       "      <td>2014</td>\n",
       "      <td>MALE</td>\n",
       "      <td>HISPANIC</td>\n",
       "      <td>Jacob</td>\n",
       "      <td>292</td>\n",
       "      <td>2</td>\n",
       "    </tr>\n",
       "    <tr>\n",
       "      <th>13562</th>\n",
       "      <td>2014</td>\n",
       "      <td>MALE</td>\n",
       "      <td>HISPANIC</td>\n",
       "      <td>Noah</td>\n",
       "      <td>282</td>\n",
       "      <td>3</td>\n",
       "    </tr>\n",
       "    <tr>\n",
       "      <th>21191</th>\n",
       "      <td>2014</td>\n",
       "      <td>MALE</td>\n",
       "      <td>HISPANIC</td>\n",
       "      <td>Noah</td>\n",
       "      <td>282</td>\n",
       "      <td>3</td>\n",
       "    </tr>\n",
       "    <tr>\n",
       "      <th>13692</th>\n",
       "      <td>2014</td>\n",
       "      <td>MALE</td>\n",
       "      <td>WHITE NON HISPANIC</td>\n",
       "      <td>David</td>\n",
       "      <td>272</td>\n",
       "      <td>2</td>\n",
       "    </tr>\n",
       "    <tr>\n",
       "      <th>21765</th>\n",
       "      <td>2014</td>\n",
       "      <td>MALE</td>\n",
       "      <td>WHITE NON HISPANIC</td>\n",
       "      <td>David</td>\n",
       "      <td>272</td>\n",
       "      <td>2</td>\n",
       "    </tr>\n",
       "    <tr>\n",
       "      <th>13837</th>\n",
       "      <td>2014</td>\n",
       "      <td>MALE</td>\n",
       "      <td>WHITE NON HISPANIC</td>\n",
       "      <td>Michael</td>\n",
       "      <td>268</td>\n",
       "      <td>3</td>\n",
       "    </tr>\n",
       "    <tr>\n",
       "      <th>21910</th>\n",
       "      <td>2014</td>\n",
       "      <td>MALE</td>\n",
       "      <td>WHITE NON HISPANIC</td>\n",
       "      <td>Michael</td>\n",
       "      <td>268</td>\n",
       "      <td>3</td>\n",
       "    </tr>\n",
       "    <tr>\n",
       "      <th>13848</th>\n",
       "      <td>2014</td>\n",
       "      <td>MALE</td>\n",
       "      <td>WHITE NON HISPANIC</td>\n",
       "      <td>Moshe</td>\n",
       "      <td>267</td>\n",
       "      <td>4</td>\n",
       "    </tr>\n",
       "    <tr>\n",
       "      <th>21921</th>\n",
       "      <td>2014</td>\n",
       "      <td>MALE</td>\n",
       "      <td>WHITE NON HISPANIC</td>\n",
       "      <td>Moshe</td>\n",
       "      <td>267</td>\n",
       "      <td>4</td>\n",
       "    </tr>\n",
       "    <tr>\n",
       "      <th>13467</th>\n",
       "      <td>2014</td>\n",
       "      <td>MALE</td>\n",
       "      <td>HISPANIC</td>\n",
       "      <td>Jayden</td>\n",
       "      <td>266</td>\n",
       "      <td>4</td>\n",
       "    </tr>\n",
       "    <tr>\n",
       "      <th>21096</th>\n",
       "      <td>2014</td>\n",
       "      <td>MALE</td>\n",
       "      <td>HISPANIC</td>\n",
       "      <td>Jayden</td>\n",
       "      <td>266</td>\n",
       "      <td>4</td>\n",
       "    </tr>\n",
       "    <tr>\n",
       "      <th>13419</th>\n",
       "      <td>2014</td>\n",
       "      <td>MALE</td>\n",
       "      <td>HISPANIC</td>\n",
       "      <td>Ethan</td>\n",
       "      <td>262</td>\n",
       "      <td>5</td>\n",
       "    </tr>\n",
       "    <tr>\n",
       "      <th>21048</th>\n",
       "      <td>2014</td>\n",
       "      <td>MALE</td>\n",
       "      <td>HISPANIC</td>\n",
       "      <td>Ethan</td>\n",
       "      <td>262</td>\n",
       "      <td>5</td>\n",
       "    </tr>\n",
       "    <tr>\n",
       "      <th>13540</th>\n",
       "      <td>2014</td>\n",
       "      <td>MALE</td>\n",
       "      <td>HISPANIC</td>\n",
       "      <td>Matthew</td>\n",
       "      <td>257</td>\n",
       "      <td>6</td>\n",
       "    </tr>\n",
       "    <tr>\n",
       "      <th>21169</th>\n",
       "      <td>2014</td>\n",
       "      <td>MALE</td>\n",
       "      <td>HISPANIC</td>\n",
       "      <td>Matthew</td>\n",
       "      <td>257</td>\n",
       "      <td>6</td>\n",
       "    </tr>\n",
       "    <tr>\n",
       "      <th>13765</th>\n",
       "      <td>2014</td>\n",
       "      <td>MALE</td>\n",
       "      <td>WHITE NON HISPANIC</td>\n",
       "      <td>Jacob</td>\n",
       "      <td>256</td>\n",
       "      <td>5</td>\n",
       "    </tr>\n",
       "    <tr>\n",
       "      <th>21838</th>\n",
       "      <td>2014</td>\n",
       "      <td>MALE</td>\n",
       "      <td>WHITE NON HISPANIC</td>\n",
       "      <td>Jacob</td>\n",
       "      <td>256</td>\n",
       "      <td>5</td>\n",
       "    </tr>\n",
       "    <tr>\n",
       "      <th>13589</th>\n",
       "      <td>2014</td>\n",
       "      <td>MALE</td>\n",
       "      <td>HISPANIC</td>\n",
       "      <td>Sebastian</td>\n",
       "      <td>241</td>\n",
       "      <td>7</td>\n",
       "    </tr>\n",
       "    <tr>\n",
       "      <th>21218</th>\n",
       "      <td>2014</td>\n",
       "      <td>MALE</td>\n",
       "      <td>HISPANIC</td>\n",
       "      <td>Sebastian</td>\n",
       "      <td>241</td>\n",
       "      <td>7</td>\n",
       "    </tr>\n",
       "    <tr>\n",
       "      <th>13655</th>\n",
       "      <td>2014</td>\n",
       "      <td>MALE</td>\n",
       "      <td>WHITE NON HISPANIC</td>\n",
       "      <td>Benjamin</td>\n",
       "      <td>233</td>\n",
       "      <td>6</td>\n",
       "    </tr>\n",
       "    <tr>\n",
       "      <th>21284</th>\n",
       "      <td>2014</td>\n",
       "      <td>MALE</td>\n",
       "      <td>WHITE NON HISPANIC</td>\n",
       "      <td>Benjamin</td>\n",
       "      <td>233</td>\n",
       "      <td>6</td>\n",
       "    </tr>\n",
       "    <tr>\n",
       "      <th>13626</th>\n",
       "      <td>2014</td>\n",
       "      <td>MALE</td>\n",
       "      <td>WHITE NON HISPANIC</td>\n",
       "      <td>Alexander</td>\n",
       "      <td>225</td>\n",
       "      <td>7</td>\n",
       "    </tr>\n",
       "    <tr>\n",
       "      <th>21255</th>\n",
       "      <td>2014</td>\n",
       "      <td>MALE</td>\n",
       "      <td>WHITE NON HISPANIC</td>\n",
       "      <td>Alexander</td>\n",
       "      <td>225</td>\n",
       "      <td>7</td>\n",
       "    </tr>\n",
       "    <tr>\n",
       "      <th>...</th>\n",
       "      <td>...</td>\n",
       "      <td>...</td>\n",
       "      <td>...</td>\n",
       "      <td>...</td>\n",
       "      <td>...</td>\n",
       "      <td>...</td>\n",
       "    </tr>\n",
       "    <tr>\n",
       "      <th>15006</th>\n",
       "      <td>2011</td>\n",
       "      <td>FEMALE</td>\n",
       "      <td>ASIAN AND PACIFIC ISLANDER</td>\n",
       "      <td>KATE</td>\n",
       "      <td>10</td>\n",
       "      <td>38</td>\n",
       "    </tr>\n",
       "    <tr>\n",
       "      <th>15017</th>\n",
       "      <td>2011</td>\n",
       "      <td>FEMALE</td>\n",
       "      <td>ASIAN AND PACIFIC ISLANDER</td>\n",
       "      <td>LEELA</td>\n",
       "      <td>10</td>\n",
       "      <td>38</td>\n",
       "    </tr>\n",
       "    <tr>\n",
       "      <th>15021</th>\n",
       "      <td>2011</td>\n",
       "      <td>FEMALE</td>\n",
       "      <td>ASIAN AND PACIFIC ISLANDER</td>\n",
       "      <td>MAGGIE</td>\n",
       "      <td>10</td>\n",
       "      <td>38</td>\n",
       "    </tr>\n",
       "    <tr>\n",
       "      <th>15025</th>\n",
       "      <td>2011</td>\n",
       "      <td>FEMALE</td>\n",
       "      <td>ASIAN AND PACIFIC ISLANDER</td>\n",
       "      <td>MEGAN</td>\n",
       "      <td>10</td>\n",
       "      <td>38</td>\n",
       "    </tr>\n",
       "    <tr>\n",
       "      <th>15040</th>\n",
       "      <td>2011</td>\n",
       "      <td>FEMALE</td>\n",
       "      <td>ASIAN AND PACIFIC ISLANDER</td>\n",
       "      <td>RENEE</td>\n",
       "      <td>10</td>\n",
       "      <td>38</td>\n",
       "    </tr>\n",
       "    <tr>\n",
       "      <th>15056</th>\n",
       "      <td>2011</td>\n",
       "      <td>FEMALE</td>\n",
       "      <td>ASIAN AND PACIFIC ISLANDER</td>\n",
       "      <td>TANISHA</td>\n",
       "      <td>10</td>\n",
       "      <td>38</td>\n",
       "    </tr>\n",
       "    <tr>\n",
       "      <th>15076</th>\n",
       "      <td>2011</td>\n",
       "      <td>FEMALE</td>\n",
       "      <td>BLACK NON HISPANIC</td>\n",
       "      <td>AISHA</td>\n",
       "      <td>10</td>\n",
       "      <td>45</td>\n",
       "    </tr>\n",
       "    <tr>\n",
       "      <th>15112</th>\n",
       "      <td>2011</td>\n",
       "      <td>FEMALE</td>\n",
       "      <td>BLACK NON HISPANIC</td>\n",
       "      <td>CHEYENNE</td>\n",
       "      <td>10</td>\n",
       "      <td>45</td>\n",
       "    </tr>\n",
       "    <tr>\n",
       "      <th>15124</th>\n",
       "      <td>2011</td>\n",
       "      <td>FEMALE</td>\n",
       "      <td>BLACK NON HISPANIC</td>\n",
       "      <td>ERIN</td>\n",
       "      <td>10</td>\n",
       "      <td>45</td>\n",
       "    </tr>\n",
       "    <tr>\n",
       "      <th>15145</th>\n",
       "      <td>2011</td>\n",
       "      <td>FEMALE</td>\n",
       "      <td>BLACK NON HISPANIC</td>\n",
       "      <td>JALIYAH</td>\n",
       "      <td>10</td>\n",
       "      <td>45</td>\n",
       "    </tr>\n",
       "    <tr>\n",
       "      <th>15153</th>\n",
       "      <td>2011</td>\n",
       "      <td>FEMALE</td>\n",
       "      <td>BLACK NON HISPANIC</td>\n",
       "      <td>JULIA</td>\n",
       "      <td>10</td>\n",
       "      <td>45</td>\n",
       "    </tr>\n",
       "    <tr>\n",
       "      <th>15154</th>\n",
       "      <td>2011</td>\n",
       "      <td>FEMALE</td>\n",
       "      <td>BLACK NON HISPANIC</td>\n",
       "      <td>KAI</td>\n",
       "      <td>10</td>\n",
       "      <td>45</td>\n",
       "    </tr>\n",
       "    <tr>\n",
       "      <th>15157</th>\n",
       "      <td>2011</td>\n",
       "      <td>FEMALE</td>\n",
       "      <td>BLACK NON HISPANIC</td>\n",
       "      <td>KAMIYAH</td>\n",
       "      <td>10</td>\n",
       "      <td>45</td>\n",
       "    </tr>\n",
       "    <tr>\n",
       "      <th>15163</th>\n",
       "      <td>2011</td>\n",
       "      <td>FEMALE</td>\n",
       "      <td>BLACK NON HISPANIC</td>\n",
       "      <td>KENYA</td>\n",
       "      <td>10</td>\n",
       "      <td>45</td>\n",
       "    </tr>\n",
       "    <tr>\n",
       "      <th>15177</th>\n",
       "      <td>2011</td>\n",
       "      <td>FEMALE</td>\n",
       "      <td>BLACK NON HISPANIC</td>\n",
       "      <td>MACKENZIE</td>\n",
       "      <td>10</td>\n",
       "      <td>45</td>\n",
       "    </tr>\n",
       "    <tr>\n",
       "      <th>15185</th>\n",
       "      <td>2011</td>\n",
       "      <td>FEMALE</td>\n",
       "      <td>BLACK NON HISPANIC</td>\n",
       "      <td>MARYAM</td>\n",
       "      <td>10</td>\n",
       "      <td>45</td>\n",
       "    </tr>\n",
       "    <tr>\n",
       "      <th>15197</th>\n",
       "      <td>2011</td>\n",
       "      <td>FEMALE</td>\n",
       "      <td>BLACK NON HISPANIC</td>\n",
       "      <td>NANA</td>\n",
       "      <td>10</td>\n",
       "      <td>45</td>\n",
       "    </tr>\n",
       "    <tr>\n",
       "      <th>15210</th>\n",
       "      <td>2011</td>\n",
       "      <td>FEMALE</td>\n",
       "      <td>BLACK NON HISPANIC</td>\n",
       "      <td>RACHEL</td>\n",
       "      <td>10</td>\n",
       "      <td>45</td>\n",
       "    </tr>\n",
       "    <tr>\n",
       "      <th>15216</th>\n",
       "      <td>2011</td>\n",
       "      <td>FEMALE</td>\n",
       "      <td>BLACK NON HISPANIC</td>\n",
       "      <td>SAMIYA</td>\n",
       "      <td>10</td>\n",
       "      <td>45</td>\n",
       "    </tr>\n",
       "    <tr>\n",
       "      <th>15235</th>\n",
       "      <td>2011</td>\n",
       "      <td>FEMALE</td>\n",
       "      <td>BLACK NON HISPANIC</td>\n",
       "      <td>SORAYA</td>\n",
       "      <td>10</td>\n",
       "      <td>45</td>\n",
       "    </tr>\n",
       "    <tr>\n",
       "      <th>15239</th>\n",
       "      <td>2011</td>\n",
       "      <td>FEMALE</td>\n",
       "      <td>BLACK NON HISPANIC</td>\n",
       "      <td>TABITHA</td>\n",
       "      <td>10</td>\n",
       "      <td>45</td>\n",
       "    </tr>\n",
       "    <tr>\n",
       "      <th>15248</th>\n",
       "      <td>2011</td>\n",
       "      <td>FEMALE</td>\n",
       "      <td>BLACK NON HISPANIC</td>\n",
       "      <td>ZAHARA</td>\n",
       "      <td>10</td>\n",
       "      <td>45</td>\n",
       "    </tr>\n",
       "    <tr>\n",
       "      <th>15249</th>\n",
       "      <td>2011</td>\n",
       "      <td>FEMALE</td>\n",
       "      <td>BLACK NON HISPANIC</td>\n",
       "      <td>ZANIYAH</td>\n",
       "      <td>10</td>\n",
       "      <td>45</td>\n",
       "    </tr>\n",
       "    <tr>\n",
       "      <th>15255</th>\n",
       "      <td>2011</td>\n",
       "      <td>FEMALE</td>\n",
       "      <td>BLACK NON HISPANIC</td>\n",
       "      <td>ZURI</td>\n",
       "      <td>10</td>\n",
       "      <td>45</td>\n",
       "    </tr>\n",
       "    <tr>\n",
       "      <th>15257</th>\n",
       "      <td>2011</td>\n",
       "      <td>FEMALE</td>\n",
       "      <td>HISPANIC</td>\n",
       "      <td>ABBY</td>\n",
       "      <td>10</td>\n",
       "      <td>78</td>\n",
       "    </tr>\n",
       "    <tr>\n",
       "      <th>15301</th>\n",
       "      <td>2011</td>\n",
       "      <td>FEMALE</td>\n",
       "      <td>HISPANIC</td>\n",
       "      <td>ARIANNY</td>\n",
       "      <td>10</td>\n",
       "      <td>78</td>\n",
       "    </tr>\n",
       "    <tr>\n",
       "      <th>15317</th>\n",
       "      <td>2011</td>\n",
       "      <td>FEMALE</td>\n",
       "      <td>HISPANIC</td>\n",
       "      <td>BRIANNY</td>\n",
       "      <td>10</td>\n",
       "      <td>78</td>\n",
       "    </tr>\n",
       "    <tr>\n",
       "      <th>15326</th>\n",
       "      <td>2011</td>\n",
       "      <td>FEMALE</td>\n",
       "      <td>HISPANIC</td>\n",
       "      <td>CASSANDRA</td>\n",
       "      <td>10</td>\n",
       "      <td>78</td>\n",
       "    </tr>\n",
       "    <tr>\n",
       "      <th>15334</th>\n",
       "      <td>2011</td>\n",
       "      <td>FEMALE</td>\n",
       "      <td>HISPANIC</td>\n",
       "      <td>CRISTINA</td>\n",
       "      <td>10</td>\n",
       "      <td>78</td>\n",
       "    </tr>\n",
       "    <tr>\n",
       "      <th>15336</th>\n",
       "      <td>2011</td>\n",
       "      <td>FEMALE</td>\n",
       "      <td>HISPANIC</td>\n",
       "      <td>CYNTHIA</td>\n",
       "      <td>10</td>\n",
       "      <td>78</td>\n",
       "    </tr>\n",
       "  </tbody>\n",
       "</table>\n",
       "<p>22035 rows × 6 columns</p>\n",
       "</div>"
      ],
      "text/plain": [
       "       Year of Birth  Gender                   Ethnicity Child's First Name  \\\n",
       "13514           2014    MALE                    HISPANIC               Liam   \n",
       "21143           2014    MALE                    HISPANIC               Liam   \n",
       "13782           2014    MALE          WHITE NON HISPANIC             Joseph   \n",
       "21855           2014    MALE          WHITE NON HISPANIC             Joseph   \n",
       "13400           2014    MALE                    HISPANIC              Dylan   \n",
       "13451           2014    MALE                    HISPANIC              Jacob   \n",
       "21029           2014    MALE                    HISPANIC              Dylan   \n",
       "21080           2014    MALE                    HISPANIC              Jacob   \n",
       "13562           2014    MALE                    HISPANIC               Noah   \n",
       "21191           2014    MALE                    HISPANIC               Noah   \n",
       "13692           2014    MALE          WHITE NON HISPANIC              David   \n",
       "21765           2014    MALE          WHITE NON HISPANIC              David   \n",
       "13837           2014    MALE          WHITE NON HISPANIC            Michael   \n",
       "21910           2014    MALE          WHITE NON HISPANIC            Michael   \n",
       "13848           2014    MALE          WHITE NON HISPANIC              Moshe   \n",
       "21921           2014    MALE          WHITE NON HISPANIC              Moshe   \n",
       "13467           2014    MALE                    HISPANIC             Jayden   \n",
       "21096           2014    MALE                    HISPANIC             Jayden   \n",
       "13419           2014    MALE                    HISPANIC              Ethan   \n",
       "21048           2014    MALE                    HISPANIC              Ethan   \n",
       "13540           2014    MALE                    HISPANIC            Matthew   \n",
       "21169           2014    MALE                    HISPANIC            Matthew   \n",
       "13765           2014    MALE          WHITE NON HISPANIC              Jacob   \n",
       "21838           2014    MALE          WHITE NON HISPANIC              Jacob   \n",
       "13589           2014    MALE                    HISPANIC          Sebastian   \n",
       "21218           2014    MALE                    HISPANIC          Sebastian   \n",
       "13655           2014    MALE          WHITE NON HISPANIC           Benjamin   \n",
       "21284           2014    MALE          WHITE NON HISPANIC           Benjamin   \n",
       "13626           2014    MALE          WHITE NON HISPANIC          Alexander   \n",
       "21255           2014    MALE          WHITE NON HISPANIC          Alexander   \n",
       "...              ...     ...                         ...                ...   \n",
       "15006           2011  FEMALE  ASIAN AND PACIFIC ISLANDER               KATE   \n",
       "15017           2011  FEMALE  ASIAN AND PACIFIC ISLANDER              LEELA   \n",
       "15021           2011  FEMALE  ASIAN AND PACIFIC ISLANDER             MAGGIE   \n",
       "15025           2011  FEMALE  ASIAN AND PACIFIC ISLANDER              MEGAN   \n",
       "15040           2011  FEMALE  ASIAN AND PACIFIC ISLANDER              RENEE   \n",
       "15056           2011  FEMALE  ASIAN AND PACIFIC ISLANDER            TANISHA   \n",
       "15076           2011  FEMALE          BLACK NON HISPANIC              AISHA   \n",
       "15112           2011  FEMALE          BLACK NON HISPANIC           CHEYENNE   \n",
       "15124           2011  FEMALE          BLACK NON HISPANIC               ERIN   \n",
       "15145           2011  FEMALE          BLACK NON HISPANIC            JALIYAH   \n",
       "15153           2011  FEMALE          BLACK NON HISPANIC              JULIA   \n",
       "15154           2011  FEMALE          BLACK NON HISPANIC                KAI   \n",
       "15157           2011  FEMALE          BLACK NON HISPANIC            KAMIYAH   \n",
       "15163           2011  FEMALE          BLACK NON HISPANIC              KENYA   \n",
       "15177           2011  FEMALE          BLACK NON HISPANIC          MACKENZIE   \n",
       "15185           2011  FEMALE          BLACK NON HISPANIC             MARYAM   \n",
       "15197           2011  FEMALE          BLACK NON HISPANIC               NANA   \n",
       "15210           2011  FEMALE          BLACK NON HISPANIC             RACHEL   \n",
       "15216           2011  FEMALE          BLACK NON HISPANIC             SAMIYA   \n",
       "15235           2011  FEMALE          BLACK NON HISPANIC             SORAYA   \n",
       "15239           2011  FEMALE          BLACK NON HISPANIC            TABITHA   \n",
       "15248           2011  FEMALE          BLACK NON HISPANIC             ZAHARA   \n",
       "15249           2011  FEMALE          BLACK NON HISPANIC            ZANIYAH   \n",
       "15255           2011  FEMALE          BLACK NON HISPANIC               ZURI   \n",
       "15257           2011  FEMALE                    HISPANIC               ABBY   \n",
       "15301           2011  FEMALE                    HISPANIC            ARIANNY   \n",
       "15317           2011  FEMALE                    HISPANIC            BRIANNY   \n",
       "15326           2011  FEMALE                    HISPANIC          CASSANDRA   \n",
       "15334           2011  FEMALE                    HISPANIC           CRISTINA   \n",
       "15336           2011  FEMALE                    HISPANIC            CYNTHIA   \n",
       "\n",
       "       Count  Rank  \n",
       "13514    312     1  \n",
       "21143    312     1  \n",
       "13782    300     1  \n",
       "21855    300     1  \n",
       "13400    292     2  \n",
       "13451    292     2  \n",
       "21029    292     2  \n",
       "21080    292     2  \n",
       "13562    282     3  \n",
       "21191    282     3  \n",
       "13692    272     2  \n",
       "21765    272     2  \n",
       "13837    268     3  \n",
       "21910    268     3  \n",
       "13848    267     4  \n",
       "21921    267     4  \n",
       "13467    266     4  \n",
       "21096    266     4  \n",
       "13419    262     5  \n",
       "21048    262     5  \n",
       "13540    257     6  \n",
       "21169    257     6  \n",
       "13765    256     5  \n",
       "21838    256     5  \n",
       "13589    241     7  \n",
       "21218    241     7  \n",
       "13655    233     6  \n",
       "21284    233     6  \n",
       "13626    225     7  \n",
       "21255    225     7  \n",
       "...      ...   ...  \n",
       "15006     10    38  \n",
       "15017     10    38  \n",
       "15021     10    38  \n",
       "15025     10    38  \n",
       "15040     10    38  \n",
       "15056     10    38  \n",
       "15076     10    45  \n",
       "15112     10    45  \n",
       "15124     10    45  \n",
       "15145     10    45  \n",
       "15153     10    45  \n",
       "15154     10    45  \n",
       "15157     10    45  \n",
       "15163     10    45  \n",
       "15177     10    45  \n",
       "15185     10    45  \n",
       "15197     10    45  \n",
       "15210     10    45  \n",
       "15216     10    45  \n",
       "15235     10    45  \n",
       "15239     10    45  \n",
       "15248     10    45  \n",
       "15249     10    45  \n",
       "15255     10    45  \n",
       "15257     10    78  \n",
       "15301     10    78  \n",
       "15317     10    78  \n",
       "15326     10    78  \n",
       "15334     10    78  \n",
       "15336     10    78  \n",
       "\n",
       "[22035 rows x 6 columns]"
      ]
     },
     "execution_count": 353,
     "metadata": {},
     "output_type": "execute_result"
    }
   ],
   "source": [
    "data.sort_values(['Year of Birth','Gender','Count'],ascending=False)"
   ]
  },
  {
   "cell_type": "markdown",
   "metadata": {
    "collapsed": true
   },
   "source": [
    "** Busquemos un nombre en especial, p.e. EMMA\n",
    "Esto se hace con la función: data.loc[df['column_name'] == some_value]**"
   ]
  },
  {
   "cell_type": "code",
   "execution_count": 371,
   "metadata": {},
   "outputs": [
    {
     "data": {
      "text/html": [
       "<div>\n",
       "<style>\n",
       "    .dataframe thead tr:only-child th {\n",
       "        text-align: right;\n",
       "    }\n",
       "\n",
       "    .dataframe thead th {\n",
       "        text-align: left;\n",
       "    }\n",
       "\n",
       "    .dataframe tbody tr th {\n",
       "        vertical-align: top;\n",
       "    }\n",
       "</style>\n",
       "<table border=\"1\" class=\"dataframe\">\n",
       "  <thead>\n",
       "    <tr style=\"text-align: right;\">\n",
       "      <th></th>\n",
       "      <th>Year of Birth</th>\n",
       "      <th>Gender</th>\n",
       "      <th>Ethnicity</th>\n",
       "      <th>Child's First Name</th>\n",
       "      <th>Count</th>\n",
       "      <th>Rank</th>\n",
       "    </tr>\n",
       "  </thead>\n",
       "  <tbody>\n",
       "    <tr>\n",
       "      <th>319</th>\n",
       "      <td>2011</td>\n",
       "      <td>FEMALE</td>\n",
       "      <td>WHITE NON HISPANIC</td>\n",
       "      <td>EMMA</td>\n",
       "      <td>213</td>\n",
       "      <td>2</td>\n",
       "    </tr>\n",
       "    <tr>\n",
       "      <th>1009</th>\n",
       "      <td>2011</td>\n",
       "      <td>FEMALE</td>\n",
       "      <td>ASIAN AND PACIFIC ISLANDER</td>\n",
       "      <td>EMMA</td>\n",
       "      <td>75</td>\n",
       "      <td>5</td>\n",
       "    </tr>\n",
       "    <tr>\n",
       "      <th>1161</th>\n",
       "      <td>2011</td>\n",
       "      <td>FEMALE</td>\n",
       "      <td>BLACK NON HISPANIC</td>\n",
       "      <td>EMMA</td>\n",
       "      <td>15</td>\n",
       "      <td>40</td>\n",
       "    </tr>\n",
       "    <tr>\n",
       "      <th>1398</th>\n",
       "      <td>2011</td>\n",
       "      <td>FEMALE</td>\n",
       "      <td>HISPANIC</td>\n",
       "      <td>EMMA</td>\n",
       "      <td>114</td>\n",
       "      <td>11</td>\n",
       "    </tr>\n",
       "    <tr>\n",
       "      <th>2481</th>\n",
       "      <td>2011</td>\n",
       "      <td>FEMALE</td>\n",
       "      <td>ASIAN AND PACIFIC ISLANDER</td>\n",
       "      <td>EMMA</td>\n",
       "      <td>75</td>\n",
       "      <td>5</td>\n",
       "    </tr>\n",
       "    <tr>\n",
       "      <th>2633</th>\n",
       "      <td>2011</td>\n",
       "      <td>FEMALE</td>\n",
       "      <td>BLACK NON HISPANIC</td>\n",
       "      <td>EMMA</td>\n",
       "      <td>15</td>\n",
       "      <td>40</td>\n",
       "    </tr>\n",
       "    <tr>\n",
       "      <th>2870</th>\n",
       "      <td>2011</td>\n",
       "      <td>FEMALE</td>\n",
       "      <td>HISPANIC</td>\n",
       "      <td>EMMA</td>\n",
       "      <td>114</td>\n",
       "      <td>11</td>\n",
       "    </tr>\n",
       "    <tr>\n",
       "      <th>3203</th>\n",
       "      <td>2011</td>\n",
       "      <td>FEMALE</td>\n",
       "      <td>WHITE NON HISPANIC</td>\n",
       "      <td>EMMA</td>\n",
       "      <td>213</td>\n",
       "      <td>2</td>\n",
       "    </tr>\n",
       "    <tr>\n",
       "      <th>3981</th>\n",
       "      <td>2011</td>\n",
       "      <td>FEMALE</td>\n",
       "      <td>ASIAN AND PACIFIC ISLANDER</td>\n",
       "      <td>EMMA</td>\n",
       "      <td>75</td>\n",
       "      <td>5</td>\n",
       "    </tr>\n",
       "    <tr>\n",
       "      <th>4133</th>\n",
       "      <td>2011</td>\n",
       "      <td>FEMALE</td>\n",
       "      <td>BLACK NON HISPANIC</td>\n",
       "      <td>EMMA</td>\n",
       "      <td>15</td>\n",
       "      <td>40</td>\n",
       "    </tr>\n",
       "    <tr>\n",
       "      <th>4370</th>\n",
       "      <td>2011</td>\n",
       "      <td>FEMALE</td>\n",
       "      <td>HISPANIC</td>\n",
       "      <td>EMMA</td>\n",
       "      <td>114</td>\n",
       "      <td>11</td>\n",
       "    </tr>\n",
       "    <tr>\n",
       "      <th>4703</th>\n",
       "      <td>2011</td>\n",
       "      <td>FEMALE</td>\n",
       "      <td>WHITE NON HISPANIC</td>\n",
       "      <td>EMMA</td>\n",
       "      <td>213</td>\n",
       "      <td>2</td>\n",
       "    </tr>\n",
       "    <tr>\n",
       "      <th>5944</th>\n",
       "      <td>2011</td>\n",
       "      <td>FEMALE</td>\n",
       "      <td>ASIAN AND PACIFIC ISLANDER</td>\n",
       "      <td>EMMA</td>\n",
       "      <td>75</td>\n",
       "      <td>5</td>\n",
       "    </tr>\n",
       "    <tr>\n",
       "      <th>6096</th>\n",
       "      <td>2011</td>\n",
       "      <td>FEMALE</td>\n",
       "      <td>BLACK NON HISPANIC</td>\n",
       "      <td>EMMA</td>\n",
       "      <td>15</td>\n",
       "      <td>40</td>\n",
       "    </tr>\n",
       "    <tr>\n",
       "      <th>6333</th>\n",
       "      <td>2011</td>\n",
       "      <td>FEMALE</td>\n",
       "      <td>HISPANIC</td>\n",
       "      <td>EMMA</td>\n",
       "      <td>114</td>\n",
       "      <td>11</td>\n",
       "    </tr>\n",
       "    <tr>\n",
       "      <th>6666</th>\n",
       "      <td>2011</td>\n",
       "      <td>FEMALE</td>\n",
       "      <td>WHITE NON HISPANIC</td>\n",
       "      <td>EMMA</td>\n",
       "      <td>213</td>\n",
       "      <td>2</td>\n",
       "    </tr>\n",
       "    <tr>\n",
       "      <th>7918</th>\n",
       "      <td>2012</td>\n",
       "      <td>FEMALE</td>\n",
       "      <td>ASIAN AND PACI</td>\n",
       "      <td>EMMA</td>\n",
       "      <td>97</td>\n",
       "      <td>5</td>\n",
       "    </tr>\n",
       "    <tr>\n",
       "      <th>8084</th>\n",
       "      <td>2012</td>\n",
       "      <td>FEMALE</td>\n",
       "      <td>BLACK NON HISP</td>\n",
       "      <td>EMMA</td>\n",
       "      <td>27</td>\n",
       "      <td>31</td>\n",
       "    </tr>\n",
       "    <tr>\n",
       "      <th>8302</th>\n",
       "      <td>2012</td>\n",
       "      <td>FEMALE</td>\n",
       "      <td>HISPANIC</td>\n",
       "      <td>EMMA</td>\n",
       "      <td>125</td>\n",
       "      <td>9</td>\n",
       "    </tr>\n",
       "    <tr>\n",
       "      <th>8619</th>\n",
       "      <td>2012</td>\n",
       "      <td>FEMALE</td>\n",
       "      <td>WHITE NON HISP</td>\n",
       "      <td>EMMA</td>\n",
       "      <td>228</td>\n",
       "      <td>1</td>\n",
       "    </tr>\n",
       "    <tr>\n",
       "      <th>14281</th>\n",
       "      <td>2011</td>\n",
       "      <td>FEMALE</td>\n",
       "      <td>WHITE NON HISPANIC</td>\n",
       "      <td>EMMA</td>\n",
       "      <td>213</td>\n",
       "      <td>2</td>\n",
       "    </tr>\n",
       "    <tr>\n",
       "      <th>14971</th>\n",
       "      <td>2011</td>\n",
       "      <td>FEMALE</td>\n",
       "      <td>ASIAN AND PACIFIC ISLANDER</td>\n",
       "      <td>EMMA</td>\n",
       "      <td>75</td>\n",
       "      <td>5</td>\n",
       "    </tr>\n",
       "    <tr>\n",
       "      <th>15123</th>\n",
       "      <td>2011</td>\n",
       "      <td>FEMALE</td>\n",
       "      <td>BLACK NON HISPANIC</td>\n",
       "      <td>EMMA</td>\n",
       "      <td>15</td>\n",
       "      <td>40</td>\n",
       "    </tr>\n",
       "    <tr>\n",
       "      <th>15360</th>\n",
       "      <td>2011</td>\n",
       "      <td>FEMALE</td>\n",
       "      <td>HISPANIC</td>\n",
       "      <td>EMMA</td>\n",
       "      <td>114</td>\n",
       "      <td>11</td>\n",
       "    </tr>\n",
       "    <tr>\n",
       "      <th>15478</th>\n",
       "      <td>2012</td>\n",
       "      <td>FEMALE</td>\n",
       "      <td>ASIAN AND PACI</td>\n",
       "      <td>EMMA</td>\n",
       "      <td>97</td>\n",
       "      <td>5</td>\n",
       "    </tr>\n",
       "    <tr>\n",
       "      <th>15644</th>\n",
       "      <td>2012</td>\n",
       "      <td>FEMALE</td>\n",
       "      <td>BLACK NON HISP</td>\n",
       "      <td>EMMA</td>\n",
       "      <td>27</td>\n",
       "      <td>31</td>\n",
       "    </tr>\n",
       "    <tr>\n",
       "      <th>15862</th>\n",
       "      <td>2012</td>\n",
       "      <td>FEMALE</td>\n",
       "      <td>HISPANIC</td>\n",
       "      <td>EMMA</td>\n",
       "      <td>125</td>\n",
       "      <td>9</td>\n",
       "    </tr>\n",
       "    <tr>\n",
       "      <th>17208</th>\n",
       "      <td>2012</td>\n",
       "      <td>FEMALE</td>\n",
       "      <td>WHITE NON HISP</td>\n",
       "      <td>EMMA</td>\n",
       "      <td>228</td>\n",
       "      <td>1</td>\n",
       "    </tr>\n",
       "  </tbody>\n",
       "</table>\n",
       "</div>"
      ],
      "text/plain": [
       "       Year of Birth  Gender                   Ethnicity Child's First Name  \\\n",
       "319             2011  FEMALE          WHITE NON HISPANIC               EMMA   \n",
       "1009            2011  FEMALE  ASIAN AND PACIFIC ISLANDER               EMMA   \n",
       "1161            2011  FEMALE          BLACK NON HISPANIC               EMMA   \n",
       "1398            2011  FEMALE                    HISPANIC               EMMA   \n",
       "2481            2011  FEMALE  ASIAN AND PACIFIC ISLANDER               EMMA   \n",
       "2633            2011  FEMALE          BLACK NON HISPANIC               EMMA   \n",
       "2870            2011  FEMALE                    HISPANIC               EMMA   \n",
       "3203            2011  FEMALE          WHITE NON HISPANIC               EMMA   \n",
       "3981            2011  FEMALE  ASIAN AND PACIFIC ISLANDER               EMMA   \n",
       "4133            2011  FEMALE          BLACK NON HISPANIC               EMMA   \n",
       "4370            2011  FEMALE                    HISPANIC               EMMA   \n",
       "4703            2011  FEMALE          WHITE NON HISPANIC               EMMA   \n",
       "5944            2011  FEMALE  ASIAN AND PACIFIC ISLANDER               EMMA   \n",
       "6096            2011  FEMALE          BLACK NON HISPANIC               EMMA   \n",
       "6333            2011  FEMALE                    HISPANIC               EMMA   \n",
       "6666            2011  FEMALE          WHITE NON HISPANIC               EMMA   \n",
       "7918            2012  FEMALE              ASIAN AND PACI               EMMA   \n",
       "8084            2012  FEMALE              BLACK NON HISP               EMMA   \n",
       "8302            2012  FEMALE                    HISPANIC               EMMA   \n",
       "8619            2012  FEMALE              WHITE NON HISP               EMMA   \n",
       "14281           2011  FEMALE          WHITE NON HISPANIC               EMMA   \n",
       "14971           2011  FEMALE  ASIAN AND PACIFIC ISLANDER               EMMA   \n",
       "15123           2011  FEMALE          BLACK NON HISPANIC               EMMA   \n",
       "15360           2011  FEMALE                    HISPANIC               EMMA   \n",
       "15478           2012  FEMALE              ASIAN AND PACI               EMMA   \n",
       "15644           2012  FEMALE              BLACK NON HISP               EMMA   \n",
       "15862           2012  FEMALE                    HISPANIC               EMMA   \n",
       "17208           2012  FEMALE              WHITE NON HISP               EMMA   \n",
       "\n",
       "       Count  Rank  \n",
       "319      213     2  \n",
       "1009      75     5  \n",
       "1161      15    40  \n",
       "1398     114    11  \n",
       "2481      75     5  \n",
       "2633      15    40  \n",
       "2870     114    11  \n",
       "3203     213     2  \n",
       "3981      75     5  \n",
       "4133      15    40  \n",
       "4370     114    11  \n",
       "4703     213     2  \n",
       "5944      75     5  \n",
       "6096      15    40  \n",
       "6333     114    11  \n",
       "6666     213     2  \n",
       "7918      97     5  \n",
       "8084      27    31  \n",
       "8302     125     9  \n",
       "8619     228     1  \n",
       "14281    213     2  \n",
       "14971     75     5  \n",
       "15123     15    40  \n",
       "15360    114    11  \n",
       "15478     97     5  \n",
       "15644     27    31  \n",
       "15862    125     9  \n",
       "17208    228     1  "
      ]
     },
     "execution_count": 371,
     "metadata": {},
     "output_type": "execute_result"
    }
   ],
   "source": [
    "data_ema = data.loc[data['Child\\'s First Name'] == \"EMMA\"]\n",
    "data_ema"
   ]
  },
  {
   "cell_type": "markdown",
   "metadata": {},
   "source": [
    "** Seleccionamos solo del año 2012 **"
   ]
  },
  {
   "cell_type": "code",
   "execution_count": 402,
   "metadata": {
    "collapsed": true
   },
   "outputs": [],
   "source": [
    "data_ema_2012 = data_ema.loc[data_ema['Year of Birth'] == 2012]"
   ]
  },
  {
   "cell_type": "code",
   "execution_count": 403,
   "metadata": {},
   "outputs": [
    {
     "data": {
      "text/html": [
       "<div>\n",
       "<style>\n",
       "    .dataframe thead tr:only-child th {\n",
       "        text-align: right;\n",
       "    }\n",
       "\n",
       "    .dataframe thead th {\n",
       "        text-align: left;\n",
       "    }\n",
       "\n",
       "    .dataframe tbody tr th {\n",
       "        vertical-align: top;\n",
       "    }\n",
       "</style>\n",
       "<table border=\"1\" class=\"dataframe\">\n",
       "  <thead>\n",
       "    <tr style=\"text-align: right;\">\n",
       "      <th></th>\n",
       "      <th>Year of Birth</th>\n",
       "      <th>Gender</th>\n",
       "      <th>Ethnicity</th>\n",
       "      <th>Child's First Name</th>\n",
       "      <th>Count</th>\n",
       "      <th>Rank</th>\n",
       "    </tr>\n",
       "  </thead>\n",
       "  <tbody>\n",
       "    <tr>\n",
       "      <th>7918</th>\n",
       "      <td>2012</td>\n",
       "      <td>FEMALE</td>\n",
       "      <td>ASIAN AND PACI</td>\n",
       "      <td>EMMA</td>\n",
       "      <td>97</td>\n",
       "      <td>5</td>\n",
       "    </tr>\n",
       "    <tr>\n",
       "      <th>8084</th>\n",
       "      <td>2012</td>\n",
       "      <td>FEMALE</td>\n",
       "      <td>BLACK NON HISP</td>\n",
       "      <td>EMMA</td>\n",
       "      <td>27</td>\n",
       "      <td>31</td>\n",
       "    </tr>\n",
       "    <tr>\n",
       "      <th>8302</th>\n",
       "      <td>2012</td>\n",
       "      <td>FEMALE</td>\n",
       "      <td>HISPANIC</td>\n",
       "      <td>EMMA</td>\n",
       "      <td>125</td>\n",
       "      <td>9</td>\n",
       "    </tr>\n",
       "    <tr>\n",
       "      <th>8619</th>\n",
       "      <td>2012</td>\n",
       "      <td>FEMALE</td>\n",
       "      <td>WHITE NON HISP</td>\n",
       "      <td>EMMA</td>\n",
       "      <td>228</td>\n",
       "      <td>1</td>\n",
       "    </tr>\n",
       "    <tr>\n",
       "      <th>15478</th>\n",
       "      <td>2012</td>\n",
       "      <td>FEMALE</td>\n",
       "      <td>ASIAN AND PACI</td>\n",
       "      <td>EMMA</td>\n",
       "      <td>97</td>\n",
       "      <td>5</td>\n",
       "    </tr>\n",
       "    <tr>\n",
       "      <th>15644</th>\n",
       "      <td>2012</td>\n",
       "      <td>FEMALE</td>\n",
       "      <td>BLACK NON HISP</td>\n",
       "      <td>EMMA</td>\n",
       "      <td>27</td>\n",
       "      <td>31</td>\n",
       "    </tr>\n",
       "    <tr>\n",
       "      <th>15862</th>\n",
       "      <td>2012</td>\n",
       "      <td>FEMALE</td>\n",
       "      <td>HISPANIC</td>\n",
       "      <td>EMMA</td>\n",
       "      <td>125</td>\n",
       "      <td>9</td>\n",
       "    </tr>\n",
       "    <tr>\n",
       "      <th>17208</th>\n",
       "      <td>2012</td>\n",
       "      <td>FEMALE</td>\n",
       "      <td>WHITE NON HISP</td>\n",
       "      <td>EMMA</td>\n",
       "      <td>228</td>\n",
       "      <td>1</td>\n",
       "    </tr>\n",
       "  </tbody>\n",
       "</table>\n",
       "</div>"
      ],
      "text/plain": [
       "       Year of Birth  Gender       Ethnicity Child's First Name  Count  Rank\n",
       "7918            2012  FEMALE  ASIAN AND PACI               EMMA     97     5\n",
       "8084            2012  FEMALE  BLACK NON HISP               EMMA     27    31\n",
       "8302            2012  FEMALE        HISPANIC               EMMA    125     9\n",
       "8619            2012  FEMALE  WHITE NON HISP               EMMA    228     1\n",
       "15478           2012  FEMALE  ASIAN AND PACI               EMMA     97     5\n",
       "15644           2012  FEMALE  BLACK NON HISP               EMMA     27    31\n",
       "15862           2012  FEMALE        HISPANIC               EMMA    125     9\n",
       "17208           2012  FEMALE  WHITE NON HISP               EMMA    228     1"
      ]
     },
     "execution_count": 403,
     "metadata": {},
     "output_type": "execute_result"
    }
   ],
   "source": [
    "data_ema_2012"
   ]
  },
  {
   "cell_type": "markdown",
   "metadata": {},
   "source": [
    "**Ahora sumamos el número de veces que se dio el nombre EMMA considerando que los datos están duplicados **"
   ]
  },
  {
   "cell_type": "code",
   "execution_count": 404,
   "metadata": {},
   "outputs": [
    {
     "data": {
      "text/plain": [
       "477.0"
      ]
     },
     "execution_count": 404,
     "metadata": {},
     "output_type": "execute_result"
    }
   ],
   "source": [
    "numero_EMMA_2012 = data_ema_2012['Count'].sum() / 2.0\n",
    "numero_EMMA_2012"
   ]
  },
  {
   "cell_type": "code",
   "execution_count": 405,
   "metadata": {},
   "outputs": [
    {
     "data": {
      "text/plain": [
       "Index(['Year of Birth', 'Gender', 'Ethnicity', 'Child's First Name', 'Count',\n",
       "       'Rank'],\n",
       "      dtype='object')"
      ]
     },
     "execution_count": 405,
     "metadata": {},
     "output_type": "execute_result"
    }
   ],
   "source": [
    "data_ema_2012.columns"
   ]
  },
  {
   "cell_type": "markdown",
   "metadata": {},
   "source": [
    "** Borramos los que están duplicados **"
   ]
  },
  {
   "cell_type": "code",
   "execution_count": 407,
   "metadata": {},
   "outputs": [
    {
     "data": {
      "text/html": [
       "<div>\n",
       "<style>\n",
       "    .dataframe thead tr:only-child th {\n",
       "        text-align: right;\n",
       "    }\n",
       "\n",
       "    .dataframe thead th {\n",
       "        text-align: left;\n",
       "    }\n",
       "\n",
       "    .dataframe tbody tr th {\n",
       "        vertical-align: top;\n",
       "    }\n",
       "</style>\n",
       "<table border=\"1\" class=\"dataframe\">\n",
       "  <thead>\n",
       "    <tr style=\"text-align: right;\">\n",
       "      <th></th>\n",
       "      <th>Year of Birth</th>\n",
       "      <th>Gender</th>\n",
       "      <th>Ethnicity</th>\n",
       "      <th>Child's First Name</th>\n",
       "      <th>Count</th>\n",
       "      <th>Rank</th>\n",
       "    </tr>\n",
       "  </thead>\n",
       "  <tbody>\n",
       "    <tr>\n",
       "      <th>7918</th>\n",
       "      <td>2012</td>\n",
       "      <td>FEMALE</td>\n",
       "      <td>ASIAN AND PACI</td>\n",
       "      <td>EMMA</td>\n",
       "      <td>97</td>\n",
       "      <td>5</td>\n",
       "    </tr>\n",
       "    <tr>\n",
       "      <th>8084</th>\n",
       "      <td>2012</td>\n",
       "      <td>FEMALE</td>\n",
       "      <td>BLACK NON HISP</td>\n",
       "      <td>EMMA</td>\n",
       "      <td>27</td>\n",
       "      <td>31</td>\n",
       "    </tr>\n",
       "    <tr>\n",
       "      <th>8302</th>\n",
       "      <td>2012</td>\n",
       "      <td>FEMALE</td>\n",
       "      <td>HISPANIC</td>\n",
       "      <td>EMMA</td>\n",
       "      <td>125</td>\n",
       "      <td>9</td>\n",
       "    </tr>\n",
       "    <tr>\n",
       "      <th>8619</th>\n",
       "      <td>2012</td>\n",
       "      <td>FEMALE</td>\n",
       "      <td>WHITE NON HISP</td>\n",
       "      <td>EMMA</td>\n",
       "      <td>228</td>\n",
       "      <td>1</td>\n",
       "    </tr>\n",
       "  </tbody>\n",
       "</table>\n",
       "</div>"
      ],
      "text/plain": [
       "      Year of Birth  Gender       Ethnicity Child's First Name  Count  Rank\n",
       "7918           2012  FEMALE  ASIAN AND PACI               EMMA     97     5\n",
       "8084           2012  FEMALE  BLACK NON HISP               EMMA     27    31\n",
       "8302           2012  FEMALE        HISPANIC               EMMA    125     9\n",
       "8619           2012  FEMALE  WHITE NON HISP               EMMA    228     1"
      ]
     },
     "execution_count": 407,
     "metadata": {},
     "output_type": "execute_result"
    }
   ],
   "source": [
    "data_ema_2012_corr = data_ema_2012.drop_duplicates(subset=['Ethnicity'])\n",
    "data_ema_2012_corr"
   ]
  },
  {
   "cell_type": "code",
   "execution_count": 410,
   "metadata": {},
   "outputs": [
    {
     "data": {
      "text/plain": [
       "477"
      ]
     },
     "execution_count": 410,
     "metadata": {},
     "output_type": "execute_result"
    }
   ],
   "source": [
    "numero_EMMA_2012 = data_ema_2012_corr['Count'].sum()\n",
    "numero_EMMA_2012"
   ]
  },
  {
   "cell_type": "markdown",
   "metadata": {},
   "source": [
    "** Con los datos ordenados y filtrados se puede realizar el gráfico **"
   ]
  },
  {
   "cell_type": "code",
   "execution_count": 414,
   "metadata": {},
   "outputs": [
    {
     "data": {
      "text/plain": [
       "<matplotlib.axes._subplots.AxesSubplot at 0x1181fe710>"
      ]
     },
     "execution_count": 414,
     "metadata": {},
     "output_type": "execute_result"
    },
    {
     "data": {
      "image/png": "[encoded data removed]",
      "text/plain": [
       "<matplotlib.figure.Figure at 0x1181e4d68>"
      ]
     },
     "metadata": {},
     "output_type": "display_data"
    }
   ],
   "source": [
    "data_ema_2012_corr.plot.bar(x='Ethnicity',y='Count')"
   ]
  },
  {
   "cell_type": "markdown",
   "metadata": {},
   "source": [
    "### Para mayor información sobre los atributos y métodos de la clase Dataframe en pandas ver:\n",
    "http://pandas.pydata.org/pandas-docs/stable/generated/pandas.DataFrame.html"
   ]
  }
 ],
 "metadata": {
  "anaconda-cloud": {},
  "kernelspec": {
   "display_name": "Python 3",
   "language": "python",
   "name": "python3"
  },
  "language_info": {
   "codemirror_mode": {
    "name": "ipython",
    "version": 3
   },
   "file_extension": ".py",
   "mimetype": "text/x-python",
   "name": "python",
   "nbconvert_exporter": "python",
   "pygments_lexer": "ipython3",
   "version": "3.6.2"
  }
 },
 "nbformat": 4,
 "nbformat_minor": 1
}
